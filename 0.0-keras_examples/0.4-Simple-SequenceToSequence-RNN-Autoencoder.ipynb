{
 "cells": [
  {
   "cell_type": "markdown",
   "metadata": {},
   "source": [
    "# 0.1-Simple-SequenceToSequence-RNN"
   ]
  },
  {
   "cell_type": "code",
   "execution_count": 1,
   "metadata": {},
   "outputs": [
    {
     "name": "stderr",
     "output_type": "stream",
     "text": [
      "Using TensorFlow backend.\n"
     ]
    },
    {
     "data": {
      "text/plain": [
       "['/job:localhost/replica:0/task:0/device:GPU:0']"
      ]
     },
     "execution_count": 1,
     "metadata": {},
     "output_type": "execute_result"
    }
   ],
   "source": [
    "import os\n",
    "os.environ[\"CUDA_VISIBLE_DEVICES\"]=\"3\"\n",
    "\n",
    "import tensorflow as tf\n",
    "from keras.backend.tensorflow_backend import set_session\n",
    "config = tf.ConfigProto()\n",
    "config.gpu_options.per_process_gpu_memory_fraction = 0.3\n",
    "set_session(tf.Session(config=config))\n",
    "\n",
    "from keras import backend as K\n",
    "K.tensorflow_backend._get_available_gpus()"
   ]
  },
  {
   "cell_type": "code",
   "execution_count": 6,
   "metadata": {},
   "outputs": [
    {
     "name": "stdout",
     "output_type": "stream",
     "text": [
      "(6, 3)\n",
      "(6, 3)\n"
     ]
    }
   ],
   "source": [
    "import numpy as np\n",
    "\n",
    "samples = 6\n",
    "timesteps = 3\n",
    "features = 1\n",
    "\n",
    "x_train = np.array([\n",
    "    [1, 1, 2], \n",
    "    [1, 2, 3], \n",
    "    [2, 3, 5], \n",
    "    [3, 5, 8], \n",
    "    [5, 8, 13], \n",
    "    [8, 13, 21]\n",
    "])\n",
    "\n",
    "y_train = np.array([\n",
    "    [3, 5, 8], \n",
    "    [5, 8, 13], \n",
    "    [8, 13, 21], \n",
    "    [13, 21, 34], \n",
    "    [21, 34, 55], \n",
    "    [34, 55, 89]\n",
    "])\n",
    "print(x_train.shape)\n",
    "print(y_train.shape)"
   ]
  },
  {
   "cell_type": "code",
   "execution_count": 7,
   "metadata": {},
   "outputs": [
    {
     "name": "stdout",
     "output_type": "stream",
     "text": [
      "(6, 3, 1)\n",
      "[[[ 1]\n",
      "  [ 1]\n",
      "  [ 2]]\n",
      "\n",
      " [[ 1]\n",
      "  [ 2]\n",
      "  [ 3]]\n",
      "\n",
      " [[ 2]\n",
      "  [ 3]\n",
      "  [ 5]]\n",
      "\n",
      " [[ 3]\n",
      "  [ 5]\n",
      "  [ 8]]\n",
      "\n",
      " [[ 5]\n",
      "  [ 8]\n",
      "  [13]]\n",
      "\n",
      " [[ 8]\n",
      "  [13]\n",
      "  [21]]]\n"
     ]
    }
   ],
   "source": [
    "# reshape input into [samples, timesteps, features]\n",
    "x_train = x_train.reshape((6, 3, 1))\n",
    "print(x_train.shape)\n",
    "print(x_train)"
   ]
  },
  {
   "cell_type": "code",
   "execution_count": 8,
   "metadata": {},
   "outputs": [
    {
     "name": "stdout",
     "output_type": "stream",
     "text": [
      "(6, 3, 1)\n",
      "[[[ 3]\n",
      "  [ 5]\n",
      "  [ 8]]\n",
      "\n",
      " [[ 5]\n",
      "  [ 8]\n",
      "  [13]]\n",
      "\n",
      " [[ 8]\n",
      "  [13]\n",
      "  [21]]\n",
      "\n",
      " [[13]\n",
      "  [21]\n",
      "  [34]]\n",
      "\n",
      " [[21]\n",
      "  [34]\n",
      "  [55]]\n",
      "\n",
      " [[34]\n",
      "  [55]\n",
      "  [89]]]\n"
     ]
    }
   ],
   "source": [
    "# reshape input into [samples, timesteps, features]\n",
    "y_train = y_train.reshape((6, 3, 1))\n",
    "print(y_train.shape)\n",
    "print(y_train)"
   ]
  },
  {
   "cell_type": "code",
   "execution_count": 54,
   "metadata": {},
   "outputs": [],
   "source": [
    "from keras.models import Sequential\n",
    "from keras.layers import LSTM\n",
    "from keras.layers import Dense\n",
    "from keras.layers import RepeatVector\n",
    "from keras.layers import TimeDistributed\n",
    "from keras.utils import plot_model\n",
    "\n",
    "# Define model\n",
    "model = Sequential()\n",
    "n_in = 3\n",
    "\n",
    "# returns a sequence of vectors of dimension 100\n",
    "model.add(LSTM(units=100, activation='relu', input_shape=(n_in,1)))\n",
    "model.add(RepeatVector(n_in))\n",
    "\n",
    "# returns a sequence of vectors of dimension 100\n",
    "model.add(LSTM(100, activation='relu', return_sequences=True))\n",
    "model.add(TimeDistributed(Dense(1)))\n",
    "\n",
    "# Compile model\n",
    "model.compile(optimizer='adam', loss='mse', metrics = ['accuracy'])\n",
    "plot_model(model, show_shapes=True, to_file='reconstruct_lstm_autoencoder.png')\n",
    "\n",
    "# fit model\n",
    "model.fit(x_train, y_train, epochs=1000, batch_size=6, verbose=0)\n",
    "\n",
    "# demonstrate recreation\n",
    "yhat = model.predict(x_train, verbose=0)"
   ]
  },
  {
   "cell_type": "code",
   "execution_count": 55,
   "metadata": {},
   "outputs": [
    {
     "name": "stdout",
     "output_type": "stream",
     "text": [
      "[[[ 3.2451406]\n",
      "  [ 5.0855417]\n",
      "  [ 8.001696 ]]\n",
      "\n",
      " [[ 4.718005 ]\n",
      "  [ 7.908141 ]\n",
      "  [12.992541 ]]\n",
      "\n",
      " [[ 8.073333 ]\n",
      "  [13.033678 ]\n",
      "  [20.994324 ]]\n",
      "\n",
      " [[12.98729  ]\n",
      "  [21.00585  ]\n",
      "  [33.998844 ]]\n",
      "\n",
      " [[21.002686 ]\n",
      "  [33.992188 ]\n",
      "  [54.998837 ]]\n",
      "\n",
      " [[34.00139  ]\n",
      "  [55.00249  ]\n",
      "  [88.992325 ]]]\n",
      "[[ 3.2451406  5.0855417  8.001696 ]\n",
      " [ 4.718005   7.908141  12.992541 ]\n",
      " [ 8.073333  13.033678  20.994324 ]\n",
      " [12.98729   21.00585   33.998844 ]\n",
      " [21.002686  33.992188  54.998837 ]\n",
      " [34.00139   55.00249   88.992325 ]]\n",
      "[[ 3.  5.  8.]\n",
      " [ 5.  8. 13.]\n",
      " [ 8. 13. 21.]\n",
      " [13. 21. 34.]\n",
      " [21. 34. 55.]\n",
      " [34. 55. 89.]]\n"
     ]
    }
   ],
   "source": [
    "print(yhat)\n",
    "print(yhat[:,:,0])\n",
    "print(np.round(yhat[:,:,0]))"
   ]
  },
  {
   "cell_type": "code",
   "execution_count": 56,
   "metadata": {},
   "outputs": [
    {
     "name": "stdout",
     "output_type": "stream",
     "text": [
      "['loss', 'acc']\n"
     ]
    }
   ],
   "source": [
    "print(model.metrics_names)\n",
    "score = model.evaluate(x_train, y_train, verbose=0)"
   ]
  },
  {
   "cell_type": "code",
   "execution_count": 57,
   "metadata": {},
   "outputs": [
    {
     "name": "stdout",
     "output_type": "stream",
     "text": [
      "[0.009017043747007847, 1.0]\n"
     ]
    }
   ],
   "source": [
    "print(score)"
   ]
  }
 ],
 "metadata": {
  "kernelspec": {
   "display_name": "Python 3",
   "language": "python",
   "name": "python3"
  },
  "language_info": {
   "codemirror_mode": {
    "name": "ipython",
    "version": 3
   },
   "file_extension": ".py",
   "mimetype": "text/x-python",
   "name": "python",
   "nbconvert_exporter": "python",
   "pygments_lexer": "ipython3",
   "version": "3.6.6"
  }
 },
 "nbformat": 4,
 "nbformat_minor": 2
}
