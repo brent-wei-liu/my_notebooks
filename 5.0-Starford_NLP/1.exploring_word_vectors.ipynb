{
  "nbformat": 4,
  "nbformat_minor": 0,
  "metadata": {
    "colab": {
      "name": "exploring_word_vectors.ipynb",
      "provenance": [],
      "collapsed_sections": []
    },
    "language_info": {
      "codemirror_mode": {
        "name": "ipython",
        "version": 3
      },
      "file_extension": ".py",
      "mimetype": "text/x-python",
      "name": "python",
      "nbconvert_exporter": "python",
      "pygments_lexer": "ipython3",
      "version": "3.7.1"
    },
    "kernelspec": {
      "name": "python3",
      "display_name": "Python 3"
    },
    "accelerator": "GPU"
  },
  "cells": [
    {
      "cell_type": "markdown",
      "metadata": {
        "id": "1ZcUP8hOcIHt",
        "colab_type": "text"
      },
      "source": [
        "# XCS224N Assignment 1: Exploring Word Vectors (24 Points)\n",
        "\n",
        "Before you start, make sure you read \"XCS224N HW1 - Handout\"."
      ]
    },
    {
      "cell_type": "code",
      "metadata": {
        "id": "UMX2qGcLcIHx",
        "colab_type": "code",
        "outputId": "2fa7fed3-ae2a-49c1-84b4-59871204af27",
        "colab": {
          "base_uri": "https://localhost:8080/",
          "height": 34
        }
      },
      "source": [
        "# All Import Statements Defined Here\n",
        "# Note: Do not add to this list.\n",
        "# All the dependencies you need can be installed by running this cell.\n",
        "# Throughout this notebook you can run a cell by hitting CTRL+RETURN or the Play button/icon at left\n",
        "# ----------------\n",
        "\n",
        "import sys\n",
        "assert sys.version_info[0]==3\n",
        "assert sys.version_info[1] >= 5\n",
        "\n",
        "from gensim.models import KeyedVectors\n",
        "from gensim.test.utils import datapath\n",
        "import pprint\n",
        "import matplotlib.pyplot as plt\n",
        "plt.rcParams['figure.figsize'] = [10, 5]\n",
        "import nltk\n",
        "nltk.download('reuters')\n",
        "from nltk.corpus import reuters\n",
        "import numpy as np\n",
        "import random\n",
        "import scipy as sp\n",
        "from sklearn.decomposition import TruncatedSVD\n",
        "from sklearn.decomposition import PCA\n",
        "\n",
        "START_TOKEN = '<START>'\n",
        "END_TOKEN = '<END>'\n",
        "\n",
        "np.random.seed(0)\n",
        "random.seed(0)\n",
        "# ----------------"
      ],
      "execution_count": 2,
      "outputs": [
        {
          "output_type": "stream",
          "text": [
            "[nltk_data] Downloading package reuters to /root/nltk_data...\n"
          ],
          "name": "stdout"
        }
      ]
    },
    {
      "cell_type": "markdown",
      "metadata": {
        "id": "Fgs6ZWfA9KYF",
        "colab_type": "text"
      },
      "source": [
        "# Your Name: Wei Liu\n",
        "\n",
        "## Your SCPD XID Number: X478463\n",
        "\n",
        "\n",
        "**Assignment Notes: Please make sure to save the notebook as you go along. Submission Instructions are located at the bottom of the notebook.**\n"
      ]
    },
    {
      "cell_type": "markdown",
      "metadata": {
        "id": "Z7JrWNWkcIH9",
        "colab_type": "text"
      },
      "source": [
        "## Word Vectors\n",
        "\n",
        "Word Vectors are often used as a fundamental component for downstream NLP tasks, e.g. question answering, text generation, translation, etc., so it is important to build some intuitions as to their strengths and weaknesses. Here, you will explore two types of word vectors: those derived from *co-occurrence matrices*, and those derived via *word2vec*. \n",
        "\n",
        "\n",
        "**Note on Terminology:** The terms \"word vectors\" and \"word embeddings\" are often used interchangeably. The term \"embedding\" refers to the fact that we are encoding aspects of a word's meaning in a lower dimensional space. As [Wikipedia](https://en.wikipedia.org/wiki/Word_embedding) states, \"*conceptually it involves a mathematical embedding from a space with one dimension per word to a continuous vector space with a much lower dimension*\"."
      ]
    },
    {
      "cell_type": "markdown",
      "metadata": {
        "id": "ncSUvsv4cIH-",
        "colab_type": "text"
      },
      "source": [
        "## Part 1: Count-Based Word Vectors (10 points)\n",
        "\n",
        "Most word vector models start from the following idea:\n",
        "\n",
        "*You shall know a word by the company it keeps ([Firth, J. R. 1957:11](https://en.wikipedia.org/wiki/John_Rupert_Firth))*\n",
        "\n",
        "Many word vector implementations are driven by the idea that similar words, i.e., (near) synonyms, will be used in similar contexts. As a result, similar words will often be spoken or written along with a shared subset of words, i.e., contexts. By examining these contexts, we can try to develop embeddings for our words. With this intuition in mind, many \"old school\" approaches to constructing word vectors relied on word counts. Here we elaborate upon one of those strategies, *co-occurrence matrices* (for more information, see [here](http://web.stanford.edu/class/cs124/lec/vectorsemantics.video.pdf) or [here](https://medium.com/data-science-group-iitr/word-embedding-2d05d270b285))."
      ]
    },
    {
      "cell_type": "markdown",
      "metadata": {
        "id": "6JW2He8PcIH_",
        "colab_type": "text"
      },
      "source": [
        "### Co-Occurrence\n",
        "\n",
        "A co-occurrence matrix counts how often things co-occur in some environment. Given some word $w_i$ occurring in the document, we consider the *context window* surrounding $w_i$. Supposing our fixed window size is $n$, then this is the $n$ preceding and $n$ subsequent words in that document, i.e. words $w_{i-n} \\dots w_{i-1}$ and $w_{i+1} \\dots w_{i+n}$. We build a *co-occurrence matrix* $M$, which is a symmetric word-by-word matrix in which $M_{ij}$ is the number of times $w_j$ appears inside $w_i$'s window.\n",
        "\n",
        "**Example: Co-Occurrence with Fixed Window of n=1**:\n",
        "\n",
        "Document 1: \"all that glitters is not gold\"\n",
        "\n",
        "Document 2: \"all is well that ends well\"\n",
        "\n",
        "\n",
        "|     *    | START | all | that | glitters | is   | not  | gold  | well | ends | END |\n",
        "|----------|-------|-----|------|----------|------|------|-------|------|------|-----|\n",
        "| START    | 0     | 2   | 0    | 0        | 0    | 0    | 0     | 0    | 0    | 0   |\n",
        "| all      | 2     | 0   | 1    | 0        | 1    | 0    | 0     | 0    | 0    | 0   |\n",
        "| that     | 0     | 1   | 0    | 1        | 0    | 0    | 0     | 1    | 1    | 0   |\n",
        "| glitters | 0     | 0   | 1    | 0        | 1    | 0    | 0     | 0    | 0    | 0   |\n",
        "| is       | 0     | 1   | 0    | 1        | 0    | 1    | 0     | 1    | 0    | 0   |\n",
        "| not      | 0     | 0   | 0    | 0        | 1    | 0    | 1     | 0    | 0    | 0   |\n",
        "| gold     | 0     | 0   | 0    | 0        | 0    | 1    | 0     | 0    | 0    | 1   |\n",
        "| well     | 0     | 0   | 1    | 0        | 1    | 0    | 0     | 0    | 1    | 1   |\n",
        "| ends     | 0     | 0   | 1    | 0        | 0    | 0    | 0     | 1    | 0    | 0   |\n",
        "| END      | 0     | 0   | 0    | 0        | 0    | 0    | 1     | 1    | 0    | 0   |\n",
        "\n",
        "**Note:** In NLP, we often add START and END tokens to represent the beginning and end of sentences, paragraphs or documents. In these case we imagine START and END tokens encapsulating each document, e.g., \"START All that glitters is not gold END\", and include these tokens in our co-occurrence counts.\n",
        "\n",
        "The rows (or columns) of this matrix provide one type of word vectors (those based on word-word co-occurrence), but the vectors will be large in general (linear in the number of distinct words in a corpus). Thus, our next step is to run *dimensionality reduction*. In particular, we will run *SVD (Singular Value Decomposition)*, which is a kind of generalized *PCA (Principal Components Analysis)* to select the top $k$ principal components. Here's a visualization of dimensionality reduction with SVD. In this picture our co-occurrence matrix is $A$ with $n$ rows corresponding to $n$ words. We obtain a full matrix decomposition, with the singular values ordered in the diagonal $S$ matrix, and our new, shorter length-$k$ word vectors in $U_k$.\n",
        "\n",
        "![Picture of an SVD](https://drive.google.com/uc?id=130kru2z5PNse3qHBbuCBZXgGE_S0orOM \"SVD\")\n",
        "\n",
        "This reduced-dimensionality co-occurrence representation preserves semantic relationships between words, e.g. *doctor* and *hospital* will be closer than *doctor* and *dog*. \n",
        "\n",
        "**Notes:** If you can barely remember what an eigenvalue is, here's [a slow, friendly introduction to SVD](https://davetang.org/file/Singular_Value_Decomposition_Tutorial.pdf). If you want to learn more thoroughly about PCA or SVD, feel free to check out lectures [7](https://web.stanford.edu/class/cs168/l/l7.pdf), [8](http://theory.stanford.edu/~tim/s15/l/l8.pdf), and [9](https://web.stanford.edu/class/cs168/l/l9.pdf) of CS168. These course notes provide a great high-level treatment of these general purpose algorithms. Though, for the purpose of this class, you only need to know how to extract the k-dimensional embeddings by utilizing pre-programmed implementations of these algorithms from the numpy, scipy, or sklearn python packages. In practice, it is challenging to apply full SVD to large corpora because of the memory needed to perform PCA or SVD. However, if you only want the top $k$ vector components for relatively small $k$ — known as *[Truncated SVD](https://en.wikipedia.org/wiki/Singular_value_decomposition#Truncated_SVD)* — then there are reasonably scalable techniques to compute those iteratively."
      ]
    },
    {
      "cell_type": "markdown",
      "metadata": {
        "id": "IQEY0FqScIIB",
        "colab_type": "text"
      },
      "source": [
        "### Plotting Co-Occurrence Word Embeddings\n",
        "\n",
        "Here, we will be using the Reuters (business and financial news) corpus. If you haven't run the import cell at the top of this page, please run it now (click it and press CTRL-RETURN). The corpus consists of 10,788 news documents totaling 1.3 million words. These documents span 90 categories and are split into train and test. For more details, please see https://www.nltk.org/book/ch02.html. We provide a `read_corpus` function below that pulls out only articles from the \"crude\" (i.e. news articles about oil, gas, etc.) category. The function also adds START and END tokens to each of the documents, and lowercases words. You do **not** have perform any other kind of pre-processing."
      ]
    },
    {
      "cell_type": "code",
      "metadata": {
        "id": "PTAfVv3zcIIC",
        "colab_type": "code",
        "colab": {}
      },
      "source": [
        "def read_corpus(category=\"crude\"):\n",
        "    \"\"\" Read files from the specified Reuter's category.\n",
        "        Params:\n",
        "            category (string): category name\n",
        "        Return:\n",
        "            list of lists, with words from each of the processed files\n",
        "    \"\"\"\n",
        "    files = reuters.fileids(category)\n",
        "    return [[START_TOKEN] + [w.lower() for w in list(reuters.words(f))] + [END_TOKEN] for f in files]\n"
      ],
      "execution_count": 0,
      "outputs": []
    },
    {
      "cell_type": "markdown",
      "metadata": {
        "id": "QDHve5vpcIIG",
        "colab_type": "text"
      },
      "source": [
        "Let's have a look what these documents are like…. (run the cell below)"
      ]
    },
    {
      "cell_type": "code",
      "metadata": {
        "scrolled": false,
        "id": "dKx8k50EcIII",
        "colab_type": "code",
        "outputId": "1e3c4e8b-5cf3-4178-b7b0-684e711afc26",
        "colab": {
          "base_uri": "https://localhost:8080/",
          "height": 198
        }
      },
      "source": [
        "print(len(reuters_corpus))\n",
        "reuters_corpus = read_corpus()\n",
        "pprint.pprint(reuters_corpus[:3], compact=True, width=100)"
      ],
      "execution_count": 4,
      "outputs": [
        {
          "output_type": "error",
          "ename": "NameError",
          "evalue": "ignored",
          "traceback": [
            "\u001b[0;31m---------------------------------------------------------------------------\u001b[0m",
            "\u001b[0;31mNameError\u001b[0m                                 Traceback (most recent call last)",
            "\u001b[0;32m<ipython-input-4-75b09645a13c>\u001b[0m in \u001b[0;36m<module>\u001b[0;34m()\u001b[0m\n\u001b[0;32m----> 1\u001b[0;31m \u001b[0mprint\u001b[0m\u001b[0;34m(\u001b[0m\u001b[0mlen\u001b[0m\u001b[0;34m(\u001b[0m\u001b[0mreuters_corpus\u001b[0m\u001b[0;34m)\u001b[0m\u001b[0;34m)\u001b[0m\u001b[0;34m\u001b[0m\u001b[0;34m\u001b[0m\u001b[0m\n\u001b[0m\u001b[1;32m      2\u001b[0m \u001b[0mreuters_corpus\u001b[0m \u001b[0;34m=\u001b[0m \u001b[0mread_corpus\u001b[0m\u001b[0;34m(\u001b[0m\u001b[0;34m)\u001b[0m\u001b[0;34m\u001b[0m\u001b[0;34m\u001b[0m\u001b[0m\n\u001b[1;32m      3\u001b[0m \u001b[0mpprint\u001b[0m\u001b[0;34m.\u001b[0m\u001b[0mpprint\u001b[0m\u001b[0;34m(\u001b[0m\u001b[0mreuters_corpus\u001b[0m\u001b[0;34m[\u001b[0m\u001b[0;34m:\u001b[0m\u001b[0;36m3\u001b[0m\u001b[0;34m]\u001b[0m\u001b[0;34m,\u001b[0m \u001b[0mcompact\u001b[0m\u001b[0;34m=\u001b[0m\u001b[0;32mTrue\u001b[0m\u001b[0;34m,\u001b[0m \u001b[0mwidth\u001b[0m\u001b[0;34m=\u001b[0m\u001b[0;36m100\u001b[0m\u001b[0;34m)\u001b[0m\u001b[0;34m\u001b[0m\u001b[0;34m\u001b[0m\u001b[0m\n",
            "\u001b[0;31mNameError\u001b[0m: name 'reuters_corpus' is not defined"
          ]
        }
      ]
    },
    {
      "cell_type": "markdown",
      "metadata": {
        "id": "AvoxD-QCcIIN",
        "colab_type": "text"
      },
      "source": [
        "### Question 1.1: Implement `distinct_words` [code] (2 points)\n",
        "\n",
        "Write a method to work out the distinct words (word types) that occur in the corpus. You can do this with `for` loops, but it's more efficient to do it with Python list comprehensions. In particular, [this](https://coderwall.com/p/rcmaea/flatten-a-list-of-lists-in-one-line-in-python) may be useful to flatten a list of lists. If you're not familiar with Python list comprehensions in general, here's [more information](https://python-3-patterns-idioms-test.readthedocs.io/en/latest/Comprehensions.html).\n",
        "\n",
        "You may find it useful to use [Python sets](https://www.w3schools.com/python/python_sets.asp) to remove duplicate words."
      ]
    },
    {
      "cell_type": "code",
      "metadata": {
        "id": "k4KmoR8RcIIO",
        "colab_type": "code",
        "colab": {}
      },
      "source": [
        "def distinct_words(corpus):\n",
        "    \"\"\" Determine a list of distinct words for the corpus.\n",
        "        Params:\n",
        "            corpus (list of list of strings): corpus of documents\n",
        "        Return:\n",
        "            corpus_words (list of strings): list of distinct words across the corpus, sorted (using python 'sorted' function)\n",
        "            num_corpus_words (integer): number of distinct words across the corpus\n",
        "    \"\"\"\n",
        "    corpus_words = []\n",
        "    num_corpus_words = -1\n",
        "    \n",
        "### SOLUTION BEGIN\n",
        "    word_set = set([word for sentence in corpus for word in sentence])\n",
        "    corpus_words = list(word_set)\n",
        "    corpus_words.sort()\n",
        "    num_corpus_words = len(corpus_words)\n",
        "### SOLUTION END\n",
        "\n",
        "    return corpus_words, num_corpus_words"
      ],
      "execution_count": 0,
      "outputs": []
    },
    {
      "cell_type": "code",
      "metadata": {
        "id": "h1x0mbkccIIR",
        "colab_type": "code",
        "outputId": "9d874c45-66f9-452b-cab6-58ce69fbbeec",
        "colab": {
          "base_uri": "https://localhost:8080/",
          "height": 68
        }
      },
      "source": [
        "# ---------------------\n",
        "# Run this sanity check\n",
        "# Note that this not an exhaustive check for correctness.\n",
        "# ---------------------\n",
        "\n",
        "# Define toy corpus\n",
        "test_corpus = [\"START All that glitters isn't gold END\".split(\" \"), \"START All's well that ends well END\".split(\" \")]\n",
        "test_corpus_words, num_corpus_words = distinct_words(test_corpus)\n",
        "\n",
        "# Correct answers\n",
        "ans_test_corpus_words = sorted(list(set([\"START\", \"All\", \"ends\", \"that\", \"gold\", \"All's\", \"glitters\", \"isn't\", \"well\", \"END\"])))\n",
        "ans_num_corpus_words = len(ans_test_corpus_words)\n",
        "\n",
        "# Test correct number of words\n",
        "assert(num_corpus_words == ans_num_corpus_words), \"Incorrect number of distinct words. Correct: {}. Yours: {}\".format(ans_num_corpus_words, num_corpus_words)\n",
        "\n",
        "# Test correct words\n",
        "assert (test_corpus_words == ans_test_corpus_words), \"Incorrect corpus_words.\\nCorrect: {}\\nYours:   {}\".format(str(ans_test_corpus_words), str(test_corpus_words))\n",
        "\n",
        "# Print Success\n",
        "print (\"-\" * 80)\n",
        "print(\"Passed All Tests!\")\n",
        "print (\"-\" * 80)"
      ],
      "execution_count": 6,
      "outputs": [
        {
          "output_type": "stream",
          "text": [
            "--------------------------------------------------------------------------------\n",
            "Passed All Tests!\n",
            "--------------------------------------------------------------------------------\n"
          ],
          "name": "stdout"
        }
      ]
    },
    {
      "cell_type": "markdown",
      "metadata": {
        "id": "F8RrD96ncIIV",
        "colab_type": "text"
      },
      "source": [
        "### Question 1.2: Implement `compute_co_occurrence_matrix` [code] (3 points)\n",
        "\n",
        "Write a method that constructs a co-occurrence matrix for a certain window-size $n$ (with a default of 4), considering words $n$ before and $n$ after the word in the center of the window. Here, we start to use `numpy (np)` to represent vectors, matrices, and tensors. If you're not familiar with NumPy, there's a NumPy tutorial in the second half of this cs231n [Python NumPy tutorial](http://cs231n.github.io/python-numpy-tutorial/).\n"
      ]
    },
    {
      "cell_type": "code",
      "metadata": {
        "id": "qWwDbcr7cIIW",
        "colab_type": "code",
        "colab": {}
      },
      "source": [
        "def compute_co_occurrence_matrix(corpus, window_size=4):\n",
        "    \"\"\" Compute co-occurrence matrix for the given corpus and window_size (default of 4).\n",
        "    \n",
        "        Note: Each word in a document should be at the center of a window. Words near edges will have a smaller\n",
        "              number of co-occurring words.\n",
        "              \n",
        "              For example, if we take the document \"START All that glitters is not gold END\" with window size of 4,\n",
        "              \"All\" will co-occur with \"START\", \"that\", \"glitters\", \"is\", and \"not\".\n",
        "    \n",
        "        Params:\n",
        "            corpus (list of list of strings): corpus of documents\n",
        "            window_size (int): size of context window\n",
        "        Return:\n",
        "            M (numpy matrix of shape (number of unique words in the corpus , number of unique words in the corpus): \n",
        "                Co-occurence matrix of word counts. \n",
        "                The ordering of the words in the rows/columns should be the same as the ordering of the words given by the distinct_words function.\n",
        "            word2Ind (dict): dictionary that maps word to index (i.e. row/column number) for matrix M.\n",
        "    \"\"\"\n",
        "    words, num_words = distinct_words(corpus)\n",
        "    M = None\n",
        "    word2Ind = {}\n",
        "    \n",
        "### SOLUTION BEGIN\n",
        "    n = num_words\n",
        "    M = np.zeros((n, n))\n",
        "    word2Ind = {word:i for i, word in enumerate(words)}\n",
        "\n",
        "    def cocurrent_inc(w1, w2):\n",
        "      #print(w1, w2)\n",
        "      i1, i2 = word2Ind[w1], word2Ind[w2]\n",
        "      M[i1, i2] += 1\n",
        "\n",
        "    for sentence in corpus:\n",
        "      m = len(sentence)\n",
        "      for i in range(m):\n",
        "        for j in range(1, window_size + 1):\n",
        "          if i - j >= 0:\n",
        "            cocurrent_inc(sentence[i], sentence[i - j])\n",
        "          if i + j < m:\n",
        "            cocurrent_inc(sentence[i], sentence[i + j])\n",
        "\n",
        "### SOLUTION END\n",
        "    return M, word2Ind"
      ],
      "execution_count": 0,
      "outputs": []
    },
    {
      "cell_type": "code",
      "metadata": {
        "id": "AC-HZRTtcIIZ",
        "colab_type": "code",
        "outputId": "964c6b97-f8a7-41e1-8bf7-9fbee536a7ee",
        "colab": {
          "base_uri": "https://localhost:8080/",
          "height": 68
        }
      },
      "source": [
        "# ---------------------\n",
        "# Run this sanity check\n",
        "# Note that this is not an exhaustive check for correctness.\n",
        "# ---------------------\n",
        "\n",
        "# Define toy corpus and get student's co-occurrence matrix\n",
        "test_corpus = [\"START All that glitters isn't gold END\".split(\" \"), \"START All's well that ends well END\".split(\" \")]\n",
        "M_test, word2Ind_test = compute_co_occurrence_matrix(test_corpus, window_size=1)\n",
        "\n",
        "# Correct M and word2Ind\n",
        "M_test_ans = np.array( \n",
        "    [[0., 0., 0., 1., 0., 0., 0., 0., 1., 0.,],\n",
        "     [0., 0., 0., 1., 0., 0., 0., 0., 0., 1.,],\n",
        "     [0., 0., 0., 0., 0., 0., 1., 0., 0., 1.,],\n",
        "     [1., 1., 0., 0., 0., 0., 0., 0., 0., 0.,],\n",
        "     [0., 0., 0., 0., 0., 0., 0., 0., 1., 1.,],\n",
        "     [0., 0., 0., 0., 0., 0., 0., 1., 1., 0.,],\n",
        "     [0., 0., 1., 0., 0., 0., 0., 1., 0., 0.,],\n",
        "     [0., 0., 0., 0., 0., 1., 1., 0., 0., 0.,],\n",
        "     [1., 0., 0., 0., 1., 1., 0., 0., 0., 1.,],\n",
        "     [0., 1., 1., 0., 1., 0., 0., 0., 1., 0.,]]\n",
        ")\n",
        "word2Ind_ans = {'All': 0, \"All's\": 1, 'END': 2, 'START': 3, 'ends': 4, 'glitters': 5, 'gold': 6, \"isn't\": 7, 'that': 8, 'well': 9}\n",
        "\n",
        "# Test correct word2Ind\n",
        "assert (word2Ind_ans == word2Ind_test), \"Your word2Ind is incorrect:\\nCorrect: {}\\nYours: {}\".format(word2Ind_ans, word2Ind_test)\n",
        "\n",
        "# Test correct M shape\n",
        "assert (M_test.shape == M_test_ans.shape), \"M matrix has incorrect shape.\\nCorrect: {}\\nYours: {}\".format(M_test.shape, M_test_ans.shape)\n",
        "\n",
        "# Test correct M values\n",
        "for w1 in word2Ind_ans.keys():\n",
        "    idx1 = word2Ind_ans[w1]\n",
        "    for w2 in word2Ind_ans.keys():\n",
        "        idx2 = word2Ind_ans[w2]\n",
        "        student = M_test[idx1, idx2]\n",
        "        correct = M_test_ans[idx1, idx2]\n",
        "        if student != correct:\n",
        "            print(\"Correct M:\")\n",
        "            print(M_test_ans)\n",
        "            print(\"Your M: \")\n",
        "            print(M_test)\n",
        "            raise AssertionError(\"Incorrect count at index ({}, {})=({}, {}) in matrix M. Yours has {} but should have {}.\".format(idx1, idx2, w1, w2, student, correct))\n",
        "\n",
        "# Print Success\n",
        "print (\"-\" * 80)\n",
        "print(\"Passed All Tests!\")\n",
        "print (\"-\" * 80)"
      ],
      "execution_count": 8,
      "outputs": [
        {
          "output_type": "stream",
          "text": [
            "--------------------------------------------------------------------------------\n",
            "Passed All Tests!\n",
            "--------------------------------------------------------------------------------\n"
          ],
          "name": "stdout"
        }
      ]
    },
    {
      "cell_type": "markdown",
      "metadata": {
        "id": "dYmQ_UuZcIId",
        "colab_type": "text"
      },
      "source": [
        "### Question 1.3: Implement `reduce_to_k_dim` [code] (1 point)\n",
        "\n",
        "Construct a method that performs dimensionality reduction on the matrix to produce k-dimensional embeddings. Use SVD to take the top k components and produce a new matrix of k-dimensional embeddings. \n",
        "\n",
        "**Note:** All of numpy, scipy, and scikit-learn (`sklearn`) provide *some* implementation of SVD, but only scipy and sklearn provide an implementation of Truncated SVD, and only sklearn provides an efficient randomized algorithm for calculating large-scale Truncated SVD. So please use [sklearn.decomposition.TruncatedSVD](https://scikit-learn.org/stable/modules/generated/sklearn.decomposition.TruncatedSVD.html)."
      ]
    },
    {
      "cell_type": "code",
      "metadata": {
        "id": "F6NbzhRdcIIe",
        "colab_type": "code",
        "colab": {}
      },
      "source": [
        "def reduce_to_k_dim(M, k=2):\n",
        "    \"\"\" Reduce a co-occurence count matrix of dimensionality (num_corpus_words, num_corpus_words)\n",
        "        to a matrix of dimensionality (num_corpus_words, k) using the following SVD function from Scikit-Learn:\n",
        "            - http://scikit-learn.org/stable/modules/generated/sklearn.decomposition.TruncatedSVD.html\n",
        "    \n",
        "        Params:\n",
        "            M (numpy matrix of shape (number of unique words in the corpus , number of unique words in the corpus)): co-occurence matrix of word counts\n",
        "            k (int): embedding size of each word after dimension reduction\n",
        "        Return:\n",
        "            M_reduced (numpy matrix of shape (number of corpus words, k)): matrix of k-dimensional word embeddings.\n",
        "                    In terms of the SVD from math class, this actually returns U * S\n",
        "    \"\"\"    \n",
        "    n_iters = 10     # Use this parameter in your call to `TruncatedSVD`\n",
        "    M_reduced = None\n",
        "    print(\"Running Truncated SVD over %i words...\" % (M.shape[0]))\n",
        "    \n",
        "    ### SOLUTION BEGIN\n",
        "    svd = TruncatedSVD(n_components=k, n_iter=7, random_state=42)\n",
        "    M_reduced = svd.fit_transform(M)\n",
        "    ### SOLUTION END\n",
        "\n",
        "    print(\"Done.\")\n",
        "    return M_reduced"
      ],
      "execution_count": 0,
      "outputs": []
    },
    {
      "cell_type": "code",
      "metadata": {
        "id": "VAnk69lqcIIh",
        "colab_type": "code",
        "outputId": "8095b743-eb45-418f-b2af-3b5bbb580450",
        "colab": {
          "base_uri": "https://localhost:8080/",
          "height": 102
        }
      },
      "source": [
        "# ---------------------\n",
        "# Run this sanity check\n",
        "# Note that this not an exhaustive check for correctness \n",
        "# In fact we only check that your M_reduced has the right dimensions.\n",
        "# ---------------------\n",
        "\n",
        "# Define toy corpus and run student code\n",
        "test_corpus = [\"START All that glitters isn't gold END\".split(\" \"), \"START All's well that ends well END\".split(\" \")]\n",
        "M_test, word2Ind_test = compute_co_occurrence_matrix(test_corpus, window_size=1)\n",
        "M_test_reduced = reduce_to_k_dim(M_test, k=2)\n",
        "\n",
        "# Test proper dimensions\n",
        "assert (M_test_reduced.shape[0] == 10), \"M_reduced has {} rows; should have {}\".format(M_test_reduced.shape[0], 10)\n",
        "assert (M_test_reduced.shape[1] == 2), \"M_reduced has {} columns; should have {}\".format(M_test_reduced.shape[1], 2)\n",
        "\n",
        "# Print Success\n",
        "print (\"-\" * 80)\n",
        "print(\"Passed All Tests!\")\n",
        "print (\"-\" * 80)"
      ],
      "execution_count": 10,
      "outputs": [
        {
          "output_type": "stream",
          "text": [
            "Running Truncated SVD over 10 words...\n",
            "Done.\n",
            "--------------------------------------------------------------------------------\n",
            "Passed All Tests!\n",
            "--------------------------------------------------------------------------------\n"
          ],
          "name": "stdout"
        }
      ]
    },
    {
      "cell_type": "markdown",
      "metadata": {
        "id": "Y1Shqlk8cIIk",
        "colab_type": "text"
      },
      "source": [
        "### Question 1.4: Implement `plot_embeddings` [code] (1 point)\n",
        "\n",
        "Here you will write a function to plot a set of 2D vectors in 2D space. For graphs, we will use Matplotlib (`plt`).\n",
        "\n",
        "For this example, you may find it useful to adapt [this code](https://www.pythonmembers.club/2018/05/08/matplotlib-scatter-plot-annotate-set-text-at-label-each-point/). In the future, a good way to make a plot is to look at [the Matplotlib gallery](https://matplotlib.org/gallery/index.html), find a plot that looks somewhat like what you want, and adapt the code they give."
      ]
    },
    {
      "cell_type": "code",
      "metadata": {
        "id": "SL0cDx37cIIl",
        "colab_type": "code",
        "colab": {}
      },
      "source": [
        "import matplotlib.pyplot as plt\n",
        "\n",
        "def plot_embeddings(M_reduced, word2Ind, words):\n",
        "    \"\"\" Plot in a scatterplot the embeddings of the words specified in the list \"words\".\n",
        "        NOTE: do not plot all the words listed in M_reduced / word2Ind.\n",
        "        Include a label next to each point.\n",
        "        \n",
        "        Params:\n",
        "            M_reduced (numpy matrix of shape (number of unique words in the corpus , k)): matrix of k-dimensioal word embeddings\n",
        "            word2Ind (dict): dictionary that maps word to indices for matrix M\n",
        "            words (list of strings): words whose embeddings we want to visualize\n",
        "    \"\"\"\n",
        "\n",
        "    ### SOLUTION BEGIN \n",
        "    for i, word in enumerate(words):\n",
        "        x, y = M_reduced[i]\n",
        "        plt.scatter(x, y, marker='x', color='red')\n",
        "        plt.text(x, y+0.02, word, fontsize=10)\n",
        "    plt.show()\n",
        "\n",
        "    ### SOLUTION END"
      ],
      "execution_count": 0,
      "outputs": []
    },
    {
      "cell_type": "code",
      "metadata": {
        "id": "hADS_sIBcIIp",
        "colab_type": "code",
        "outputId": "55b3ce5d-8d87-45fb-d147-80e6a0f3397b",
        "colab": {
          "base_uri": "https://localhost:8080/",
          "height": 374
        }
      },
      "source": [
        "# ---------------------\n",
        "# Run this sanity check\n",
        "# Note that this not an exhaustive check for correctness.\n",
        "# The plot produced should look like the \"test solution plot\" depicted below. \n",
        "# ---------------------\n",
        "\n",
        "print (\"-\" * 80)\n",
        "print (\"Outputted Plot:\")\n",
        "\n",
        "M_reduced_plot_test = np.array([[1, 1], [-1, -1], [1, -1], [-1, 1], [0, 0]])\n",
        "word2Ind_plot_test = {'test1': 0, 'test2': 1, 'test3': 2, 'test4': 3, 'test5': 4}\n",
        "words = ['test1', 'test2', 'test3', 'test4', 'test5']\n",
        "plot_embeddings(M_reduced_plot_test, word2Ind_plot_test, words)\n",
        "\n",
        "print (\"-\" * 80)"
      ],
      "execution_count": 12,
      "outputs": [
        {
          "output_type": "stream",
          "text": [
            "--------------------------------------------------------------------------------\n",
            "Outputted Plot:\n"
          ],
          "name": "stdout"
        },
        {
          "output_type": "display_data",
          "data": {
            "image/png": "[encoded data removed]",
            "text/plain": [
              "<Figure size 720x360 with 1 Axes>"
            ]
          },
          "metadata": {
            "tags": []
          }
        },
        {
          "output_type": "stream",
          "text": [
            "--------------------------------------------------------------------------------\n"
          ],
          "name": "stdout"
        }
      ]
    },
    {
      "cell_type": "markdown",
      "metadata": {
        "id": "WMh-zZracIIv",
        "colab_type": "text"
      },
      "source": [
        "<font color=red>**Test Plot Solution**</font>\n",
        "<br>\n",
        "<img src=\"https://drive.google.com/uc?id=1mvoBwhjOOALJa49v1ZbC6qoBVfYFtTe2\" width=40% style=\"float: left;\"> </img>\n"
      ]
    },
    {
      "cell_type": "markdown",
      "metadata": {
        "id": "QIdh-PM8cIIw",
        "colab_type": "text"
      },
      "source": [
        "### Question 1.5: Co-Occurrence Plot Analysis [written] (3 points)\n",
        "\n",
        "Now we will put together all the parts you have written! We will compute the co-occurrence matrix with fixed window of 5, over the Reuters \"crude\" corpus. Then we will use TruncatedSVD to compute 2-dimensional embeddings of each word. TruncatedSVD returns U\\*S, so we normalize the returned vectors, so that all the vectors will appear around the unit circle (therefore closeness is directional closeness). **Note**: The line of code below that does the normalizing uses the NumPy concept of *broadcasting*. If you don't know about broadcasting, check out\n",
        "[Computation on Arrays: Broadcasting by Jake VanderPlas](https://jakevdp.github.io/PythonDataScienceHandbook/02.05-computation-on-arrays-broadcasting.html).\n",
        "\n",
        "Run the below cell to produce the plot. It'll probably take a few seconds to run. \n",
        "\n",
        "**_Written Question: What clusters together in 2-dimensional embedding space (in the given plot)? What doesn't cluster together that you might think should have?  Note: \"bpd\" stands for \"barrels per day\" and is a commonly used abbreviation in crude oil topic articles._**"
      ]
    },
    {
      "cell_type": "code",
      "metadata": {
        "id": "t96bbrA0cIIz",
        "colab_type": "code",
        "outputId": "8c5f7e3d-13c9-43db-cfc0-0fd6c237383a",
        "colab": {
          "base_uri": "https://localhost:8080/",
          "height": 357
        }
      },
      "source": [
        "# -----------------------------\n",
        "# Run This Cell to Produce Your Plot\n",
        "# ------------------------------\n",
        "reuters_corpus = read_corpus()\n",
        "M_co_occurrence, word2Ind_co_occurrence = compute_co_occurrence_matrix(reuters_corpus)\n",
        "M_reduced_co_occurrence = reduce_to_k_dim(M_co_occurrence, k=2)\n",
        "\n",
        "# Rescale (normalize) the rows to make them each of unit-length\n",
        "M_lengths = np.linalg.norm(M_reduced_co_occurrence, axis=1)\n",
        "M_normalized = M_reduced_co_occurrence / M_lengths[:, np.newaxis] # broadcasting\n",
        "\n",
        "words = ['barrels', 'bpd', 'ecuador', 'energy', 'industry', 'kuwait', 'oil', 'output', 'petroleum', 'venezuela']\n",
        "plot_embeddings(M_normalized, word2Ind_co_occurrence, words)"
      ],
      "execution_count": 13,
      "outputs": [
        {
          "output_type": "stream",
          "text": [
            "Running Truncated SVD over 8185 words...\n",
            "Done.\n"
          ],
          "name": "stdout"
        },
        {
          "output_type": "display_data",
          "data": {
            "image/png": "[encoded data removed]",
            "text/plain": [
              "<Figure size 720x360 with 1 Axes>"
            ]
          },
          "metadata": {
            "tags": []
          }
        }
      ]
    },
    {
      "cell_type": "markdown",
      "metadata": {
        "id": "F_HVUaPfcII3",
        "colab_type": "text"
      },
      "source": [
        "#### <font color='red'> Write your answer here.</font>\n",
        "<h4>What clusters together in 2-dimensional embedding space (in the given plot)? </h4> \n",
        "<h4> Ans: </h4>\n",
        "<ul>\n",
        "  <li>cluster 1: 'venezuela', 'barrels', 'bpd', 'petroleum', 'kuwait'</li>\n",
        "  <li>Cluster 2: 'oil', 'ecuador', 'output'</li>\n",
        "  <li>Cluster 3: 'enegy'</li>\n",
        "  <li>Cluster 4: 'industry'</li>\n",
        "</ul> \n",
        "\n",
        "<h4>What doesn't cluster together that you might think should have? \n",
        " </h4> \n",
        "<h4> Ans: </h4>\n",
        "<p> 'oil' and 'petroleum' should be cluster together.</p>\n",
        "<p> 'energy' and 'industry' should be cluster together.</p>"
      ]
    },
    {
      "cell_type": "markdown",
      "metadata": {
        "id": "7NsuZre3cII4",
        "colab_type": "text"
      },
      "source": [
        "## Part 2: Prediction-Based Word Vectors (14 points)\n",
        "\n",
        "As discussed in class, more recently prediction-based word vectors have come into fashion, e.g. word2vec. Here, we shall explore the embeddings produced by word2vec. Please revisit the class notes and lecture slides for more details on the word2vec algorithm. If you're feeling adventurous, challenge yourself and try reading the [original paper](https://papers.nips.cc/paper/5021-distributed-representations-of-words-and-phrases-and-their-compositionality.pdf).\n",
        "\n",
        "Then run the following cells to load the word2vec vectors into memory. **_Note: This could take several minutes._**"
      ]
    },
    {
      "cell_type": "code",
      "metadata": {
        "id": "xffIF_HLcII5",
        "colab_type": "code",
        "colab": {}
      },
      "source": [
        "def load_word2vec():\n",
        "    \"\"\" Load Word2Vec Vectors\n",
        "        Return:\n",
        "            wv_from_bin: 2.5 million of 3 million embeddings, each lengh 300\n",
        "    \"\"\"\n",
        "    import gensim.downloader as api\n",
        "    from gensim.models import KeyedVectors\n",
        "    # let's load 2.5 million of the 3 million word embeddings so we don't run out of memory on Colab\n",
        "    wv_from_bin = KeyedVectors.load_word2vec_format(api.load(\"word2vec-google-news-300\", return_path=True), limit=2500000, binary=True)\n",
        "    vocab = list(wv_from_bin.vocab.keys())\n",
        "    print(\"Loaded vocab size %i\" % len(vocab))\n",
        "    return wv_from_bin"
      ],
      "execution_count": 0,
      "outputs": []
    },
    {
      "cell_type": "code",
      "metadata": {
        "id": "auC2oPKqcII9",
        "colab_type": "code",
        "outputId": "4ac3d1d8-4364-4b9c-b178-d33957bdd606",
        "colab": {
          "base_uri": "https://localhost:8080/",
          "height": 105
        }
      },
      "source": [
        "# -----------------------------------\n",
        "# Run Cell to Load Word Vectors\n",
        "# Note: This may take several minutes\n",
        "# -----------------------------------\n",
        "wv_from_bin = load_word2vec()"
      ],
      "execution_count": 15,
      "outputs": [
        {
          "output_type": "stream",
          "text": [
            "[==================================================] 100.0% 1662.8/1662.8MB downloaded\n"
          ],
          "name": "stdout"
        },
        {
          "output_type": "stream",
          "text": [
            "/usr/local/lib/python3.6/dist-packages/smart_open/smart_open_lib.py:398: UserWarning: This function is deprecated, use smart_open.open instead. See the migration notes for details: https://github.com/RaRe-Technologies/smart_open/blob/master/README.rst#migrating-to-the-new-open-function\n",
            "  'See the migration notes for details: %s' % _MIGRATION_NOTES_URL\n"
          ],
          "name": "stderr"
        },
        {
          "output_type": "stream",
          "text": [
            "Loaded vocab size 2500000\n"
          ],
          "name": "stdout"
        }
      ]
    },
    {
      "cell_type": "markdown",
      "metadata": {
        "id": "eWDdjAzecIJD",
        "colab_type": "text"
      },
      "source": [
        "### Reducing dimensionality of Word2Vec Word Embeddings\n",
        "Let's directly compare the word2vec embeddings to those of the co-occurrence matrix. Run the following cells to:\n",
        "\n",
        "1. Put the 2.5 million word2vec vectors into a matrix M\n",
        "2. Run reduce_to_k_dim (your Truncated SVD function) to reduce the vectors from 300-dimensional to 2-dimensional."
      ]
    },
    {
      "cell_type": "code",
      "metadata": {
        "id": "Uf1qY4umcIJF",
        "colab_type": "code",
        "colab": {}
      },
      "source": [
        "def get_matrix_of_vectors(wv_from_bin, required_words=['barrels', 'bpd', 'ecuador', 'energy', 'industry', 'kuwait', 'oil', 'output', 'petroleum', 'venezuela']):\n",
        "    \"\"\" Put the word2vec vectors into a matrix M.\n",
        "        Param:\n",
        "            wv_from_bin: KeyedVectors object; the 2.5 million word2vec vectors loaded from file\n",
        "        Return:\n",
        "            M: numpy matrix shape (num words, 300) containing the vectors\n",
        "            word2Ind: dictionary mapping each word to its row number in M\n",
        "    \"\"\"\n",
        "    import random\n",
        "    words = list(wv_from_bin.vocab.keys())\n",
        "    print(\"Shuffling words ...\")\n",
        "    random.shuffle(words)\n",
        "    words = words[:10000]\n",
        "    print(\"Putting %i words into word2Ind and matrix M...\" % len(words))\n",
        "    word2Ind = {}\n",
        "    M = []\n",
        "    curInd = 0\n",
        "    for w in words:\n",
        "        try:\n",
        "            M.append(wv_from_bin.word_vec(w))\n",
        "            word2Ind[w] = curInd\n",
        "            curInd += 1\n",
        "        except KeyError:\n",
        "            continue\n",
        "    for w in required_words:\n",
        "        try:\n",
        "            M.append(wv_from_bin.word_vec(w))\n",
        "            word2Ind[w] = curInd\n",
        "            curInd += 1\n",
        "        except KeyError:\n",
        "            continue\n",
        "    M = np.stack(M)\n",
        "    print(\"Done.\")\n",
        "    return M, word2Ind"
      ],
      "execution_count": 0,
      "outputs": []
    },
    {
      "cell_type": "code",
      "metadata": {
        "id": "hJg0CXTScIJI",
        "colab_type": "code",
        "outputId": "56be8b3d-9342-4d36-9640-79fe04113e11",
        "colab": {
          "base_uri": "https://localhost:8080/",
          "height": 102
        }
      },
      "source": [
        "# -----------------------------------------------------------------\n",
        "# Run Cell to Reduce 300-Dimensinal Word Embeddings to k Dimensions\n",
        "# Note: This may take several minutes\n",
        "# -----------------------------------------------------------------\n",
        "M, word2Ind = get_matrix_of_vectors(wv_from_bin)\n",
        "M_reduced = reduce_to_k_dim(M, k=2)"
      ],
      "execution_count": 17,
      "outputs": [
        {
          "output_type": "stream",
          "text": [
            "Shuffling words ...\n",
            "Putting 10000 words into word2Ind and matrix M...\n",
            "Done.\n",
            "Running Truncated SVD over 10010 words...\n",
            "Done.\n"
          ],
          "name": "stdout"
        }
      ]
    },
    {
      "cell_type": "markdown",
      "metadata": {
        "id": "k6_MI-W3cIJL",
        "colab_type": "text"
      },
      "source": [
        "### Question 2.1: Word2Vec Plot Analysis [written] (2 points)\n",
        "\n",
        "Run the cell below to plot the 2D word2vec embeddings for `['barrels', 'bpd', 'ecuador', 'energy', 'industry', 'kuwait', 'oil', 'output', 'petroleum', 'venezuela']`.\n"
      ]
    },
    {
      "cell_type": "code",
      "metadata": {
        "id": "88X6f5OwcIJM",
        "colab_type": "code",
        "outputId": "17865241-9771-4287-9589-4214d0961a3f",
        "colab": {
          "base_uri": "https://localhost:8080/",
          "height": 323
        }
      },
      "source": [
        "words = ['barrels', 'bpd', 'ecuador', 'energy', 'industry', 'kuwait', 'oil', 'output', 'petroleum', 'venezuela']\n",
        "plot_embeddings(M_reduced, word2Ind, words)"
      ],
      "execution_count": 18,
      "outputs": [
        {
          "output_type": "display_data",
          "data": {
            "image/png": "[encoded data removed]",
            "text/plain": [
              "<Figure size 720x360 with 1 Axes>"
            ]
          },
          "metadata": {
            "tags": []
          }
        }
      ]
    },
    {
      "cell_type": "markdown",
      "metadata": {
        "colab_type": "text",
        "id": "yz20ru4f4Ltr"
      },
      "source": [
        "**_Multiple Choice Question: Why aren't countries \"venezuela\", \"ecuador\" and \"kuwait\" clustered together in the Word2Vec plot while they were clustered together in the co-occurence plot? - State All That Apply_**\n",
        "\n",
        "A) Word2Vec was trained on a larger dataset in which the countries did not always appear in the same context as the small dataset, used to compute the co-occurence matrix\n",
        "\n",
        "B) The countries are not geographically close to each other\n"
      ]
    },
    {
      "cell_type": "markdown",
      "metadata": {
        "id": "rSe0-P3z4QLW",
        "colab_type": "text"
      },
      "source": [
        "** *italicized text*<font color='red'>Write your answer here.</font>**\n",
        "\n",
        "Ans: A\n"
      ]
    },
    {
      "cell_type": "markdown",
      "metadata": {
        "id": "nutxSVMXcIJQ",
        "colab_type": "text"
      },
      "source": [
        "### Cosine Similarity\n",
        "Now that we have word vectors, we need a way to quantify the similarity between individual words, according to these vectors. One such metric is cosine-similarity. We will be using this to find words that are \"close\" and \"far\" from one another.\n",
        "\n",
        "We can think of n-dimensional vectors as points in n-dimensional space. If we take this perspective L1 and L2 Distances help quantify the amount of space \"we must travel\" to get between these two points. Another approach is to examine the angle between two vectors. From trigonometry we know that:\n",
        "\n",
        "<img src=\"https://drive.google.com/uc?id=1PEmKQxxs5XB-N1Hz-jr514iWoqa62MgL\" width=20% style=\"float: center;\"></img>\n",
        "\n",
        "Instead of computing the actual angle, we can leave the similarity in terms of $similarity = cos(\\Theta)$. Formally the [Cosine Similarity](https://en.wikipedia.org/wiki/Cosine_similarity) $s$ between two vectors $p$ and $q$ is defined as:\n",
        "\n",
        "$$s = \\frac{p \\cdot q}{||p|| ||q||}, \\textrm{ where } s \\in [-1, 1] $$ "
      ]
    },
    {
      "cell_type": "markdown",
      "metadata": {
        "id": "01SfDtSHcIJQ",
        "colab_type": "text"
      },
      "source": [
        "### Question 2.2: Homophonous Words (2 points) [code + written] \n",
        "Find a [homophonous](https://en.wikipedia.org/wiki/Homophony) word (for example, \"leaves\" or \"scoop\") such that the top-10 most similar words (according to cosine similarity) contains related words from *both* meanings. For example, \"leaves\" has both \"vanishes\" and \"stalks\" in the top 10, and \"scoop\" has both \"handed_waffle_cone\" and \"lowdown\". \n",
        "**You will probably need to try several homophonous words before you find one.**\n",
        "\n",
        "**Note**: You should use the `wv_from_bin.most_similar(word)` function to get the top 10 similar words. This function ranks all other words in the vocabulary with respect to their cosine similarity to the given word. For further assistance please check the __[GenSim documentation](https://radimrehurek.com/gensim/models/keyedvectors.html#gensim.models.keyedvectors.FastTextKeyedVectors.most_similar)__.\n",
        "\n",
        "**_Written Question: State the homophonous word you discover and the multiple meanings that occur in the top 10. Why do you think many of the homophonous words you tried didn't work?_**\n"
      ]
    },
    {
      "cell_type": "code",
      "metadata": {
        "id": "NT1TUUT0cIJR",
        "colab_type": "code",
        "outputId": "119917ea-b02c-438a-87ee-06351d691274",
        "colab": {
          "base_uri": "https://localhost:8080/",
          "height": 1000
        }
      },
      "source": [
        "### SOLUTION BEGIN\n",
        "\n",
        "\n",
        "homephonous_words = [\"leaves\", \"scoop\", \"arms\", \"chair\", \"light\", \"novel\"]\n",
        "for word in homephonous_words:\n",
        "  pprint.pprint('Top 10 similar words of \"%s\"' % word)\n",
        "  pprint.pprint([s for s, _ in wv_from_bin.most_similar(word)])\n",
        "\n",
        "\n",
        "### SOLUTION END"
      ],
      "execution_count": 19,
      "outputs": [
        {
          "output_type": "stream",
          "text": [
            "'Top 10 similar words of \"leaves\"'\n"
          ],
          "name": "stdout"
        },
        {
          "output_type": "stream",
          "text": [
            "/usr/local/lib/python3.6/dist-packages/gensim/matutils.py:737: FutureWarning: Conversion of the second argument of issubdtype from `int` to `np.signedinteger` is deprecated. In future, it will be treated as `np.int64 == np.dtype(int).type`.\n",
            "  if np.issubdtype(vec.dtype, np.int):\n"
          ],
          "name": "stderr"
        },
        {
          "output_type": "stream",
          "text": [
            "['leaving',\n",
            " 'arrives',\n",
            " 'left',\n",
            " 'Leaves',\n",
            " 'leave',\n",
            " 'departs',\n",
            " 'lingers',\n",
            " 'vanishes',\n",
            " 'stalks',\n",
            " 'sends']\n",
            "'Top 10 similar words of \"scoop\"'\n",
            "['scoops',\n",
            " 'scooped',\n",
            " 'Royal_Wedding_Meltdowns',\n",
            " 'Restrictions_Leash',\n",
            " 'scooping',\n",
            " 'news@morehorror.com',\n",
            " 'handed_waffle_cone',\n",
            " 'lowdown',\n",
            " 'techie_breakie',\n",
            " 'sludgy_sand']\n",
            "'Top 10 similar words of \"arms\"'\n",
            "['weapons',\n",
            " 'armaments',\n",
            " 'doctors_revived_Coltyn',\n",
            " 'arm',\n",
            " 'Arms',\n",
            " 'weaponry',\n",
            " 'materiel',\n",
            " 'tearful_Murcer_fell',\n",
            " 'armament',\n",
            " 'legs']\n",
            "'Top 10 similar words of \"chair\"'\n",
            "['chairs',\n",
            " 'Chair',\n",
            " 'chairperson',\n",
            " 'chairwoman',\n",
            " 'chairman',\n",
            " 'Vice_Chair',\n",
            " 'Co_Chair',\n",
            " 'chairing',\n",
            " 'Chairs',\n",
            " 'cochair']\n",
            "'Top 10 similar words of \"light\"'\n",
            "['lights',\n",
            " 'yellowish_glow',\n",
            " 'illumination',\n",
            " 'Scaffold_Towers_DIY',\n",
            " 'Light',\n",
            " 'glow',\n",
            " 'illuminate',\n",
            " 'lighted',\n",
            " 'ghostly_glow',\n",
            " 'lighting']\n",
            "'Top 10 similar words of \"novel\"'\n",
            "['novels',\n",
            " 'Novel',\n",
            " 'novella',\n",
            " 'bestselling_novel',\n",
            " 'novelist',\n",
            " 'YA_novel',\n",
            " 'book',\n",
            " 'autobiographical_novel',\n",
            " 'novel_Housekeeping',\n",
            " 'Jeffrey_Deaver']\n"
          ],
          "name": "stdout"
        }
      ]
    },
    {
      "cell_type": "markdown",
      "metadata": {
        "id": "q5YDJp5ucIJU",
        "colab_type": "text"
      },
      "source": [
        "**<font color=\"red\">Write your answer here.**\n",
        "### arms\n",
        "Dose word2vector works for finding homophonous words in top 10 similar words? **<font color=\"red\">Yes.**\n",
        "\n",
        "Meaning 1: upper limbs\n",
        "\n",
        "Words related to this meaning in the top 10: *'legs'*\n",
        "\n",
        "Meaning 2: weapons and ammunition; armaments.\n",
        "\n",
        "Words related to this meaning in the top 10: *'weapons', 'armaments', 'weaponry','materiel', 'armament'*\n",
        "\n",
        "### chair\n",
        "Dose word2vector works for finding homophonous words in top 10 similar words? **<font color=\"red\">No.**\n",
        "\n",
        "Meaning 1: a seat for one person\n",
        "\n",
        "Words related to this meaning in the top 10: *N/A*\n",
        "\n",
        "Meaning 2: the leader for a group or meeting\n",
        "\n",
        "Words related to this meaning in the top 10: *' 'chairperson',\n",
        " 'chairwoman',\n",
        " 'chairman',\n",
        " 'Vice_Chair',\n",
        " 'Co_Chair',\n",
        " 'chairing',\n",
        " 'Chairs',\n",
        " 'cochair'*\n",
        "\n",
        " ### light\n",
        "Dose word2vector works for finding homophonous words in top 10 similar words? **<font color=\"red\">No.**\n",
        "\n",
        "Meaning 1: something that make things visible\n",
        "\n",
        "Words related to this meaning in the top 10: *'lights',\n",
        " 'yellowish_glow',\n",
        " 'illumination',\n",
        " 'Scaffold_Towers_DIY',\n",
        " 'Light',\n",
        " 'glow',\n",
        " 'illuminate',\n",
        " 'lighted',\n",
        " 'ghostly_glow',\n",
        " 'lighting'*\n",
        "\n",
        "Meaning 2: not heavy, easy to lift\n",
        "\n",
        "Words related to this meaning in the top 10: *N/A*\n",
        "\n",
        "### novel\n",
        "Dose word2vector works for finding homophonous words in top 10 similar words? **<font color=\"red\">No.**\n",
        "\n",
        "Meaning 1: long written story\n",
        "\n",
        "Words related to this meaning in the top 10: * 'novella',\n",
        " 'bestselling_novel',\n",
        " 'novelist',\n",
        " 'YA_novel',\n",
        " 'book',\n",
        " 'autobiographical_novel',\n",
        " 'novel_Housekeeping',\n",
        " 'Jeffrey_Deaver'*\n",
        "\n",
        "Meaning 2: new or different\n",
        "\n",
        "Words related to this meaning in the top 10: *N/A*\n",
        "\n",
        "\n",
        "### *Why do you think many of the homophonous words you tried didn't work?*\n",
        "Ans: Because word2vector is trained with Skip-Gram model.\n",
        "\n",
        "> The main idea behind the Skip-Gram model is this: it takes every word in a large corpora (we will call it the focus word) and also takes one-by-one the words that surround it within a defined ‘window’ to then feed a neural network that after training will predict the probability for each word to actually appear in the window around the focus word.\n",
        ">  Refer from: https://becominghuman.ai/how-does-word2vecs-skip-gram-work-f92e0525def4\n",
        "\n",
        "Some meaning of one homophonous word appears more open than other meanings in  corpus.\n"
      ]
    },
    {
      "cell_type": "markdown",
      "metadata": {
        "id": "K5-CpkCmcIJV",
        "colab_type": "text"
      },
      "source": [
        "### Question 2.3: Synonyms & Antonyms (2 points) [code + written] \n",
        "\n",
        "When considering Cosine Similarity, it's often more convenient to think of Cosine Distance, which is simply 1 - Cosine Similarity.\n",
        "\n",
        "Find three words (w1,w2,w3) where w1 and w2 are synonyms and w1 and w3 are antonyms, but Cosine Distance(w1,w3) < Cosine Distance(w1,w2). For example, w1=\"happy\" is closer to w3=\"sad\" than to w2=\"cheerful\".  (1 point)\n",
        "\n",
        "You should use the the `wv_from_bin.distance(w1, w2)` function here in order to compute the cosine distance between two words. Please see the __[GenSim documentation](https://radimrehurek.com/gensim/models/keyedvectors.html#gensim.models.keyedvectors.FastTextKeyedVectors.distance)__ for further assistance.\n",
        "\n",
        "**_Written Question: State which three words (w1, w2, w3) you found. What are some possible explanations for why this counterintuitive result happened?_**"
      ]
    },
    {
      "cell_type": "code",
      "metadata": {
        "id": "uqZN_746cIJV",
        "colab_type": "code",
        "outputId": "e5cb1cfb-e783-4669-e5a9-01a3cd589225",
        "colab": {
          "base_uri": "https://localhost:8080/",
          "height": 105
        }
      },
      "source": [
        "### SOLUTION BEGIN\n",
        "\n",
        "w1 = \"love\"\n",
        "w2 = \"like\"\n",
        "w3 = \"hate\"\n",
        "w1_w2_dist = wv_from_bin.distance(w1, w2)\n",
        "w1_w3_dist = wv_from_bin.distance(w1, w3)\n",
        "\n",
        "print(\"Synonyms {}, {} have cosine distance: {}\".format(w1, w2, w1_w2_dist))\n",
        "print(\"Antonyms {}, {} have cosine distance: {}\".format(w1, w3, w1_w3_dist))\n",
        "\n",
        "### SOLUTION END"
      ],
      "execution_count": 20,
      "outputs": [
        {
          "output_type": "stream",
          "text": [
            "Synonyms love, like have cosine distance: 0.6328612267971039\n",
            "Antonyms love, hate have cosine distance: 0.3996043801307678\n"
          ],
          "name": "stdout"
        },
        {
          "output_type": "stream",
          "text": [
            "/usr/local/lib/python3.6/dist-packages/gensim/matutils.py:737: FutureWarning: Conversion of the second argument of issubdtype from `int` to `np.signedinteger` is deprecated. In future, it will be treated as `np.int64 == np.dtype(int).type`.\n",
            "  if np.issubdtype(vec.dtype, np.int):\n"
          ],
          "name": "stderr"
        }
      ]
    },
    {
      "cell_type": "markdown",
      "metadata": {
        "id": "InB37t5HcIJZ",
        "colab_type": "text"
      },
      "source": [
        "**<font color=\"red\">Write your answer here.**\n",
        "\n",
        "w1=\"love\" is closer to w3=\"hate\" than to w2=\"like\".\n",
        "\n",
        "错 skip gram可以找到 intercahgeable\n",
        "\n",
        "Reason: For synonyms 'love' and 'like', they can replace each other in some cotext. But skip-gram model cannot find this 'replacable' knowledge. 'love' and 'hate' appear more open than 'love' and 'like' in corpus, so by skip-gram method, 'love' and 'hate' is closer. \n",
        "\n",
        "Words close in this space are often synonyms (e.g. happy and delighted), antonyms (e.g. good and evil) or other easily interchangeable words (e.g. yellow and blue).\n",
        "\n"
      ]
    },
    {
      "cell_type": "markdown",
      "metadata": {
        "id": "MCV6TLW8cIJa",
        "colab_type": "text"
      },
      "source": [
        "### Solving Analogies with Word Vectors\n",
        "Word2Vec vectors have been shown to *sometimes* exhibit the ability to solve analogies. \n",
        "\n",
        "As an example, for the analogy \"man : king :: woman : x\", what is x?\n",
        "\n",
        "In the cell below, we show you how to use word vectors to find x. The `most_similar` function finds words that are most similar to the words in the `positive` list and most dissimilar from the words in the `negative` list. The answer to the analogy will be the word ranked most similar (largest numerical value).\n",
        "\n",
        "**Note:** Further Documentation on the `most_similar` function can be found within the __[GenSim documentation](https://radimrehurek.com/gensim/models/keyedvectors.html#gensim.models.keyedvectors.FastTextKeyedVectors.most_similar)__."
      ]
    },
    {
      "cell_type": "code",
      "metadata": {
        "id": "SOwdmtd5cIJa",
        "colab_type": "code",
        "outputId": "b65f13eb-7e80-4d87-ad51-b8736dd70c50",
        "colab": {
          "base_uri": "https://localhost:8080/",
          "height": 241
        }
      },
      "source": [
        "# Run this cell to answer the analogy -- man : king :: woman : x\n",
        "pprint.pprint(wv_from_bin.most_similar(positive=['woman', 'king'], negative=['man']))"
      ],
      "execution_count": 21,
      "outputs": [
        {
          "output_type": "stream",
          "text": [
            "/usr/local/lib/python3.6/dist-packages/gensim/matutils.py:737: FutureWarning: Conversion of the second argument of issubdtype from `int` to `np.signedinteger` is deprecated. In future, it will be treated as `np.int64 == np.dtype(int).type`.\n",
            "  if np.issubdtype(vec.dtype, np.int):\n"
          ],
          "name": "stderr"
        },
        {
          "output_type": "stream",
          "text": [
            "[('queen', 0.7118192911148071),\n",
            " ('monarch', 0.6189674139022827),\n",
            " ('princess', 0.5902431011199951),\n",
            " ('crown_prince', 0.5499460697174072),\n",
            " ('prince', 0.5377321243286133),\n",
            " ('kings', 0.5236844420433044),\n",
            " ('Queen_Consort', 0.5235945582389832),\n",
            " ('queens', 0.518113374710083),\n",
            " ('sultan', 0.5098593235015869),\n",
            " ('monarchy', 0.5087411999702454)]\n"
          ],
          "name": "stdout"
        }
      ]
    },
    {
      "cell_type": "markdown",
      "metadata": {
        "id": "zzh1VLtZcIJe",
        "colab_type": "text"
      },
      "source": [
        "### Question 2.4: Finding Analogies [code + written]  (2 Points)\n",
        "\n",
        "Find an example of analogy that holds according to these vectors (i.e. the intended word is ranked top). **Note**: You may have to try many analogies to find one that works!\n",
        "\n",
        "**_Written Question: State the successful analogy you found in the form x:y :: a:b. If you believe the analogy is complicated, give a short explanation as to why it holds._**\n",
        "\n"
      ]
    },
    {
      "cell_type": "code",
      "metadata": {
        "id": "VzWNARUqcIJf",
        "colab_type": "code",
        "colab": {
          "base_uri": "https://localhost:8080/",
          "height": 326
        },
        "outputId": "40f747fc-4dd6-4beb-8970-73a24e37a0de"
      },
      "source": [
        "### SOLUTION BEGIN\n",
        "\n",
        "pprint.pprint(wv_from_bin.most_similar(positive=['woman', 'king'], negative=['man'], topn=1)) # queen\n",
        "pprint.pprint(wv_from_bin.most_similar(positive=['woman', 'father'], negative=['man'], topn=1)) # mother\n",
        "pprint.pprint(wv_from_bin.most_similar(positive=['woman', 'brother'], negative=['man'], topn=1)) # sister\n",
        "pprint.pprint(wv_from_bin.most_similar(positive=['woman', 'actor'], negative=['man'], topn=1)) # actress\n",
        "pprint.pprint(wv_from_bin.most_similar(positive=['university', 'doctor'], negative=['hospital'], topn=2)) # professors\n",
        "pprint.pprint([s for s, _ in wv_from_bin.most_similar('doctor')])\n",
        "#pprint.pprint(wv_from_bin.most_similar(positive=['president'], negative=['power'], topn=10))\n",
        "\n",
        "\n",
        "\n",
        "\n",
        "\n",
        "### SOLUTION END"
      ],
      "execution_count": 33,
      "outputs": [
        {
          "output_type": "stream",
          "text": [
            "/usr/local/lib/python3.6/dist-packages/gensim/matutils.py:737: FutureWarning: Conversion of the second argument of issubdtype from `int` to `np.signedinteger` is deprecated. In future, it will be treated as `np.int64 == np.dtype(int).type`.\n",
            "  if np.issubdtype(vec.dtype, np.int):\n"
          ],
          "name": "stderr"
        },
        {
          "output_type": "stream",
          "text": [
            "[('queen', 0.7118192911148071)]\n",
            "[('mother', 0.8462507724761963)]\n",
            "[('sister', 0.8103213906288147)]\n",
            "[('actress', 0.860262393951416)]\n",
            "[('professors', 0.5628007650375366), ('faculty', 0.49196237325668335)]\n",
            "['physician',\n",
            " 'doctors',\n",
            " 'gynecologist',\n",
            " 'surgeon',\n",
            " 'dentist',\n",
            " 'pediatrician',\n",
            " 'pharmacist',\n",
            " 'neurologist',\n",
            " 'cardiologist',\n",
            " 'nurse']\n"
          ],
          "name": "stdout"
        }
      ]
    },
    {
      "cell_type": "markdown",
      "metadata": {
        "id": "AZIHO7cJcIJi",
        "colab_type": "text"
      },
      "source": [
        "<font color=\"red\">**Write your answer here.**</font>\n",
        "### Analogy in the form x:y :: a:b, why it holds?\n",
        "<p>Because if distance between x and y is similar with distanc between a and b with other word w. </p>\n",
        "<p>Skip-gram can capture this property. So we have:</p>\n",
        "$$\\vec{v_{w}}\\cdot\\vec{v_{x}}- \\vec{v_{w}}\\cdot\\vec{v_{y}} \\approx \\vec{v_{w}}\\cdot\\vec{v_{a}}- \\vec{v_{w}}\\cdot\\vec{v_{b}}$$\n",
        "$$\\vec{v_{w}}\\cdot(\\vec{v_{x}}- \\vec{v_{y}}) \\approx \\vec{v_{w}}\\cdot(\\vec{v_{a}}- \\vec{v_{b}}) $$\n",
        "$$\\vec{v_{x}}- \\vec{v_{y}} + \\vec{v_{b}} \\approx \\vec{v_{a}} $$\n",
        "\n",
        "Another words, skip-gram catpure the knowledge of *'man-king is like woman-queen*\n",
        "'\n"
      ]
    },
    {
      "cell_type": "markdown",
      "metadata": {
        "id": "3AYHqZ0gcIJj",
        "colab_type": "text"
      },
      "source": [
        "### Question 2.5: Incorrect Analogy [code + written] (2 point)\n",
        "\n",
        "Find an example of analogy that does **not** hold according to these vectors.\n",
        "\n",
        "**_Written Question: State the intended analogy in the form x:y :: a:b, and state the (incorrect) value of b according to the word vectors._**"
      ]
    },
    {
      "cell_type": "code",
      "metadata": {
        "id": "OaiZI-95cIJm",
        "colab_type": "code",
        "colab": {
          "base_uri": "https://localhost:8080/",
          "height": 105
        },
        "outputId": "778055a9-790f-449d-8782-44d1331af908"
      },
      "source": [
        "### SOLUTION BEGIN\n",
        "\n",
        "pprint.pprint(wv_from_bin.most_similar(positive=['far', 'quick'], negative=['quickest'], topn=1)) # much\n",
        "pprint.pprint(wv_from_bin.most_similar(positive=['mother', 'father'], negative=['doctor'], topn=1)) # nurse\n",
        "\n",
        "\n",
        "### SOLUTION END"
      ],
      "execution_count": 37,
      "outputs": [
        {
          "output_type": "stream",
          "text": [
            "/usr/local/lib/python3.6/dist-packages/gensim/matutils.py:737: FutureWarning: Conversion of the second argument of issubdtype from `int` to `np.signedinteger` is deprecated. In future, it will be treated as `np.int64 == np.dtype(int).type`.\n",
            "  if np.issubdtype(vec.dtype, np.int):\n"
          ],
          "name": "stderr"
        },
        {
          "output_type": "stream",
          "text": [
            "[('much', 0.48306822776794434)]\n",
            "[('son', 0.763292670249939)]\n"
          ],
          "name": "stdout"
        }
      ]
    },
    {
      "cell_type": "markdown",
      "metadata": {
        "id": "qI7fQ0y5cIJo",
        "colab_type": "text"
      },
      "source": [
        "<font color=\"red\">**Write your answer here.**</font>\n",
        "\n",
        "Should be quick:quickest :: far:further\n",
        "\n",
        "But word2vector output 'much'\n",
        "\n",
        "Should be father:doctor :: mother:nurse\n",
        "\n",
        "But word2vector output 'son'"
      ]
    },
    {
      "cell_type": "markdown",
      "metadata": {
        "id": "4G2ozsjccIJp",
        "colab_type": "text"
      },
      "source": [
        "### Question 2.6: Guided Analysis of Bias in Word Vectors [written] (1 point)\n",
        "\n",
        "It's important to be cognizant of the biases (gender, race, sexual orientation etc.) implicit to our word embeddings.\n",
        "\n",
        "Run the cell below, to examine (a) which terms are most similar to \"woman\" and \"boss\" and most dissimilar to \"man\", and (b) which terms are most similar to \"man\" and \"boss\" and most dissimilar to \"woman\".\n",
        "\n",
        "**_Written Question: Point out one difference between the list of female-associated words and the list of male-associated words, and explain how it is reflecting a potential gender bias. Where the search has returned named entities, you may want to perform a quick search to understand what/who they refer to._**"
      ]
    },
    {
      "cell_type": "code",
      "metadata": {
        "id": "gfOf880QcIJr",
        "colab_type": "code",
        "colab": {
          "base_uri": "https://localhost:8080/",
          "height": 428
        },
        "outputId": "4a438a5c-2413-4111-8e07-94b6ace56b2a"
      },
      "source": [
        "# Run this cell\n",
        "# Here `positive` indicates the list of words to be similar to and `negative` indicates the list of words to be\n",
        "# most dissimilar from.\n",
        "pprint.pprint(wv_from_bin.most_similar(positive=['woman', 'boss'], negative=['man']))\n",
        "print()\n",
        "pprint.pprint(wv_from_bin.most_similar(positive=['man', 'boss'], negative=['woman']))"
      ],
      "execution_count": 35,
      "outputs": [
        {
          "output_type": "stream",
          "text": [
            "/usr/local/lib/python3.6/dist-packages/gensim/matutils.py:737: FutureWarning: Conversion of the second argument of issubdtype from `int` to `np.signedinteger` is deprecated. In future, it will be treated as `np.int64 == np.dtype(int).type`.\n",
            "  if np.issubdtype(vec.dtype, np.int):\n"
          ],
          "name": "stderr"
        },
        {
          "output_type": "stream",
          "text": [
            "[('bosses', 0.5522644519805908),\n",
            " ('manageress', 0.49151360988616943),\n",
            " ('exec', 0.459408164024353),\n",
            " ('Manageress', 0.45598435401916504),\n",
            " ('receptionist', 0.4474116861820221),\n",
            " ('Jane_Danson', 0.44480547308921814),\n",
            " ('Fiz_Jennie_McAlpine', 0.44275766611099243),\n",
            " ('Coronation_Street_actress', 0.44275569915771484),\n",
            " ('supremo', 0.4409852921962738),\n",
            " ('coworker', 0.4398624897003174)]\n",
            "\n",
            "[('supremo', 0.6097397804260254),\n",
            " ('MOTHERWELL_boss', 0.5489562153816223),\n",
            " ('CARETAKER_boss', 0.5375303626060486),\n",
            " ('YEOVIL_Town_boss', 0.5321705341339111),\n",
            " ('head_honcho', 0.5281980037689209),\n",
            " ('manager_Stan_Ternent', 0.525971531867981),\n",
            " ('Viv_Busby', 0.5256163477897644),\n",
            " ('striker_Gabby_Agbonlahor', 0.5250812768936157),\n",
            " ('BARNSLEY_boss', 0.5238943099975586),\n",
            " ('WIGAN_boss', 0.5175146460533142)]\n"
          ],
          "name": "stdout"
        }
      ]
    },
    {
      "cell_type": "markdown",
      "metadata": {
        "id": "xgZRwIFEcIJu",
        "colab_type": "text"
      },
      "source": [
        "<font color=\"red\">**Write your answer here.**</font>\n",
        "什么意思\n",
        "\n",
        "(a) which terms are most similar to \"woman\" and \"boss\" and most dissimilar to \"man\"? \n",
        "\n",
        "Ans: 'bosses'\n",
        "\n",
        "(b) which terms are most similar to \"man\" and \"boss\" and most dissimilar to \"woman\"?\n",
        "\n",
        "Ans: 'supremo'\n"
      ]
    },
    {
      "cell_type": "markdown",
      "metadata": {
        "id": "9htBlSgGcIJw",
        "colab_type": "text"
      },
      "source": [
        "### Question 2.7: Independent Analysis of Bias in Word Vectors [code + written]  (2 points)\n",
        "\n",
        "Use the `most_similar` function to find another case where some bias is exhibited by the vectors. \n",
        "\n",
        "**_Written Question: Briefly explain the additional example of bias that you discover._**"
      ]
    },
    {
      "cell_type": "code",
      "metadata": {
        "id": "WRlHoB7dcIJx",
        "colab_type": "code",
        "colab": {
          "base_uri": "https://localhost:8080/",
          "height": 173
        },
        "outputId": "d62b8bea-c56c-4233-b034-9587bdb7e0e8"
      },
      "source": [
        "### SOLUTION BEGIN\n",
        "\n",
        "#pprint.pprint(wv_from_bin.most_similar(positive=[], negative=[]))\n",
        "print()\n",
        "pprint.pprint(wv_from_bin.most_similar(positive=['woman', 'doctor'], negative=['man'], topn=5)) # gynecologist, nurse\n",
        "### SOLUTION END"
      ],
      "execution_count": 71,
      "outputs": [
        {
          "output_type": "stream",
          "text": [
            "\n"
          ],
          "name": "stdout"
        },
        {
          "output_type": "stream",
          "text": [
            "/usr/local/lib/python3.6/dist-packages/gensim/matutils.py:737: FutureWarning: Conversion of the second argument of issubdtype from `int` to `np.signedinteger` is deprecated. In future, it will be treated as `np.int64 == np.dtype(int).type`.\n",
            "  if np.issubdtype(vec.dtype, np.int):\n"
          ],
          "name": "stderr"
        },
        {
          "output_type": "stream",
          "text": [
            "[('gynecologist', 0.7093892097473145),\n",
            " ('nurse', 0.647728681564331),\n",
            " ('doctors', 0.6471461057662964),\n",
            " ('physician', 0.64389967918396),\n",
            " ('pediatrician', 0.6249487996101379)]\n"
          ],
          "name": "stdout"
        }
      ]
    },
    {
      "cell_type": "markdown",
      "metadata": {
        "id": "ZXb8iUpTcIJ0",
        "colab_type": "text"
      },
      "source": [
        "<font color=\"red\">**Write your answer here.**</font>\n",
        " \n",
        " Acooding to word2vec, terms are most similar to \"woman\" and \"doctor\" and most dissimilar to \"gynecologist\" and \"nurse\"?"
      ]
    },
    {
      "cell_type": "markdown",
      "metadata": {
        "id": "6FlZgACAcIJ1",
        "colab_type": "text"
      },
      "source": [
        "### Question 2.8: Thinking About Bias [written] (1 point)"
      ]
    },
    {
      "cell_type": "markdown",
      "metadata": {
        "id": "Fu--OCUQeNzC",
        "colab_type": "text"
      },
      "source": [
        "**_Multiple Choice Question: What factors might contribute to the biases observed in the word vectors? (State all that apply)_**\n",
        "\n",
        "A)   These biases may come from bias in the text (possibly held by people generating the text) that was used as training data\n",
        "\n",
        "B)   The training corpus may have many instances of sentences that relate certain races, genders, etc. to certain properties or behaviours\n",
        "\n",
        "C)   These biases come from the dictionary meaning of words\n",
        "\n",
        "\n"
      ]
    },
    {
      "cell_type": "markdown",
      "metadata": {
        "id": "Odf06qEHevzb",
        "colab_type": "text"
      },
      "source": [
        "\n",
        "<font color=\"red\">**Write your answer here.**</font>\n",
        "A) and B) are correct C) is wrong."
      ]
    },
    {
      "cell_type": "markdown",
      "metadata": {
        "id": "sPuJMxMjcIJ2",
        "colab_type": "text"
      },
      "source": [
        "# <font color=\"blue\"> Submission Instructions</font>\n",
        "\n",
        "1. Please make sure you have entered your name and SCPD XID Number above\n",
        "2. Click the Save button at the top (“File > Save”)\n",
        "3. Select “Edit > Clear All Outputs”. This will clear all the outputs from all cells (but will keep the content of all cells).\n",
        "4. Select “Runtime > Run All”. This will run all the cells in order, and will take several minutes.\n",
        "5. Once you've rerun everything, select “File > Print > Save as PDF”\n",
        "6. Look at the PDF file and make sure all your solutions are there, displayed correctly including the output cells. The PDF is the only thing your graders will see!\n",
        "7. Submit your PDF via the Gradescope submission link in the Assignment 1 block of your SCPD learning portal. The system will ask you to take 1-2 minutes to tag pages of your PDF to the corresponding response item. You can see a demonstration of this submission process at this link - https://youtu.be/yocclo79qh4\n"
      ]
    }
  ]
}