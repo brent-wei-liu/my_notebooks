{
 "cells": [
  {
   "cell_type": "markdown",
   "metadata": {},
   "source": [
    "### Recommendations with MovieTweetings: Getting to Know The Data\n",
    "\n",
    "Throughout this lesson, you will be working with the [MovieTweetings Data](https://github.com/sidooms/MovieTweetings/tree/master/recsyschallenge2014).  To get started, you can read more about this project and the dataset from the [publication here](http://crowdrec2013.noahlab.com.hk/papers/crowdrec2013_Dooms.pdf).\n",
    "\n",
    "**Note:** There are solutions to each of the notebooks available by hitting the orange jupyter logo in the top left of this notebook.  Additionally, you can watch me work through the solutions on the screencasts that follow each workbook. \n",
    "\n",
    "To get started, read in the libraries and the two datasets you will be using throughout the lesson using the code below.\n",
    "\n",
    " "
   ]
  },
  {
   "cell_type": "code",
   "execution_count": 2,
   "metadata": {},
   "outputs": [
    {
     "name": "stdout",
     "output_type": "stream",
     "text": [
      "total 97M\r\n",
      "drwxr-xr-x 7 root root 4.0K Nov 13 01:43 .\r\n",
      "drwxr-xr-x 1 root root 4.0K Nov 13 01:41 ..\r\n",
      "-rw-r--r-- 1 root root  16M Aug 11  2018 all_recs.p\r\n",
      "-rw-r--r-- 1 root root  28K Dec 15  2018 Collaborative Filtering.ipynb\r\n",
      "-rw-r--r-- 1 root root  39K Dec 15  2018 Collaborative Filtering - Solution.ipynb\r\n",
      "-rw-r--r-- 1 root root  26K Aug  6 03:37 Collaborative_Filtering-zh.ipynb\r\n",
      "-rw-r--r-- 1 root root  17K Oct 15  2018 Content Based Recommendations.ipynb\r\n",
      "-rw-r--r-- 1 root root  21K Oct 15  2018 Content Based Recommendations - Solution.ipynb\r\n",
      "-rw-r--r-- 1 root root  16K Nov 11 02:19 Content_Based_Recommendations-zh.ipynb\r\n",
      "drwxr-xr-x 4 root root 4.0K Mar 15  2019 data\r\n",
      "-rw-r--r-- 1 root root  16M Nov 10 01:12 haha.tar.gz\r\n",
      "-rw-r--r-- 1 root root  149 Aug 10  2018 helper.py\r\n",
      "drwxr-xr-x 2 root root 4.0K Apr 22  2019 images\r\n",
      "-rw-r--r-- 1 root root 9.1K Nov 13 01:43 Introduction to the Recommendation Data.ipynb\r\n",
      "-rw-r--r-- 1 root root  16K Oct 22  2018 Introduction to the Recommendation Data - Solution.ipynb\r\n",
      "-rw-r--r-- 1 root root 7.1K Nov 10 01:11 Introduction_to_the_Recommendation_Data-zh.ipynb\r\n",
      "drwxr-xr-x 2 root root 4.0K Jul 19 02:28 .ipynb_checkpoints\r\n",
      "-rw-r--r-- 1 root root  21K Oct 15  2018 Measuring Similarity.ipynb\r\n",
      "-rw-r--r-- 1 root root  24K Oct 15  2018 Measuring Similarity - Solution.ipynb\r\n",
      "-rw-r--r-- 1 root root  19K Jul 19 02:38 Measuring_Similarity-zh.ipynb\r\n",
      "-rw-r--r-- 1 root root 6.9K Jul 19 02:33 Most_Popular_Recommendations.ipynb\r\n",
      "-rw-r--r-- 1 root root  13K Oct 15  2018 Most_Popular_Recommendations-Solution.ipynb\r\n",
      "-rw-r--r-- 1 root root 6.3K Aug  6 03:15 Most_Popular_Recommendations-zh.ipynb\r\n",
      "-rw-r--r-- 1 root root 3.6M Jun 27  2018 movies_clean.csv\r\n",
      "drwxr-xr-x 2 root root 4.0K Nov 10 01:10 __pycache__\r\n",
      "-rw-r--r-- 1 root root  61M Jun 27  2018 reviews_clean.csv\r\n",
      "-rw-r--r-- 1 root root  12K Dec 14  2018 tests.py\r\n",
      "drwx------ 4 root root 4.0K Apr 22  2019 .Trash-0\r\n",
      "-rw-r--r-- 1 root root   45 Nov 10 00:52 workspace.tar.gz\r\n"
     ]
    }
   ],
   "source": [
    "!ls -alh"
   ]
  },
  {
   "cell_type": "code",
   "execution_count": null,
   "metadata": {},
   "outputs": [
    {
     "name": "stdout",
     "output_type": "stream",
     "text": [
      "/home/workspace\n",
      "/home/workspace\n"
     ]
    }
   ],
   "source": [
    "!pwd\n",
    "!cd ..\n",
    "!pwd\n",
    "!tar -czf workspace.tar.gz *.ipynb images  *.csv *.py *.p\n"
   ]
  },
  {
   "cell_type": "code",
   "execution_count": null,
   "metadata": {},
   "outputs": [],
   "source": [
    "import numpy as np\n",
    "import pandas as pd\n",
    "import matplotlib.pyplot as plt\n",
    "import tests as t\n",
    "\n",
    "%matplotlib inline\n",
    "\n",
    "# Read in the datasets\n",
    "movies = pd.read_csv('https://raw.githubusercontent.com/sidooms/MovieTweetings/master/latest/movies.dat', delimiter='::', header=None, names=['movie_id', 'movie', 'genre'], dtype={'movie_id': object}, engine='python')\n",
    "reviews = pd.read_csv('https://raw.githubusercontent.com/sidooms/MovieTweetings/master/latest/ratings.dat', delimiter='::', header=None, names=['user_id', 'movie_id', 'rating', 'timestamp'], dtype={'movie_id': object, 'user_id': object, 'timestamp': object}, engine='python')"
   ]
  },
  {
   "cell_type": "markdown",
   "metadata": {},
   "source": [
    "#### 1. Take a Look At The Data \n",
    "\n",
    "Take a look at the data and use your findings to fill in the dictionary below with the correct responses to show your understanding of the data."
   ]
  },
  {
   "cell_type": "code",
   "execution_count": null,
   "metadata": {},
   "outputs": [],
   "source": [
    "# cell for work"
   ]
  },
  {
   "cell_type": "code",
   "execution_count": null,
   "metadata": {},
   "outputs": [],
   "source": [
    "# cell for work"
   ]
  },
  {
   "cell_type": "code",
   "execution_count": null,
   "metadata": {},
   "outputs": [],
   "source": [
    "# more work"
   ]
  },
  {
   "cell_type": "code",
   "execution_count": null,
   "metadata": {},
   "outputs": [],
   "source": [
    "# and still more"
   ]
  },
  {
   "cell_type": "code",
   "execution_count": null,
   "metadata": {},
   "outputs": [],
   "source": [
    "# and even more - open additional cells as necessary"
   ]
  },
  {
   "cell_type": "code",
   "execution_count": null,
   "metadata": {},
   "outputs": [],
   "source": [
    "# Use your findings to match each variable to the correct statement in the dictionary\n",
    "\n",
    "\n",
    "dict_sol1 = {\n",
    "'The number of movies in the dataset': \n",
    "'The number of ratings in the dataset':\n",
    "'The number of different genres':\n",
    "'The number of unique users in the dataset':\n",
    "'The number missing ratings in the reviews dataset':\n",
    "'The average rating given across all ratings':\n",
    "'The minimum rating given across all ratings':\n",
    "'The maximum rating given across all ratings':\n",
    "}\n",
    "\n",
    "# Originally, I had this to check your solution, but the \n",
    "# links are live and updating.  That didn't end up being\n",
    "# a great idea\n"
   ]
  },
  {
   "cell_type": "markdown",
   "metadata": {},
   "source": [
    "#### 2. Data Cleaning\n",
    "\n",
    "Next, we need to pull some additional relevant information out of the existing columns. \n",
    "\n",
    "For each of the datasets, there are a couple of cleaning steps we need to take care of:\n",
    "\n",
    "#### Movies\n",
    "* Pull the date from the title and create new column\n",
    "* Dummy the date column with 1's and 0's for each century of a movie (1800's, 1900's, and 2000's)\n",
    "* Dummy column the genre with 1's and 0's\n",
    "\n",
    "#### Reviews\n",
    "* Create a date out of time stamp\n",
    "\n",
    "You can check your results against the header of my solution by running the cell below with the **show_clean_dataframes** function."
   ]
  },
  {
   "cell_type": "code",
   "execution_count": null,
   "metadata": {},
   "outputs": [],
   "source": [
    "# cell for work"
   ]
  },
  {
   "cell_type": "code",
   "execution_count": null,
   "metadata": {},
   "outputs": [],
   "source": [
    "# and another"
   ]
  },
  {
   "cell_type": "code",
   "execution_count": null,
   "metadata": {},
   "outputs": [],
   "source": [
    "# and a few more below, which you can use as necessary"
   ]
  },
  {
   "cell_type": "code",
   "execution_count": null,
   "metadata": {},
   "outputs": [],
   "source": []
  },
  {
   "cell_type": "code",
   "execution_count": null,
   "metadata": {},
   "outputs": [],
   "source": []
  },
  {
   "cell_type": "code",
   "execution_count": null,
   "metadata": {},
   "outputs": [],
   "source": []
  },
  {
   "cell_type": "code",
   "execution_count": null,
   "metadata": {},
   "outputs": [],
   "source": []
  },
  {
   "cell_type": "code",
   "execution_count": null,
   "metadata": {},
   "outputs": [],
   "source": []
  },
  {
   "cell_type": "code",
   "execution_count": null,
   "metadata": {},
   "outputs": [],
   "source": []
  },
  {
   "cell_type": "code",
   "execution_count": null,
   "metadata": {},
   "outputs": [],
   "source": []
  },
  {
   "cell_type": "code",
   "execution_count": null,
   "metadata": {},
   "outputs": [],
   "source": [
    "reviews_new, movies_new = t.show_clean_dataframes()"
   ]
  }
 ],
 "metadata": {
  "kernelspec": {
   "display_name": "Python 3",
   "language": "python",
   "name": "python3"
  },
  "language_info": {
   "codemirror_mode": {
    "name": "ipython",
    "version": 3
   },
   "file_extension": ".py",
   "mimetype": "text/x-python",
   "name": "python",
   "nbconvert_exporter": "python",
   "pygments_lexer": "ipython3",
   "version": "3.6.3"
  }
 },
 "nbformat": 4,
 "nbformat_minor": 2
}
