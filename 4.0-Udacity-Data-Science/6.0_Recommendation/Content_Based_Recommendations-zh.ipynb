{
 "cells": [
  {
   "cell_type": "markdown",
   "metadata": {},
   "source": [
    "### 基于内容的推荐机制\n",
    "\n",
    "在上个 notebook 中，我们介绍了如何使用协同过滤进行推荐。但是如果使用该技巧，有很多用户根本无法获得任何推荐电影。还有一些用户获得的推荐电影不到函数设置的十部电影上限。\n",
    "\n",
    "为了向这些用户做出推荐，我们将尝试另一个技巧：**基于内容的**推荐机制。我们接着上个 notebook 继续。"
   ]
  },
  {
   "cell_type": "code",
   "execution_count": 1,
   "metadata": {},
   "outputs": [
    {
     "ename": "ModuleNotFoundError",
     "evalue": "No module named 'progressbar'",
     "output_type": "error",
     "traceback": [
      "\u001b[0;31m---------------------------------------------------------------------------\u001b[0m",
      "\u001b[0;31mModuleNotFoundError\u001b[0m                       Traceback (most recent call last)",
      "\u001b[0;32m<ipython-input-1-fc7343ea17cd>\u001b[0m in \u001b[0;36m<module>\u001b[0;34m()\u001b[0m\n\u001b[1;32m      4\u001b[0m \u001b[0;32mfrom\u001b[0m \u001b[0mcollections\u001b[0m \u001b[0;32mimport\u001b[0m \u001b[0mdefaultdict\u001b[0m\u001b[0;34m\u001b[0m\u001b[0m\n\u001b[1;32m      5\u001b[0m \u001b[0;32mfrom\u001b[0m \u001b[0mIPython\u001b[0m\u001b[0;34m.\u001b[0m\u001b[0mdisplay\u001b[0m \u001b[0;32mimport\u001b[0m \u001b[0mHTML\u001b[0m\u001b[0;34m\u001b[0m\u001b[0m\n\u001b[0;32m----> 6\u001b[0;31m \u001b[0;32mimport\u001b[0m \u001b[0mprogressbar\u001b[0m\u001b[0;34m\u001b[0m\u001b[0m\n\u001b[0m\u001b[1;32m      7\u001b[0m \u001b[0;32mimport\u001b[0m \u001b[0mtests\u001b[0m \u001b[0;32mas\u001b[0m \u001b[0mt\u001b[0m\u001b[0;34m\u001b[0m\u001b[0m\n\u001b[1;32m      8\u001b[0m \u001b[0;32mimport\u001b[0m \u001b[0mpickle\u001b[0m\u001b[0;34m\u001b[0m\u001b[0m\n",
      "\u001b[0;31mModuleNotFoundError\u001b[0m: No module named 'progressbar'"
     ]
    }
   ],
   "source": [
    "import pandas as pd\n",
    "import numpy as np\n",
    "import matplotlib.pyplot as plt\n",
    "from collections import defaultdict\n",
    "from IPython.display import HTML\n",
    "import progressbar\n",
    "import tests as t\n",
    "import pickle\n",
    "\n",
    "\n",
    "%matplotlib inline\n",
    "\n",
    "# Read in the datasets\n",
    "movies = pd.read_csv('movies_clean.csv')\n",
    "reviews = pd.read_csv('reviews_clean.csv')\n",
    "\n",
    "del movies['Unnamed: 0']\n",
    "del reviews['Unnamed: 0']\n",
    "\n",
    "\n",
    "all_recs = pickle.load(open(\"all_recs.p\", \"rb\"))"
   ]
  },
  {
   "cell_type": "markdown",
   "metadata": {},
   "source": [
    "### 数据集\n",
    "\n",
    "现在你可以访问将在这个 notebook 的后续部分一直使用的以下三大项了。  \n",
    "\n",
    "`a.` **movies** - 一个 DataFrame，其中包含数据集中的所有电影，以及关于电影的其他内容相关信息（类型和日期）\n",
    "\n",
    "\n",
    "`b.` **reviews** - 它是之前协同过滤使用的主要DataFrame，其中包含用户和电影之间的所有互动。\n",
    "\n",
    "\n",
    "`c.` **all_recs** - 一个字典，每个键都是一个用户，值是基于协同过滤推荐的电影列表\n",
    "\n",
    "对于 **all_recs** 中使用协同过滤收到十部推荐电影的用户，我们不需要处理他们。但是，数据集中还有很多用户没有获得任何电影推荐。\n",
    "\n",
    "-----\n",
    "\n",
    "`1.` 首先，我们将查找数据集中没有收到本因为协同过滤而能够获得的 10 部推荐电影的所有用户。"
   ]
  },
  {
   "cell_type": "code",
   "execution_count": 2,
   "metadata": {},
   "outputs": [
    {
     "ename": "SyntaxError",
     "evalue": "invalid syntax (<ipython-input-2-13ec522bacde>, line 2)",
     "output_type": "error",
     "traceback": [
      "\u001b[0;36m  File \u001b[0;32m\"<ipython-input-2-13ec522bacde>\"\u001b[0;36m, line \u001b[0;32m2\u001b[0m\n\u001b[0;31m    users_who_need_recs = # Store users who still need recommendations here\u001b[0m\n\u001b[0m                                                                           ^\u001b[0m\n\u001b[0;31mSyntaxError\u001b[0m\u001b[0;31m:\u001b[0m invalid syntax\n"
     ]
    }
   ],
   "source": [
    "users_with_all_recs = [] # Store user ids who have all their recommendations in this (10 or more)\n",
    "users_who_need_recs = # Store users who still need recommendations here\n"
   ]
  },
  {
   "cell_type": "code",
   "execution_count": null,
   "metadata": {},
   "outputs": [],
   "source": [
    "# A quick test\n",
    "assert len(users_with_all_recs) == 22187\n",
    "print(\"That's right there were still another 31781 users who needed recommendations when we only used collaborative filtering!\")"
   ]
  },
  {
   "cell_type": "markdown",
   "metadata": {},
   "source": [
    "### 基于内容的推荐机制\n",
    "\n",
    "这一次，你将混合使用内容和协同过滤向用户推荐电影。这样能够在之前无法做出推荐的很多情形下获得电影推荐。     \n",
    "\n",
    "`2.` 在查找推荐电影之前，先从高到低地对用户的评分进行排序。你将按照此顺序遍历 movies 并寻找其他相似的电影。"
   ]
  },
  {
   "cell_type": "code",
   "execution_count": null,
   "metadata": {},
   "outputs": [],
   "source": [
    "# create a dataframe similar to reviews, but ranked by rating for each user\n"
   ]
  },
  {
   "cell_type": "markdown",
   "metadata": {},
   "source": [
    "### 相似性\n",
    "\n",
    "在协同过滤部分，你掌握了计算两个用户之间相似性（或距离）的多种方法。我们可以按照几乎相同的方法基于内容计算相似性。  \n",
    "\n",
    "在很多情形下，计算项目之间相似性的最快速方法是使用矩阵乘法，前提是矩阵不像之前那样很稀疏。如果你不了解这种方法，请观看此 [3blue1brown 视频](https://www.youtube.com/watch?v=LyGKycYT2v0)，并且[这篇帖子](https://math.stackexchange.com/questions/689022/how-does-the-dot-product-determine-similarity)简单介绍了此方法。\n",
    "\n",
    "要提取从内容角度描述 DateFrame 中电影的矩阵，我们可以使用与**年份**和**类型**相关的指示变量。  \n",
    "\n",
    "然后对此矩阵及它本身进行点积运算，获得电影之间相似性的矩阵注意，在以下矩阵乘法中，如果值 1 相互重叠，那么结果是 2，表明相似性很高。在第二个点积中，值 1 不重叠。所以点积结果是 0，表示相似性很低。\n",
    "\n",
    "<img src=\"images/dotprod1.png\" alt=\"Dot Product\" height=\"500\" width=\"500\">\n",
    "\n",
    "我们可以根据内容特征对电影矩阵进行点积运算，获得电影x电影矩阵，其中每个单元格表示两部电影之间的相似度。在下图中，可以看出，对于这部分数据来说，电影 1 与电影 8 最相似，电影 2 与电影 8 最相似，电影 3 与电影 9 最相似。矩阵对角线上的元素将表示电影与其本身的相似性，相似性肯定最高（并且将对应于原始电影内容矩阵中电影行里的数字 1）\n",
    "\n",
    "<img src=\"images/moviemat.png\" alt=\"Dot Product\" height=\"500\" width=\"500\">\n",
    "\n",
    "\n",
    "`3.` 请创建一个 NumPy 数组，它是一个与电影年份（按年代划分）和电影类型相关的指示变量矩阵。请计算此矩阵与其本身（转置后）的点积，得出每部电影与所有其他电影的相似性矩阵。最终矩阵应该是 31245 x 31245。"
   ]
  },
  {
   "cell_type": "code",
   "execution_count": null,
   "metadata": {},
   "outputs": [],
   "source": [
    "# Subset so movie_content is only using the dummy variables for each genre and the 3 century based year dummy columns\n",
    "\n",
    "\n",
    "# Take the dot product to obtain a movie x movie matrix of similarities\n"
   ]
  },
  {
   "cell_type": "code",
   "execution_count": null,
   "metadata": {},
   "outputs": [],
   "source": [
    "# create checks for the dot product matrix\n",
    "assert dot_prod_movies.shape[0] == 31245\n",
    "assert dot_prod_movies.shape[1] == 31245\n",
    "assert dot_prod_movies[0, 0] == np.max(dot_prod_movies[0])\n",
    "print(\"Looks like you passed all of the tests.  Though they weren't very robust - if you want to write some of your own, I won't complain!\")"
   ]
  },
  {
   "cell_type": "markdown",
   "metadata": {},
   "source": [
    "### 对于每位用户...\n",
    "\n",
    "\n",
    "你已经有一个矩阵，其中每个用户的评分都已排序。还有另一个矩阵，其中每个轴表示电影，如果两部电影更相似，那么矩阵条目更大，如果不相似，则矩阵条目更小。这个矩阵衡量的是内容相似性。下面到了有趣的环节了。\n",
    "\n",
    "对于每个用户，我们将执行以下操作：\n",
    "\n",
    "i. 对于每部电影，查找最相似且用户没看过的电影。\n",
    "\n",
    "ii.继续查找已评分电影，直到推荐 10 部电影或没有可推荐的其他电影。"
   ]
  },
  {
   "cell_type": "markdown",
   "metadata": {},
   "source": [
    "最后提示下，你可能需要调整“最相似”条件，才能获得 10 部推荐电影。第一遍我仅使用了相互之间相似性最高的电影作为推荐电影。\n",
    "\n",
    "`3.` 在以下单元格中，请完成以下每个函数，从而基于内容做出推荐。"
   ]
  },
  {
   "cell_type": "code",
   "execution_count": null,
   "metadata": {},
   "outputs": [],
   "source": [
    "def find_similar_movies(movie_id):\n",
    "    '''\n",
    "    INPUT\n",
    "    movie_id - a movie_id \n",
    "    OUTPUT\n",
    "    similar_movies - an array of the most similar movies by title\n",
    "    '''\n",
    "    # find the row of each movie id\n",
    "    \n",
    "    \n",
    "    # find the most similar movie indices - to start I said they need to be the same for all content\n",
    "    \n",
    "    \n",
    "    # pull the movie titles based on the indices\n",
    "    \n",
    "    \n",
    "    return similar_movies\n",
    "    \n",
    "# You made this function in an earlier notebook - using again here    \n",
    "def get_movie_names(movie_ids):\n",
    "    '''\n",
    "    INPUT\n",
    "    movie_ids - a list of movie_ids\n",
    "    OUTPUT\n",
    "    movies - a list of movie names associated with the movie_ids\n",
    "    \n",
    "    '''\n",
    "    movie_lst = list(movies[movies['movie_id'].isin(movie_ids)]['movie'])\n",
    "   \n",
    "    return movie_lst\n",
    "\n",
    "\n",
    "def make_recs():\n",
    "    '''\n",
    "    INPUT\n",
    "    None\n",
    "    OUTPUT\n",
    "    recs - a dictionary with keys of the user and values of the recommendations\n",
    "    '''\n",
    "    # Create dictionary to return with users and ratings\n",
    "    \n",
    "    # How many users for progress bar\n",
    "    \n",
    "    \n",
    "    # Create the progressbar\n",
    "\n",
    "    \n",
    "    # For each user\n",
    "        \n",
    "        # Update the progress bar\n",
    "\n",
    "\n",
    "        # Pull only the reviews the user has seen\n",
    "\n",
    "        # Look at each of the movies (highest ranked first), \n",
    "        # pull the movies the user hasn't seen that are most similar\n",
    "        # These will be the recommendations - continue until 10 recs \n",
    "        # or you have depleted the movie list for the user\n",
    "\n",
    "\n",
    "\n",
    "    # finish the progress bar\n",
    "\n",
    "    \n",
    "    return recs"
   ]
  },
  {
   "cell_type": "code",
   "execution_count": null,
   "metadata": {},
   "outputs": [],
   "source": [
    "recs = make_recs()"
   ]
  },
  {
   "cell_type": "markdown",
   "metadata": {},
   "source": [
    "### 推荐效果如何？\n",
    "\n",
    "做出推荐之后，向每个人提供一组推荐电影的效果如何？\n",
    "\n",
    "`4.` 请通过以下单元格查看你能够向多少用户推荐电影，并看看无法向其推荐电影的用户有哪些特性。"
   ]
  },
  {
   "cell_type": "code",
   "execution_count": null,
   "metadata": {},
   "outputs": [],
   "source": [
    "# Explore recommendations\n"
   ]
  },
  {
   "cell_type": "code",
   "execution_count": null,
   "metadata": {},
   "outputs": [],
   "source": [
    "# Some characteristics of my content based recommendations\n",
    "users_without_all_recs = #store user ids without recs\n",
    "users_with_all_recs = # users with all recs here\n",
    "no_recs = # users with no recommendations\n",
    "\n",
    "print(\"There were {} users without all 10 recommendations we would have liked to have.\".format(len(users_without_all_recs)))\n",
    "print(\"There were {} users with all 10 recommendations we would like them to have.\".format(len(users_with_all_recs)))\n",
    "print(\"There were {} users with no recommendations at all!\".format(len(no_recs)))"
   ]
  },
  {
   "cell_type": "code",
   "execution_count": null,
   "metadata": {},
   "outputs": [],
   "source": [
    "# Closer look at individual user characteristics - this may help it was from an earlier notebook\n",
    "user_items = reviews[['user_id', 'movie_id', 'rating']]\n",
    "user_by_movie = user_items.groupby(['user_id', 'movie_id'])['rating'].max().unstack()\n",
    "\n",
    "def movies_watched(user_id):\n",
    "    '''\n",
    "    INPUT:\n",
    "    user_id - the user_id of an individual as int\n",
    "    OUTPUT:\n",
    "    movies - an array of movies the user has watched\n",
    "    '''\n",
    "    movies = user_by_movie.loc[user_id][user_by_movie.loc[user_id].isnull() == False].index.values\n",
    "\n",
    "    return movies\n",
    "\n",
    "\n",
    "movies_watched(189)"
   ]
  },
  {
   "cell_type": "code",
   "execution_count": null,
   "metadata": {},
   "outputs": [],
   "source": [
    "# More exploring\n",
    "print(\"Some of the movie lists for users without any recommendations include:\")\n",
    "# Just one of many questions you could continue exploring..."
   ]
  },
  {
   "cell_type": "markdown",
   "metadata": {},
   "source": [
    "### 下一步？  \n",
    "\n",
    "如果你依然坚持采用一开始的电影相似性条件（就像我一开始那样），那么有些用户依然无法获得 10 部推荐电影（还有一小部分用户根本没有任何推荐电影）。 \n",
    "\n",
    "我们之前就提到了，推荐引擎不仅是一门**科学**，而且是一项**艺术**。还有很多问题值得探索：协同过滤和基于内容的推荐机制相比如何？如何结合用户输入与协同过滤和/或基于内容的推荐来改进任何推荐系统？如何真正地为每位用户提供推荐内容？\n",
    "\n",
    "`5.` 在最后一步，对于我们到目前为止介绍过的推荐技巧，你可以随意探索你的最后想法。你可能会选择对排名靠前的电影应用第一个技巧，并作出最后的推荐。你还可能会降低判定电影之间相似性的条件。大胆创新吧，别忘了与其他同学分享你的创意哦！"
   ]
  },
  {
   "cell_type": "code",
   "execution_count": null,
   "metadata": {},
   "outputs": [],
   "source": [
    "# Cells for exploring"
   ]
  },
  {
   "cell_type": "markdown",
   "metadata": {},
   "source": [
    "```python\n",
    "\n",
    "```"
   ]
  }
 ],
 "metadata": {
  "kernelspec": {
   "display_name": "Python 3",
   "language": "python",
   "name": "python3"
  },
  "language_info": {
   "codemirror_mode": {
    "name": "ipython",
    "version": 3
   },
   "file_extension": ".py",
   "mimetype": "text/x-python",
   "name": "python",
   "nbconvert_exporter": "python",
   "pygments_lexer": "ipython3",
   "version": "3.6.3"
  }
 },
 "nbformat": 4,
 "nbformat_minor": 2
}
