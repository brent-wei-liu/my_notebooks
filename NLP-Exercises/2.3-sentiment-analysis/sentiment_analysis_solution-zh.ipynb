{
 "cells": [
  {
   "cell_type": "code",
   "execution_count": 1,
   "metadata": {},
   "outputs": [
    {
     "name": "stderr",
     "output_type": "stream",
     "text": [
      "Using TensorFlow backend.\n"
     ]
    },
    {
     "data": {
      "text/plain": [
       "['/job:localhost/replica:0/task:0/device:GPU:0']"
      ]
     },
     "execution_count": 1,
     "metadata": {},
     "output_type": "execute_result"
    }
   ],
   "source": [
    "import os\n",
    "os.environ[\"CUDA_VISIBLE_DEVICES\"]=\"3\"\n",
    "from keras import backend as K\n",
    "K.tensorflow_backend._get_available_gpus()"
   ]
  },
  {
   "cell_type": "markdown",
   "metadata": {},
   "source": [
    "# 情感分析\n",
    "\n",
    "_人工智能纳米学位课程 | 自然语言处理_\n",
    "\n",
    "---\n",
    "\n",
    "随着 Twitter、Facebook 和 Reddit 等在线社交媒体的兴起，以及亚马逊和 Yelp 等网站上的客户评论的飞速增多，我们现在能够获得比以往任何时候都要庞大的文本数据集！我们可以分析这些数据集，了解大部分人群对特定产品和事件等的感受。这种分析称为_情感分析_。在此 notebook 中，你将从头开始构建一个端到端情感分类系统。\n",
    "\n",
    "## 说明\n",
    "\n",
    "我们已经为你提供了一些模板代码，你需要实现额外的功能，才能成功完成此 notebook。除了要求的地方之外，你不需要修改所提供代码的其他部分。标题中以 **TODO** 开头的部分表明你需要完成或实现部分代码。我们会在每个部分提供说明，并在以 `# TODO: …` 注释的代码块中提供实现细节。请务必仔细阅读说明！\n",
    "\n",
    "除了实现代码之外，还需要回答与任务和代码实现相关的问题。以**问题：**开头的部分表示你需要回答问题。请仔细阅读每个问题，并在**答案：**标题下方通过编辑标记单元格，写出答案。\n",
    "\n",
    "> **注意**：你可以使用 **Shift+Enter** 键盘快捷键执行代码和标记单元格。此外，通常可以通过点击单元格（或双击标记单元格）或在突出显示时按下 **Enter** 键编辑单元格。\n",
    "\n",
    "## 第 1 步：探索数据！\n",
    "\n",
    "我们要使用的数据集在自然语言处理研究人员人群当中很受欢迎，通常称为 [IMDb 数据集](http://ai.stanford.edu/~amaas/data/sentiment/)。它由网站 [imdb.com](http://www.imdb.com/) 上的影评组成，每条影评都被标记为 **pos**itive（如果影评人喜欢这部电影），否则被标为 **neg**ative'。\n",
    "\n",
    "> Maas, Andrew L. 等。[学习情感分析单词向量](http://ai.stanford.edu/~amaas/data/sentiment/)。发布于_第 49 届计算语言学协会年度大会：人类语言技术公报_。计算语言学协会，2011 年。\n",
    "\n",
    "我们已经为你提供该数据集。你可以通过执行以下 Python 单元格加载该数据集。"
   ]
  },
  {
   "cell_type": "code",
   "execution_count": 2,
   "metadata": {},
   "outputs": [
    {
     "name": "stdout",
     "output_type": "stream",
     "text": [
      "['/device:GPU:0']\n"
     ]
    }
   ],
   "source": [
    "from tensorflow.python.client import device_lib\n",
    "\n",
    "def get_available_gpus():\n",
    "    local_device_protos = device_lib.list_local_devices()\n",
    "    return [x.name for x in local_device_protos if x.device_type == 'GPU']\n",
    "print(get_available_gpus())"
   ]
  },
  {
   "cell_type": "code",
   "execution_count": 3,
   "metadata": {},
   "outputs": [
    {
     "name": "stdout",
     "output_type": "stream",
     "text": [
      "IMDb reviews: train = 12500 pos / 12500 neg, test = 12500 pos / 12500 neg\n"
     ]
    }
   ],
   "source": [
    "import os\n",
    "import glob\n",
    "\n",
    "def read_imdb_data(data_dir='aclImdb'):\n",
    "    \"\"\"Read IMDb movie reviews from given directory.\n",
    "    \n",
    "    Directory structure expected:\n",
    "    - data/\n",
    "        - train/\n",
    "            - pos/\n",
    "            - neg/\n",
    "        - test/\n",
    "            - pos/\n",
    "            - neg/\n",
    "    \n",
    "    \"\"\"\n",
    "\n",
    "    # Data, labels to be returned in nested dicts matching the dir. structure\n",
    "    data = {}\n",
    "    labels = {}\n",
    "\n",
    "    # Assume 2 sub-directories: train, test\n",
    "    for data_type in ['train', 'test']:\n",
    "        data[data_type] = {}\n",
    "        labels[data_type] = {}\n",
    "\n",
    "        # Assume 2 sub-directories for sentiment (label): pos, neg\n",
    "        for sentiment in ['pos', 'neg']:\n",
    "            data[data_type][sentiment] = []\n",
    "            labels[data_type][sentiment] = []\n",
    "            \n",
    "            # Fetch list of files for this sentiment\n",
    "            path = os.path.join(data_dir, data_type, sentiment, '*.txt')\n",
    "            files = glob.glob(path)\n",
    "            \n",
    "            # Read reviews data and assign labels\n",
    "            for f in files:\n",
    "                with open(f) as review:\n",
    "                    data[data_type][sentiment].append(review.read())\n",
    "                    labels[data_type][sentiment].append(sentiment)\n",
    "            \n",
    "            assert len(data[data_type][sentiment]) == len(labels[data_type][sentiment]), \\\n",
    "                    \"{}/{} data size does not match labels size\".format(data_type, sentiment)\n",
    "    \n",
    "    # Return data, labels as nested dicts\n",
    "    return data, labels\n",
    "\n",
    "\n",
    "data, labels = read_imdb_data()\n",
    "print(\"IMDb reviews: train = {} pos / {} neg, test = {} pos / {} neg\".format(\n",
    "        len(data['train']['pos']), len(data['train']['neg']),\n",
    "        len(data['test']['pos']), len(data['test']['neg'])))"
   ]
  },
  {
   "cell_type": "markdown",
   "metadata": {},
   "source": [
    "加载数据后，我们快速查看下其中一条正面影评："
   ]
  },
  {
   "cell_type": "code",
   "execution_count": 4,
   "metadata": {},
   "outputs": [
    {
     "name": "stdout",
     "output_type": "stream",
     "text": [
      "Lars Von Trier is never backward in trying out new techniques. Some of them are very original while others are best forgotten.<br /><br />He depicts postwar Germany as a nightmarish train journey. With so many cities lying in ruins, Leo Kessler a young American of German descent feels obliged to help in their restoration. It is not a simple task as he quickly finds out.<br /><br />His uncle finds him a job as a night conductor on the Zentropa Railway Line. His job is to attend to the needs of the passengers. When the shoes are polished a chalk mark is made on the soles. A terrible argument ensues when a passenger's shoes are not chalked despite the fact they have been polished. There are many allusions to the German fanaticism of adherence to such stupid details.<br /><br />The railway journey is like an allegory representing man's procession through life with all its trials and tribulations. In one sequence Leo dashes through the back carriages to discover them filled with half-starved bodies appearing to have just escaped from Auschwitz . These images, horrible as they are, are fleeting as in a dream, each with its own terrible impact yet unconnected.<br /><br />At a station called Urmitz Leo jumps from the train with a parceled bomb. In view of many by-standers he connects the bomb to the underside of a carriage. He returns to his cabin and makes a connection to a time clock. Later he jumps from the train (at high speed) and lies in the cool grass on a river bank. Looking at the stars above he decides that his job is to build and not destroy. Subsequently as he sees the train approaching a giant bridge he runs at breakneck speed to board the train and stop the clock. If you care to analyse the situation it is a completely impossible task. Quite ridiculous in fact. It could only happen in a dream.<br /><br />It's strange how one remembers little details such as a row of cups hanging on hooks and rattling away with the swaying of the train.<br /><br />Despite the fact that this film is widely acclaimed, I prefer Lars Von Trier's later films (Breaking the Waves and The Idiots). The bomb scene described above really put me off. Perhaps I'm a realist.\n"
     ]
    }
   ],
   "source": [
    "print(data['train']['pos'][2])"
   ]
  },
  {
   "cell_type": "markdown",
   "metadata": {},
   "source": [
    "再看一条负面影评："
   ]
  },
  {
   "cell_type": "code",
   "execution_count": 5,
   "metadata": {},
   "outputs": [
    {
     "name": "stdout",
     "output_type": "stream",
     "text": [
      "If only to avoid making this type of film in the future. This film is interesting as an experiment but tells no cogent story.<br /><br />One might feel virtuous for sitting thru it because it touches on so many IMPORTANT issues but it does so without any discernable motive. The viewer comes away with no new perspectives (unless one comes up with one while one's mind wanders, as it will invariably do during this pointless film).<br /><br />One might better spend one's time staring out a window at a tree growing.<br /><br />\n"
     ]
    }
   ],
   "source": [
    "print(data['train']['neg'][2])"
   ]
  },
  {
   "cell_type": "markdown",
   "metadata": {},
   "source": [
    "### 我们还可以对影评进行 wordcloud 可视化。"
   ]
  },
  {
   "cell_type": "code",
   "execution_count": 6,
   "metadata": {},
   "outputs": [
    {
     "name": "stdout",
     "output_type": "stream",
     "text": [
      "Requirement already satisfied: wordcloud in /home/brentweiliu/anaconda3/envs/my_notebook/lib/python3.6/site-packages (1.5.0)\r\n",
      "Requirement already satisfied: pillow in /home/brentweiliu/anaconda3/envs/my_notebook/lib/python3.6/site-packages (from wordcloud) (6.1.0)\r\n",
      "Requirement already satisfied: numpy>=1.6.1 in /home/brentweiliu/anaconda3/envs/my_notebook/lib/python3.6/site-packages (from wordcloud) (1.16.1)\r\n"
     ]
    }
   ],
   "source": [
    "# Installing wordcloud\n",
    "!pip install wordcloud"
   ]
  },
  {
   "cell_type": "code",
   "execution_count": 7,
   "metadata": {},
   "outputs": [
    {
     "data": {
      "image/png": "[encoded data removed]",
      "text/plain": [
       "<Figure size 432x288 with 1 Axes>"
      ]
     },
     "metadata": {
      "needs_background": "light"
     },
     "output_type": "display_data"
    }
   ],
   "source": [
    "import matplotlib.pyplot as plt\n",
    "%matplotlib inline\n",
    "\n",
    "from wordcloud import WordCloud, STOPWORDS\n",
    "\n",
    "sentiment = 'pos'\n",
    "\n",
    "# Combine all reviews for the desired sentiment\n",
    "combined_text = \" \".join([review for review in data['train'][sentiment]])\n",
    "\n",
    "# Initialize wordcloud object\n",
    "wc = WordCloud(background_color='white', max_words=50,\n",
    "        # update stopwords to include common words like film and movie\n",
    "        stopwords = STOPWORDS.update(['br','film','movie']))\n",
    "\n",
    "# Generate and plot wordcloud\n",
    "plt.imshow(wc.generate(combined_text))\n",
    "plt.axis('off')\n",
    "plt.show()"
   ]
  },
  {
   "cell_type": "markdown",
   "metadata": {},
   "source": [
    "尝试将情感改为 `'neg'`，看看能否看出这两个 wordcloud 之间的明显区别。\n",
    "\n",
    "### TODO：形成训练集和测试集\n",
    "\n",
    "你已经查看了原始数据，现在请将正面和负面文档结合到一起，获得一个统一的训练集和一个统一的测试集。"
   ]
  },
  {
   "cell_type": "code",
   "execution_count": 8,
   "metadata": {},
   "outputs": [
    {
     "name": "stdout",
     "output_type": "stream",
     "text": [
      "IMDb reviews (combined): train = 25000, test = 25000\n",
      "This is one of my al... : pos\n",
      "Generally I like som... : pos\n",
      "E! TV is a great cha... : pos\n",
      "A great opportunity ... : neg\n"
     ]
    }
   ],
   "source": [
    "from sklearn.utils import shuffle\n",
    "def print_train():\n",
    "    print(\"IMDb reviews (combined): train = {}, test = {}\".format(len(data_train), len(data_test)))\n",
    "    for line in [f'{text[:20]}... : {label}' for text, label in zip(data_train[:4], labels_train[:4])]:\n",
    "        print(line)\n",
    "    \n",
    "def prepare_imdb_data(data):\n",
    "    \"\"\"Prepare training and test sets from IMDb movie reviews.\"\"\"\n",
    "    \n",
    "    # TODO: Combine positive and negative reviews and labels\n",
    "    data_train = data['train']['pos'] + data['train']['neg']\n",
    "    data_test = data['test']['pos'] + data['test']['neg']\n",
    "    labels_train = labels['train']['pos'] + labels['train']['neg']\n",
    "    labels_test = labels['test']['pos'] + labels['test']['neg']\n",
    "    \n",
    "    # TODO: Shuffle reviews and corresponding labels within training and test sets\n",
    "    data_train, labels_train = shuffle(data_train, labels_train)\n",
    "    data_test, labels_test = shuffle(data_test, labels_test)\n",
    "    \n",
    "    # Return a unified training data, test data, training labels, test labets\n",
    "    return data_train, data_test, labels_train, labels_test\n",
    "\n",
    "\n",
    "data_train, data_test, labels_train, labels_test = prepare_imdb_data(data)\n",
    "print_train()"
   ]
  },
  {
   "cell_type": "markdown",
   "metadata": {},
   "source": [
    "## 第 2 步：预处理 ---- 将每条影评转换为单词列表\n",
    "\n",
    "1. 删除 HTML 标记\n",
    "2. 转换为小写\n",
    "3. tokenize\n",
    "4. 删除停用词\n",
    "5. 词干提取\n",
    "\n",
    "##### 顺口溜: 删tag, 转小写，分单词，删停用，提词干\n",
    "\n",
    "1. Remove HTML tags and non-letters\n",
    "2. convert to lowercase\n",
    "3. tokenize\n",
    "4. remove stopwords\n",
    "5. stem\n",
    "\n",
    "\n",
    "下个任务是完成执行所有这些步骤的函数 `review_to_words()`。为了方便起见，在下面的 Python 单元格中，我们提供了完成这些预处理步骤可能需要的所有库。确保导入所有这些库（如果不能导入，请从终端通过 pip 安装，并重新运行/导入。）"
   ]
  },
  {
   "cell_type": "code",
   "execution_count": 9,
   "metadata": {},
   "outputs": [
    {
     "name": "stdout",
     "output_type": "stream",
     "text": [
      "[nltk_data] Downloading package stopwords to\n",
      "[nltk_data]     /home/brentweiliu/nltk_data...\n",
      "[nltk_data]   Package stopwords is already up-to-date!\n"
     ]
    }
   ],
   "source": [
    "# BeautifulSoup to easily remove HTML tags\n",
    "from bs4 import BeautifulSoup \n",
    "\n",
    "# RegEx for removing non-letter characters\n",
    "import re\n",
    "\n",
    "# NLTK library for the remaining steps\n",
    "import nltk\n",
    "nltk.download(\"stopwords\")   # download list of stopwords (only once; need not run it again)\n",
    "from nltk.corpus import stopwords # import stopwords\n",
    "\n",
    "from nltk.stem.porter import *\n",
    "stemmer = PorterStemmer()"
   ]
  },
  {
   "cell_type": "code",
   "execution_count": 10,
   "metadata": {},
   "outputs": [
    {
     "data": {
      "text/plain": [
       "['test', 'test', 'would', 'make', 'great', 'movi', 'review']"
      ]
     },
     "execution_count": 10,
     "metadata": {},
     "output_type": "execute_result"
    }
   ],
   "source": [
    "def review_to_words(review):\n",
    "    \"\"\"Convert a raw review string into a sequence of words.\"\"\"\n",
    "    \n",
    "    # TODO: Remove HTML tags and non-letters,\n",
    "    #       convert to lowercase, tokenize,\n",
    "    #       remove stopwords and stem\n",
    "    text = BeautifulSoup(review, 'html.parser').get_text()\n",
    "    text = re.sub(r\"[^a-zA-Z0-9]\", \" \", text.lower())\n",
    "    words = text.split()\n",
    "    words = [w for w in words if w not in stopwords.words(\"english\")]\n",
    "    words = [PorterStemmer().stem(w) for w in words]\n",
    "\n",
    "    # Return final list of words\n",
    "    return words\n",
    "\n",
    "\n",
    "review_to_words(\"\"\"This is just a <em>test</em>.<br/><br />\n",
    "But if it wasn't a test, it would make for a <b>Great</b> movie review!\"\"\")"
   ]
  },
  {
   "cell_type": "markdown",
   "metadata": {},
   "source": [
    "完全实现函数 `review_to_words()` 后，我们可以将其应用到训练数据集和测试数据集中的所有影评上。可能需要一段时间，因此构建以下机制：将数据写入缓存文件中，并稍后从缓存文件中获取数据。"
   ]
  },
  {
   "cell_type": "code",
   "execution_count": 11,
   "metadata": {},
   "outputs": [
    {
     "name": "stdout",
     "output_type": "stream",
     "text": [
      "Read preprocessed data from cache file: preprocessed_data.pkl\n"
     ]
    }
   ],
   "source": [
    "import pickle\n",
    "from time import time\n",
    "\n",
    "cache_dir = os.path.join(\"cache\", \"sentiment_analysis\")  # where to store cache files\n",
    "os.makedirs(cache_dir, exist_ok=True)  # ensure cache directory exists\n",
    "\n",
    "def preprocess_data(data_train, data_test, labels_train, labels_test,\n",
    "                    cache_dir=cache_dir, cache_file=\"preprocessed_data.pkl\"):\n",
    "    \"\"\"Convert each review to words; read from cache if available.\"\"\"\n",
    "\n",
    "    # If cache_file is not None, try to read from it first\n",
    "    cache_data = None\n",
    "    if cache_file is not None:\n",
    "        try:\n",
    "            with open(os.path.join(cache_dir, cache_file), \"rb\") as f:\n",
    "                cache_data = pickle.load(f)\n",
    "            print(\"Read preprocessed data from cache file:\", cache_file)\n",
    "        except:\n",
    "            pass  # unable to read from cache, but that's okay\n",
    "    \n",
    "    # If cache is missing, then do the heavy lifting\n",
    "\n",
    "    if cache_data is None:\n",
    "        # Preprocess training and test data to obtain words for each review\n",
    "        words_train, words_test = [], []\n",
    "        i = 0\n",
    "        start = time()\n",
    "        for review in data_train:\n",
    "            words_train.append(review_to_words(review))\n",
    "            i += 1\n",
    "            if i == 50:\n",
    "                end = time()\n",
    "                print('QPS = %.2f' %(i / (end - start)))\n",
    "                start = end\n",
    "                i = 0\n",
    "                \n",
    "        i = 0\n",
    "        for review in data_test:\n",
    "            words_test.append(review_to_words(review))\n",
    "            i += 1\n",
    "            if i % 100 == 0:\n",
    "                print(i)\n",
    "            \n",
    "        \n",
    "        # Write to cache file for future runs\n",
    "        if cache_file is not None:\n",
    "            cache_data = dict(words_train=words_train, words_test=words_test,\n",
    "                              labels_train=labels_train, labels_test=labels_test)\n",
    "            with open(os.path.join(cache_dir, cache_file), \"wb\") as f:\n",
    "                pickle.dump(cache_data, f)\n",
    "            print(\"Wrote preprocessed data to cache file:\", cache_file)\n",
    "    else:\n",
    "        # Unpack data loaded from cache file\n",
    "        words_train, words_test, labels_train, labels_test = (cache_data['words_train'],\n",
    "                cache_data['words_test'], cache_data['labels_train'], cache_data['labels_test'])\n",
    "    \n",
    "    return words_train, words_test, labels_train, labels_test\n",
    "\n",
    "\n",
    "# Preprocess data\n",
    "end = 100000\n",
    "words_train, words_test, labels_train, labels_test = preprocess_data(\n",
    "        data_train[:end], data_test[:end], labels_train[:end], labels_test[:end])"
   ]
  },
  {
   "cell_type": "code",
   "execution_count": 12,
   "metadata": {},
   "outputs": [
    {
     "name": "stdout",
     "output_type": "stream",
     "text": [
      "\n",
      "--- Raw review ---\n",
      "Generally I like something light and fun, so this film shouldn't have appealed to me. But it grabbed me from the start. The story of a family's choices and challenges seem obvious, but it raises the question over and over: \"What if it was my family? My choice?\" I cried and laughed when they did because I really felt what the people involved felt. It was in places difficult to watch, but more difficult to turn away. The story is true, and life is sometimes difficult to watch! It shows what film-makers can do without sex, violence, or special effects: a good story is a good story all by itself. The best and most unpredictable stories are all true ones. Like real life, you really don't know what'll happen next, or why people do the things that they do!\n",
      "\n",
      "--- Preprocessed words ---\n",
      "['bought', 'dvd', 'set', 'sight', 'unseen', 'wish', 'script', 'need', 'seriou', 'rewrit', 'seem', 'complet', 'devoid', 'feel', 'pale', 'comparison', 'book', 'light', 'horrid', 'unpolish', 'could', 'overlook', 'script', 'focu', 'enough', 'charact', 'hardli', 'introduct', 'variou', 'charact', 'make', 'tad', 'difficult', 'distinguish', 'especi', 'plane', 'idea', 'die', 'long', 'felt', 'key', 'good', 'film', 'get', 'audienc', 'care', 'charact', 'anyth', 'focu', 'charact', 'never', 'got', 'know', 'like', 'made', 'thing', 'seri', '5', 'hour', 'long', 'split', '6', 'part', 'bet', 'wonder', 'time', 'detail', 'charact', 'put', 'lot', 'filler', 'say', 'least', 'entir', 'hour', 'spent', 'watch', 'land', 'take', 'plane', 'lol', 'mean', 'realli', 'need', 'see', 'would', 'given', 'much', 'higher', 'rate', 'improv', 'knowledg', 'charact']\n",
      "\n",
      "--- Label ---\n",
      "neg\n",
      "\n",
      "--- Raw review ---\n",
      "To sum this movie up, it is LaBute carrying his sadism over into the realm of comedic farce. The predictable result is that he is constantly stepping on all the jokes by insisting on surrounding them with blood-curdling violence and extremely hateful characters. There is also evidence of his continuing efforts to insult and ridicule everything in sight but then to apologize for it with weak gestures to the PC. Basically the movie just doesn't work, its plot is beyond contrived, the characters are one-dimensional cliches, there is no consistency or development of anything, and the comedy (where it is not totally out of place) is the worst kind of High Concept drivel.<br /><br />Morgan Freeman and Renee Zellweger are completely wasted on characters that seem like parodies of studio-driven audience pandering--no matter what, make them likeable, neutral (and neutered), and full of moral platitudes. Crispin Glover is in here just long enough to convince you that he doesn't belong in movies anymore. Chris Rock actually has negative chemistry with fellow hitman Freeman--it's as if they are acting in different rooms even when they are two inches away from each other. In effect, Chris Rock seems like a digital insert. At least he isn't as annoying as Jar-Jar.<br /><br />LaBute's 15 minutes may well be up by now. It's already looking like he's overstayed his welcome.\n",
      "\n",
      "--- Preprocessed words ---\n",
      "['realli', 'think', 'necessari', 'write', 'review', 'movi', 'titl', 'derisori', 'snake', 'island', 'even', 'abstract', 'confin', 'genr', 'hit', 'new', 'low', 'anger', 'must', 'known', 'reason', 'even', 'bother', 'watch', 'unbeliev', 'bad', 'movi', 'knew', 'go', 'bad', 'realli', 'late', 'night', 'could', 'sleep', 'past', 'realli', 'bad', 'movi', 'would', 'drain', 'energi', 'make', 'long', 'slumber', 'becam', 'quickli', 'earli', 'movi', 'go', 'aw', 'condescend', 'even', 'expect', 'movi', 'direct', 'written', 'wayn', 'crawford', 'also', 'star', 'movi', 'tourist', 'guid', 'african', 'river', 'end', 'strand', 'team', 'remot', 'island', 'call', 'snake', 'island', 'anoth', 'boat', 'come', 'pick', 'hang', 'get', 'drunk', 'becom', 'subject', 'onslaught', 'poison', 'snake', 'mission', 'purg', 'island', 'human', 'be', 'jaw', 'drop', 'last', 'sentenc', 'second', 'paragraph', 'bother', 'reread', 'got', 'right', 'first', 'time', 'frankli', 'prefer', 'creatur', 'featur', 'creatur', 'attack', 'nonsens', 'dumb', 'human', 'hunger', 'kind', 'mission', 'mutant', 'snake', 'giant', 'like', 'see', 'anaconda', 'ordinari', 'everyday', 'african', 'snake', 'like', 'mamba', 'viper', 'brain', 'form', 'armi', 'take', 'caus', 'work', 'togeth', 'trap', 'peopl', 'understand', 'languag', 'even', 'danc', 'draw', 'drop', 'well', 'go', 'drop', 'amount', 'midway', 'aw', 'b', 'movi', 'part', 'alreadi', 'given', 'human', 'charact', 'start', 'drink', 'around', 'campfir', 'sudden', 'break', 'kind', 'orgi', 'danc', 'nude', 'snake', 'hunt', 'sudden', 'stop', 'start', 'jam', 'along', 'combin', 'scene', 'scene', 'discov', 'snake', 'roguish', 'creatur', 'planet', 'form', 'allianc', 'human', 'be', 'oddbal', 'reason', 'prove', 'much', 'poor', 'brain', 'though', 'filmmak', 'take', 'even', 'lower', 'level', 'snake', 'start', 'sing', 'peopl', 'movi', 'well', 'let', 'say', 'never', 'root', 'creatur', 'kill', 'everybodi', 'quickli', 'could', 'stand', 'longer', 'realli', 'think', 'need', 'keep', 'go', 'get', 'pictur', 'anyth', 'make', 'snake', 'island', 'differ', 'rival', 'dare', 'tri', 'even', 'dumber', 'complimentari', 'achiev', 'continu', 'subject', 'realli', 'bad', 'movi', 'guess', 'never', 'realli', 'know', 'snake', 'island', 'hit', 'brand', 'new', 'low', 'cheap', 'trashi', 'excus', 'motion', 'pictur', 'make', 'anaconda', 'brainless', 'snake', 'movi', 'look', 'brilliant', 'sophist', 'thrill', 'steven', 'spielberg', 'jaw', 'warn']\n",
      "\n",
      "--- Label ---\n",
      "neg\n"
     ]
    }
   ],
   "source": [
    "# Take a look at a sample\n",
    "idx = 1\n",
    "print(\"\\n--- Raw review ---\")\n",
    "print(data_train[idx])\n",
    "print(\"\\n--- Preprocessed words ---\")\n",
    "print(words_train[idx])\n",
    "print(\"\\n--- Label ---\")\n",
    "print(labels_train[idx])\n",
    "\n",
    "idx = 1\n",
    "print(\"\\n--- Raw review ---\")\n",
    "print(data_test[idx])\n",
    "print(\"\\n--- Preprocessed words ---\")\n",
    "print(words_test[idx])\n",
    "print(\"\\n--- Label ---\")\n",
    "print(labels_test[idx])"
   ]
  },
  {
   "cell_type": "markdown",
   "metadata": {},
   "source": [
    "## 第 3 步：提取词袋特征\n",
    "\n",
    "预处理每个文档后，我们可以将每个文档转换为词袋特征表示法。注意，我们需要仅根据训练数据创建此转换，因为根本不能查看测试数据！\n",
    "\n",
    "这里使用的字典或_词汇表_ $V$（训练集中的文档共享的单词集合）将用于训练我们的监督式学习算法。必须按照相同的方式转换日后的测试数据，以便能够应用学习的模型进行预测。因此，必须存储转换/词汇表。\n",
    "\n",
    "> **注意**：训练集中的单词集合不一定和测试集完全一样。如果在测试期间遇到之前没见过的单词，该怎么办？遗憾的是，我们需要忽略它，或将其替换为特殊标记 `<UNK>`。\n",
    "\n",
    "### TODO：计算词袋特征\n",
    "\n",
    "实现 `extract_BoW_features()` 函数，将其应用到训练数据集和测试数据集，并将结果分别存储在 `features_train` 和 `features_test` NumPy 数组中。选择一个合理的词汇表大小（例如 $|V| = 5000$），并仅保留出现次数为前 $|V|$ 的单词，忽略其余单词。此数字也是词袋矩阵的列数。\n",
    "\n",
    "> **提示**：你可能会发现 scikit-learn 中的 `CountVectorizer` 很有用。此外确保保存词袋转换以供日后使用。"
   ]
  },
  {
   "cell_type": "code",
   "execution_count": 13,
   "metadata": {},
   "outputs": [
    {
     "name": "stderr",
     "output_type": "stream",
     "text": [
      "/home/brentweiliu/anaconda3/envs/my_notebook/lib/python3.6/site-packages/sklearn/externals/joblib/__init__.py:15: DeprecationWarning: sklearn.externals.joblib is deprecated in 0.21 and will be removed in 0.23. Please import this functionality directly from joblib, which can be installed with: pip install joblib. If this warning is raised when loading pickled models, you may need to re-serialize those models with scikit-learn 0.21+.\n",
      "  warnings.warn(msg, category=DeprecationWarning)\n"
     ]
    },
    {
     "name": "stdout",
     "output_type": "stream",
     "text": [
      "Read features from cache file: bow_features.pkl\n"
     ]
    }
   ],
   "source": [
    "import numpy as np\n",
    "from sklearn.feature_extraction.text import CountVectorizer\n",
    "from sklearn.externals import joblib\n",
    "# joblib is an enhanced version of pickle that is more efficient for storing NumPy arrays\n",
    "\n",
    "def extract_BoW_features(words_train, words_test, vocabulary_size=5000,\n",
    "                         cache_dir=cache_dir, cache_file=\"bow_features.pkl\"):\n",
    "    \"\"\"Extract Bag-of-Words for a given set of documents, already preprocessed into words.\"\"\"\n",
    "    \n",
    "    # If cache_file is not None, try to read from it first\n",
    "    cache_data = None\n",
    "    if cache_file is not None:\n",
    "        try:\n",
    "            with open(os.path.join(cache_dir, cache_file), \"rb\") as f:\n",
    "                cache_data = joblib.load(f)\n",
    "            print(\"Read features from cache file:\", cache_file)\n",
    "        except:\n",
    "            pass  # unable to read from cache, but that's okay\n",
    "    \n",
    "    # If cache is missing, then do the heavy lifting\n",
    "    if cache_data is None:\n",
    "        # TODO: Fit a vectorizer to training documents and use it to transform them\n",
    "        # NOTE: Training documents have already been preprocessed and tokenized into words;\n",
    "        #       pass in dummy functions to skip those steps, e.g. preprocessor=lambda x: x\n",
    "        vectorizer = CountVectorizer(max_features=vocabulary_size,\n",
    "                preprocessor=lambda x: x, tokenizer=lambda x: x)  # already preprocessed\n",
    "        features_train = vectorizer.fit_transform(words_train).toarray()\n",
    "\n",
    "        # TODO: Apply the same vectorizer to transform the test documents (ignore unknown words)\n",
    "        features_test = vectorizer.transform(words_test).toarray()\n",
    "        \n",
    "        # NOTE: Remember to convert the features using .toarray() for a compact representation\n",
    "        \n",
    "        # Write to cache file for future runs (store vocabulary as well)\n",
    "        if cache_file is not None:\n",
    "            vocabulary = vectorizer.vocabulary_\n",
    "            cache_data = dict(features_train=features_train, features_test=features_test,\n",
    "                             vocabulary=vocabulary)\n",
    "            with open(os.path.join(cache_dir, cache_file), \"wb\") as f:\n",
    "                joblib.dump(cache_data, f)\n",
    "            print(\"Wrote features to cache file:\", cache_file)\n",
    "    else:\n",
    "        # Unpack data loaded from cache file\n",
    "        features_train, features_test, vocabulary = (cache_data['features_train'],\n",
    "                cache_data['features_test'], cache_data['vocabulary'])\n",
    "    \n",
    "    # Return both the extracted features as well as the vocabulary\n",
    "    return features_train, features_test, vocabulary\n",
    "\n",
    "\n",
    "# Extract Bag of Words features for both training and test datasets\n",
    "features_train, features_test, vocabulary = extract_BoW_features(words_train, words_test)"
   ]
  },
  {
   "cell_type": "code",
   "execution_count": 14,
   "metadata": {},
   "outputs": [
    {
     "name": "stdout",
     "output_type": "stream",
     "text": [
      "Vocabulary: 5000 words\n",
      "25000\n",
      "Sample words: ['rocket', 'iraq', 'america', 'ask', 'narrat', 'action', 'denni', 'jedi']\n",
      "\n",
      "--- Raw review ---\n",
      "Generally I like something light and fun, so this film shouldn't have appealed to me. But it grabbed me from the start. The story of a family's choices and challenges seem obvious, but it raises the question over and over: \"What if it was my family? My choice?\" I cried and laughed when they did because I really felt what the people involved felt. It was in places difficult to watch, but more difficult to turn away. The story is true, and life is sometimes difficult to watch! It shows what film-makers can do without sex, violence, or special effects: a good story is a good story all by itself. The best and most unpredictable stories are all true ones. Like real life, you really don't know what'll happen next, or why people do the things that they do!\n",
      "\n",
      "--- Preprocessed words ---\n",
      "['bought', 'dvd', 'set', 'sight', 'unseen', 'wish', 'script', 'need', 'seriou', 'rewrit', 'seem', 'complet', 'devoid', 'feel', 'pale', 'comparison', 'book', 'light', 'horrid', 'unpolish', 'could', 'overlook', 'script', 'focu', 'enough', 'charact', 'hardli', 'introduct', 'variou', 'charact', 'make', 'tad', 'difficult', 'distinguish', 'especi', 'plane', 'idea', 'die', 'long', 'felt', 'key', 'good', 'film', 'get', 'audienc', 'care', 'charact', 'anyth', 'focu', 'charact', 'never', 'got', 'know', 'like', 'made', 'thing', 'seri', '5', 'hour', 'long', 'split', '6', 'part', 'bet', 'wonder', 'time', 'detail', 'charact', 'put', 'lot', 'filler', 'say', 'least', 'entir', 'hour', 'spent', 'watch', 'land', 'take', 'plane', 'lol', 'mean', 'realli', 'need', 'see', 'would', 'given', 'much', 'higher', 'rate', 'improv', 'knowledg', 'charact']\n",
      "\n",
      "--- Bag-of-Words features ---\n",
      "[0 0 0 ... 0 0 0]\n",
      "<class 'numpy.ndarray'>\n",
      "83 5 1\n",
      "85 6 1\n",
      "284 anyth 1\n",
      "370 audienc 1\n",
      "499 bet 1\n",
      "579 book 1\n",
      "593 bought 1\n",
      "737 care 1\n",
      "808 charact 6\n",
      "970 comparison 1\n",
      "978 complet 1\n",
      "1075 could 1\n",
      "1284 detail 1\n",
      "1292 devoid 1\n",
      "1303 die 1\n",
      "1305 difficult 1\n",
      "1353 distinguish 1\n",
      "1442 dvd 1\n",
      "1549 enough 1\n",
      "1559 entir 1\n",
      "1577 especi 1\n",
      "1721 feel 1\n",
      "1726 felt 1\n",
      "1749 filler 1\n",
      "1750 film 1\n",
      "1801 focu 2\n",
      "1944 get 1\n",
      "1960 given 1\n",
      "1989 good 1\n",
      "1996 got 1\n",
      "2098 hardli 1\n",
      "2156 higher 1\n",
      "2210 horrid 1\n",
      "2221 hour 2\n",
      "2257 idea 1\n",
      "2296 improv 1\n",
      "2389 introduct 1\n",
      "2520 key 1\n",
      "2545 know 1\n",
      "2546 knowledg 1\n",
      "2572 land 1\n",
      "2608 least 1\n",
      "2651 light 1\n",
      "2654 like 1\n",
      "2688 lol 1\n",
      "2692 long 2\n",
      "2702 lot 1\n",
      "2742 made 1\n",
      "2757 make 1\n",
      "2822 mean 1\n",
      "2977 much 1\n",
      "3030 need 2\n",
      "3049 never 1\n",
      "3200 overlook 1\n",
      "3224 pale 1\n",
      "3245 part 1\n",
      "3346 plane 2\n",
      "3538 put 1\n",
      "3591 rate 1\n",
      "3612 realli 1\n",
      "3866 say 1\n",
      "3900 script 2\n",
      "3920 see 1\n",
      "3924 seem 1\n",
      "3953 seri 1\n",
      "3955 seriou 1\n",
      "3961 set 1\n",
      "4031 sight 1\n",
      "4177 spent 1\n",
      "4194 split 1\n",
      "4407 tad 1\n",
      "4410 take 1\n",
      "4484 thing 1\n",
      "4519 time 1\n",
      "4708 unseen 1\n",
      "4751 variou 1\n",
      "4844 watch 1\n",
      "4925 wish 1\n",
      "4936 wonder 1\n",
      "4957 would 1\n",
      "\n",
      "--- Label ---\n",
      "neg\n",
      "\n",
      "--- Raw review ---\n",
      "To sum this movie up, it is LaBute carrying his sadism over into the realm of comedic farce. The predictable result is that he is constantly stepping on all the jokes by insisting on surrounding them with blood-curdling violence and extremely hateful characters. There is also evidence of his continuing efforts to insult and ridicule everything in sight but then to apologize for it with weak gestures to the PC. Basically the movie just doesn't work, its plot is beyond contrived, the characters are one-dimensional cliches, there is no consistency or development of anything, and the comedy (where it is not totally out of place) is the worst kind of High Concept drivel.<br /><br />Morgan Freeman and Renee Zellweger are completely wasted on characters that seem like parodies of studio-driven audience pandering--no matter what, make them likeable, neutral (and neutered), and full of moral platitudes. Crispin Glover is in here just long enough to convince you that he doesn't belong in movies anymore. Chris Rock actually has negative chemistry with fellow hitman Freeman--it's as if they are acting in different rooms even when they are two inches away from each other. In effect, Chris Rock seems like a digital insert. At least he isn't as annoying as Jar-Jar.<br /><br />LaBute's 15 minutes may well be up by now. It's already looking like he's overstayed his welcome.\n",
      "\n",
      "--- Preprocessed words ---\n",
      "['realli', 'think', 'necessari', 'write', 'review', 'movi', 'titl', 'derisori', 'snake', 'island', 'even', 'abstract', 'confin', 'genr', 'hit', 'new', 'low', 'anger', 'must', 'known', 'reason', 'even', 'bother', 'watch', 'unbeliev', 'bad', 'movi', 'knew', 'go', 'bad', 'realli', 'late', 'night', 'could', 'sleep', 'past', 'realli', 'bad', 'movi', 'would', 'drain', 'energi', 'make', 'long', 'slumber', 'becam', 'quickli', 'earli', 'movi', 'go', 'aw', 'condescend', 'even', 'expect', 'movi', 'direct', 'written', 'wayn', 'crawford', 'also', 'star', 'movi', 'tourist', 'guid', 'african', 'river', 'end', 'strand', 'team', 'remot', 'island', 'call', 'snake', 'island', 'anoth', 'boat', 'come', 'pick', 'hang', 'get', 'drunk', 'becom', 'subject', 'onslaught', 'poison', 'snake', 'mission', 'purg', 'island', 'human', 'be', 'jaw', 'drop', 'last', 'sentenc', 'second', 'paragraph', 'bother', 'reread', 'got', 'right', 'first', 'time', 'frankli', 'prefer', 'creatur', 'featur', 'creatur', 'attack', 'nonsens', 'dumb', 'human', 'hunger', 'kind', 'mission', 'mutant', 'snake', 'giant', 'like', 'see', 'anaconda', 'ordinari', 'everyday', 'african', 'snake', 'like', 'mamba', 'viper', 'brain', 'form', 'armi', 'take', 'caus', 'work', 'togeth', 'trap', 'peopl', 'understand', 'languag', 'even', 'danc', 'draw', 'drop', 'well', 'go', 'drop', 'amount', 'midway', 'aw', 'b', 'movi', 'part', 'alreadi', 'given', 'human', 'charact', 'start', 'drink', 'around', 'campfir', 'sudden', 'break', 'kind', 'orgi', 'danc', 'nude', 'snake', 'hunt', 'sudden', 'stop', 'start', 'jam', 'along', 'combin', 'scene', 'scene', 'discov', 'snake', 'roguish', 'creatur', 'planet', 'form', 'allianc', 'human', 'be', 'oddbal', 'reason', 'prove', 'much', 'poor', 'brain', 'though', 'filmmak', 'take', 'even', 'lower', 'level', 'snake', 'start', 'sing', 'peopl', 'movi', 'well', 'let', 'say', 'never', 'root', 'creatur', 'kill', 'everybodi', 'quickli', 'could', 'stand', 'longer', 'realli', 'think', 'need', 'keep', 'go', 'get', 'pictur', 'anyth', 'make', 'snake', 'island', 'differ', 'rival', 'dare', 'tri', 'even', 'dumber', 'complimentari', 'achiev', 'continu', 'subject', 'realli', 'bad', 'movi', 'guess', 'never', 'realli', 'know', 'snake', 'island', 'hit', 'brand', 'new', 'low', 'cheap', 'trashi', 'excus', 'motion', 'pictur', 'make', 'anaconda', 'brainless', 'snake', 'movi', 'look', 'brilliant', 'sophist', 'thrill', 'steven', 'spielberg', 'jaw', 'warn']\n",
      "\n",
      "--- Bag-of-Words features ---\n",
      "[0 0 0 ... 0 0 0]\n",
      "<class 'numpy.ndarray'>\n",
      "130 achiev 1\n",
      "171 african 2\n",
      "218 along 1\n",
      "220 alreadi 1\n",
      "222 also 1\n",
      "246 amount 1\n",
      "258 anger 1\n",
      "268 anoth 1\n",
      "284 anyth 1\n",
      "313 armi 1\n",
      "316 around 1\n",
      "361 attack 1\n",
      "387 aw 2\n",
      "399 b 1\n",
      "410 bad 4\n",
      "455 be 2\n",
      "466 becam 1\n",
      "467 becom 1\n",
      "563 boat 1\n",
      "590 bother 2\n",
      "607 brain 2\n",
      "609 brand 1\n",
      "616 break 1\n",
      "633 brilliant 1\n",
      "703 call 1\n",
      "773 caus 1\n",
      "808 charact 1\n",
      "823 cheap 1\n",
      "951 combin 1\n",
      "952 come 1\n",
      "1003 confin 1\n",
      "1036 continu 1\n",
      "1075 could 2\n",
      "1099 crawford 1\n",
      "1108 creatur 4\n",
      "1174 danc 2\n",
      "1182 dare 1\n",
      "1304 differ 1\n",
      "1318 direct 1\n",
      "1333 discov 1\n",
      "1397 drain 1\n",
      "1401 draw 1\n",
      "1411 drink 1\n",
      "1418 drop 3\n",
      "1423 drunk 1\n",
      "1434 dumb 1\n",
      "1451 earli 1\n",
      "1531 end 1\n",
      "1537 energi 1\n",
      "1597 even 6\n",
      "1602 everybodi 1\n",
      "1603 everyday 1\n",
      "1624 excus 1\n",
      "1633 expect 1\n",
      "1718 featur 1\n",
      "1751 filmmak 1\n",
      "1764 first 1\n",
      "1828 form 2\n",
      "1854 frankli 1\n",
      "1934 genr 1\n",
      "1944 get 2\n",
      "1948 giant 1\n",
      "1960 given 1\n",
      "1975 go 4\n",
      "1996 got 1\n",
      "2051 guess 1\n",
      "2053 guid 1\n",
      "2087 hang 1\n",
      "2171 hit 2\n",
      "2236 human 4\n",
      "2244 hunt 1\n",
      "2408 island 6\n",
      "2425 jam 1\n",
      "2435 jaw 2\n",
      "2511 keep 1\n",
      "2527 kill 1\n",
      "2530 kind 2\n",
      "2540 knew 1\n",
      "2545 know 1\n",
      "2547 known 1\n",
      "2576 languag 1\n",
      "2580 last 1\n",
      "2581 late 1\n",
      "2636 let 1\n",
      "2638 level 1\n",
      "2654 like 2\n",
      "2692 long 1\n",
      "2693 longer 1\n",
      "2694 look 1\n",
      "2711 low 2\n",
      "2712 lower 1\n",
      "2757 make 3\n",
      "2912 mission 2\n",
      "2963 motion 1\n",
      "2972 movi 10\n",
      "2977 much 1\n",
      "2993 must 1\n",
      "2994 mutant 1\n",
      "3026 necessari 1\n",
      "3030 need 1\n",
      "3049 never 2\n",
      "3051 new 2\n",
      "3066 night 1\n",
      "3085 nonsens 1\n",
      "3108 nude 1\n",
      "3170 ordinari 1\n",
      "3245 part 1\n",
      "3258 past 1\n",
      "3283 peopl 2\n",
      "3324 pick 1\n",
      "3326 pictur 2\n",
      "3347 planet 1\n",
      "3372 poison 1\n",
      "3386 poor 1\n",
      "3426 prefer 1\n",
      "3509 prove 1\n",
      "3549 quickli 2\n",
      "3612 realli 6\n",
      "3615 reason 2\n",
      "3676 remot 1\n",
      "3730 review 1\n",
      "3751 right 1\n",
      "3761 rival 1\n",
      "3762 river 1\n",
      "3795 root 1\n",
      "3866 say 1\n",
      "3876 scene 2\n",
      "3910 second 1\n",
      "3920 see 1\n",
      "3945 sentenc 1\n",
      "4053 sing 1\n",
      "4086 sleep 1\n",
      "4110 snake 11\n",
      "4142 sophist 1\n",
      "4181 spielberg 1\n",
      "4224 stand 1\n",
      "4229 star 1\n",
      "4233 start 3\n",
      "4251 steven 1\n",
      "4269 stop 1\n",
      "4278 strand 1\n",
      "4315 subject 2\n",
      "4331 sudden 2\n",
      "4410 take 2\n",
      "4435 team 1\n",
      "4485 think 2\n",
      "4491 though 1\n",
      "4499 thrill 1\n",
      "4519 time 1\n",
      "4528 titl 1\n",
      "4532 togeth 1\n",
      "4562 tourist 1\n",
      "4587 trap 1\n",
      "4589 trashi 1\n",
      "4601 tri 1\n",
      "4656 unbeliev 1\n",
      "4670 understand 1\n",
      "4836 warn 1\n",
      "4844 watch 1\n",
      "4852 wayn 1\n",
      "4872 well 2\n",
      "4944 work 1\n",
      "4957 would 1\n",
      "4966 write 1\n",
      "4968 written 1\n",
      "\n",
      "--- Label ---\n",
      "neg\n"
     ]
    }
   ],
   "source": [
    "# Inspect the vocabulary that was computed\n",
    "print(\"Vocabulary: {} words\".format(len(vocabulary)))\n",
    "print(len(features_test))\n",
    "import random\n",
    "print(\"Sample words: {}\".format(random.sample(list(vocabulary.keys()), 8)))\n",
    "vocabulary_reverse = {v:k for k, v in vocabulary.items()}\n",
    "# Sample training data\n",
    "idx = 1\n",
    "print(\"\\n--- Raw review ---\")\n",
    "print(data_train[idx])\n",
    "print(\"\\n--- Preprocessed words ---\")\n",
    "print(words_train[idx])\n",
    "print(\"\\n--- Bag-of-Words features ---\")\n",
    "print(features_train[idx])\n",
    "print(type(features_train[idx]))\n",
    "for i, v in enumerate(features_train[idx]):\n",
    "    if v != 0:\n",
    "        print(i, vocabulary_reverse[i], v)\n",
    "print(\"\\n--- Label ---\")\n",
    "print(labels_train[idx])\n",
    "\n",
    "# Sample testing data\n",
    "idx = 1\n",
    "print(\"\\n--- Raw review ---\")\n",
    "print(data_test[idx])\n",
    "print(\"\\n--- Preprocessed words ---\")\n",
    "print(words_test[idx])\n",
    "print(\"\\n--- Bag-of-Words features ---\")\n",
    "print(features_test[idx])\n",
    "print(type(features_test[idx]))\n",
    "for i, v in enumerate(features_test[idx]):\n",
    "    if v != 0:\n",
    "        print(i, vocabulary_reverse[i], v)\n",
    "print(\"\\n--- Label ---\")\n",
    "print(labels_test[idx])"
   ]
  },
  {
   "cell_type": "markdown",
   "metadata": {},
   "source": [
    "我们尝试为某个训练文档可视化词袋特征向量。"
   ]
  },
  {
   "cell_type": "code",
   "execution_count": 15,
   "metadata": {},
   "outputs": [
    {
     "data": {
      "image/png": "[encoded data removed]",
      "text/plain": [
       "<Figure size 432x288 with 1 Axes>"
      ]
     },
     "metadata": {
      "needs_background": "light"
     },
     "output_type": "display_data"
    }
   ],
   "source": [
    "# Plot the BoW feature vector for a training document\n",
    "plt.plot(features_train[5,:])\n",
    "plt.xlabel('Word')\n",
    "plt.ylabel('Count')\n",
    "plt.show()"
   ]
  },
  {
   "cell_type": "markdown",
   "metadata": {},
   "source": [
    "\n",
    "\n",
    "\n",
    "#### 问题：思考词袋特征表示结果\n",
    "\n",
    "训练集中的词袋向量平均稀疏程度是多少？换句话说，词袋特征中平均有百分之多少条目为 0？\n",
    "\n",
    "#### 答案：\n",
    "\n",
    "...\n",
    "\n",
    "### 齐波夫定律\n",
    "\n",
    "[齐波夫定律](https://en.wikipedia.org/wiki/Zipf%27s_law)是以著名的美国语言学家 George Zipf 命名的，它是一条经验定律，表明给定一个大的文档集合，任何单词的频率与其在频率表中的排名成反比。因此最常见的单词频次大约是第二常见单词的两倍，是第三常见单词的三倍，以此类推。在下面的图表中，我们根据训练集中每个单词的排名绘制了单词的频次图表。"
   ]
  },
  {
   "cell_type": "code",
   "execution_count": 16,
   "metadata": {},
   "outputs": [
    {
     "data": {
      "image/png": "[encoded data removed]",
      "text/plain": [
       "<Figure size 432x288 with 1 Axes>"
      ]
     },
     "metadata": {
      "needs_background": "light"
     },
     "output_type": "display_data"
    }
   ],
   "source": [
    "# Find number of occurrences for each word in the training set\n",
    "word_freq = features_train.sum(axis=0)\n",
    "\n",
    "# Sort it in descending order\n",
    "sorted_word_freq = np.sort(word_freq)[::-1]\n",
    "\n",
    "# Plot \n",
    "plt.plot(sorted_word_freq)\n",
    "plt.gca().set_xscale('log')\n",
    "plt.gca().set_yscale('log')\n",
    "plt.xlabel('Rank')\n",
    "plt.ylabel('Number of occurrences')\n",
    "plt.show()"
   ]
  },
  {
   "cell_type": "markdown",
   "metadata": {},
   "source": [
    "![png](output_23_0.png)\n",
    "\n",
    "\n",
    "#### 问题：齐波夫定律\n",
    "\n",
    "最常见单词的总频次是多少？第二常见单词的总频次呢？你的数字遵守齐波夫定律定律吗？如果不遵守，原因是？\n",
    "\n",
    "#### 答案：\n",
    "\n",
    "...\n",
    "\n",
    "### TODO：标准化特征向量\n",
    "\n",
    "词袋特征很好理解，因为它们是简单的单词计数。但是字数可能差别很大，之后可能会在管道中导致学习算法出错。因此，在继续之前，我们标准化词袋特征向量，使其具有统一的长度。\n",
    "\n",
    "这样可以确保每个文档的表示结果保留统一的特征成分混合结果，防止字数很多的文档比字数更少的文档影响更大。"
   ]
  },
  {
   "cell_type": "code",
   "execution_count": 17,
   "metadata": {},
   "outputs": [
    {
     "name": "stdout",
     "output_type": "stream",
     "text": [
      "25000 25000\n"
     ]
    }
   ],
   "source": [
    "import sklearn.preprocessing as pr\n",
    "\n",
    "# TODO: Normalize BoW features in training and test set\n",
    "print(len(features_train), len(features_test))\n",
    "features_train = pr.normalize(features_train, axis=1)\n",
    "features_test = pr.normalize(features_test, axis=1)"
   ]
  },
  {
   "cell_type": "markdown",
   "metadata": {},
   "source": [
    "## 第 4 步：使用词袋特征进行分类\n",
    "### 4.1 朴素贝叶斯分类器\n",
    "\n",
    "正确转换所有数据后，我们可以将数据馈送到分类器中。要获得基准模型，我们从  scikit-learn 中选择算法（具体而言，是 [`GaussianNB`](http://scikit-learn.org/stable/modules/generated/sklearn.naive_bayes.GaussianNB.html)）训练一个朴素贝叶斯分类器，并通过测试集评估分类器的准确率。"
   ]
  },
  {
   "cell_type": "code",
   "execution_count": 18,
   "metadata": {},
   "outputs": [
    {
     "name": "stdout",
     "output_type": "stream",
     "text": [
      "[GaussianNB] Accuracy: train = 0.8198, test = 0.72768\n"
     ]
    }
   ],
   "source": [
    "from sklearn.naive_bayes import GaussianNB\n",
    "\n",
    "# TODO: Train a Guassian Naive Bayes classifier\n",
    "clf1 = GaussianNB()\n",
    "clf1.fit(features_train, labels_train)\n",
    "\n",
    "# Calculate the mean accuracy score on training and test sets\n",
    "print(\"[{}] Accuracy: train = {}, test = {}\".format(\n",
    "        clf1.__class__.__name__,\n",
    "        clf1.score(features_train, labels_train),\n",
    "        clf1.score(features_test, labels_test)))"
   ]
  },
  {
   "cell_type": "code",
   "execution_count": 19,
   "metadata": {},
   "outputs": [],
   "source": [
    "#[GaussianNB] Accuracy: train = 0.8198, test = 0.72768\n"
   ]
  },
  {
   "cell_type": "markdown",
   "metadata": {},
   "source": [
    "### 4.2 梯度提升决策树分类器\n",
    "\n",
    "基于树的算法通常在词袋特征上效果很好，因为树结构可以弥补词袋的高度不连续性和稀疏特性。在下个任务中，你将通过使用  scikit-learn 的梯度提升决策树分类器改善朴素贝叶斯分类器的性能。\n",
    "\n",
    "使用  scikit-learn 中的 [`GradientBoostingClassifier`](http://scikit-learn.org/stable/modules/generated/sklearn.ensemble.GradientBoostingClassifier.html) 分类词袋数据。此模型有大量参数。我们使用某些默认参数，并为你预设了剩余参数，但是 `n_estimators` 由你来设置。请为该参数设置一个合适的值，用其分类数据，并报告对于朴素贝叶斯算法，你的准确率提高了多少。 \n",
    "\n",
    "> **提示**：请使用交叉验证、网格搜索或信息准则方法等模型选择技巧得出超参数的最佳值。"
   ]
  },
  {
   "cell_type": "code",
   "execution_count": 20,
   "metadata": {},
   "outputs": [
    {
     "name": "stdout",
     "output_type": "stream",
     "text": [
      "[GradientBoostingClassifier] Accuracy: train = 0.79472, test = 0.79004\n"
     ]
    }
   ],
   "source": [
    "from sklearn.ensemble import GradientBoostingClassifier\n",
    "\n",
    "n_estimators = 32\n",
    "\n",
    "def classify_gboost(X_train, X_test, y_train, y_test):        \n",
    "    # Initialize classifier\n",
    "    clf = GradientBoostingClassifier(n_estimators=n_estimators, learning_rate=1.0, max_depth=1, random_state=0)\n",
    "\n",
    "    # TODO: Classify the data using GradientBoostingClassifier\n",
    "    clf.fit(X_train, y_train)\n",
    "\n",
    "    # TODO(optional): Perform hyperparameter tuning / model selection\n",
    "    \n",
    "    # TODO: Print final training & test accuracy\n",
    "    print(\"[{}] Accuracy: train = {}, test = {}\".format(\n",
    "            clf.__class__.__name__,\n",
    "            clf.score(X_train, y_train),\n",
    "            clf.score(X_test, y_test)))\n",
    "    \n",
    "    # Return best classifier model\n",
    "    return clf\n",
    "\n",
    "\n",
    "clf2 = classify_gboost(features_train, features_test, labels_train, labels_test)"
   ]
  },
  {
   "cell_type": "code",
   "execution_count": 21,
   "metadata": {},
   "outputs": [],
   "source": [
    "#[GradientBoostingClassifier] Accuracy: train = 0.79472, test = 0.79004\n"
   ]
  },
  {
   "cell_type": "markdown",
   "metadata": {},
   "source": [
    "### 4.3 Logistic Regression 分类器"
   ]
  },
  {
   "cell_type": "code",
   "execution_count": 22,
   "metadata": {},
   "outputs": [
    {
     "name": "stderr",
     "output_type": "stream",
     "text": [
      "/home/brentweiliu/anaconda3/envs/my_notebook/lib/python3.6/site-packages/sklearn/linear_model/logistic.py:432: FutureWarning: Default solver will be changed to 'lbfgs' in 0.22. Specify a solver to silence this warning.\n",
      "  FutureWarning)\n"
     ]
    },
    {
     "name": "stdout",
     "output_type": "stream",
     "text": [
      "[LogisticRegression] Accuracy: train = 0.82664, test = 0.82464\n"
     ]
    }
   ],
   "source": [
    "from sklearn.linear_model import LogisticRegression\n",
    "n_estimators = 32\n",
    "\n",
    "def classify_lgr(X_train, X_test, y_train, y_test):        \n",
    "    # Initialize classifier\n",
    "    clf = LogisticRegression(penalty=\"l1\", C=0.1)\n",
    "\n",
    "    # TODO: Classify the data using LogisticRegression\n",
    "    clf.fit(X_train, y_train)\n",
    "\n",
    "    # TODO(optional): Perform hyperparameter tuning / model selection\n",
    "    \n",
    "    # TODO: Print final training & test accuracy\n",
    "    print(\"[{}] Accuracy: train = {}, test = {}\".format(\n",
    "            clf.__class__.__name__,\n",
    "            clf.score(X_train, y_train),\n",
    "            clf.score(X_test, y_test)))\n",
    "    \n",
    "    # Return best classifier model\n",
    "    return clf\n",
    "\n",
    "\n",
    "clf3 = classify_lgr(features_train, features_test, labels_train, labels_test)"
   ]
  },
  {
   "cell_type": "markdown",
   "metadata": {},
   "source": [
    "### Logistic Regression 模型的预测方法\n",
    "就是参数点乘feature再加上截距,再计算sigmoid,如果大于等于0.5 就是 '+' 小于0.5 就是 '-' \n",
    "\n",
    "\n",
    "score = 1 / (1 + np.exp(-(feature.dot(clf3.coef_.T) + clf3.intercept_)))"
   ]
  },
  {
   "cell_type": "code",
   "execution_count": 23,
   "metadata": {},
   "outputs": [
    {
     "name": "stdout",
     "output_type": "stream",
     "text": [
      "features_test.shape: (25000, 5000)\n",
      "clf3.coef_: (1, 5000)\n",
      "clf3.intercept_: [0.32457568]\n",
      "score after sigmod:[0.70052456]\n",
      "score after sigmod:[0.07488617]\n",
      "score after sigmod:[0.06654704]\n",
      "score after sigmod:[0.20226297]\n",
      "score after sigmod:[0.3354782]\n",
      "score after sigmod:[0.64729234]\n",
      "score after sigmod:[0.55874333]\n",
      "score after sigmod:[0.25231401]\n",
      "score after sigmod:[0.17716323]\n",
      "score after sigmod:[0.74766999]\n",
      "predict: ['pos' 'neg' 'neg' 'neg' 'neg' 'pos' 'pos' 'neg' 'neg' 'pos']\n",
      "predict: ['pos' 'neg' 'neg' 'neg' 'neg' 'pos' 'pos' 'neg' 'neg' 'pos']\n"
     ]
    }
   ],
   "source": [
    "print(f'features_test.shape: {features_test.shape}')\n",
    "print(f'clf3.coef_: {clf3.coef_.shape}')\n",
    "print(f'clf3.intercept_: {clf3.intercept_}')\n",
    "idx = 10\n",
    "\n",
    "manual_scores, manual_predicts = [], []\n",
    "for feature in features_test[:idx]:\n",
    "    score = 1 / (1 + np.exp(-(feature.dot(clf3.coef_.T) + clf3.intercept_)))\n",
    "    print(f'score after sigmod:{score}')\n",
    "    manual_predicts.append('pos' if score >= 0.5 else 'neg')\n",
    "    \n",
    "print(f'predict: {clf3.predict(features_test[:idx])}')    \n",
    "print(f'predict: {np.array(manual_predicts)}')"
   ]
  },
  {
   "cell_type": "markdown",
   "metadata": {},
   "source": [
    "### TODO：对抗测试\n",
    "\n",
    "写一条简短的影评来迷惑你的机器学习模型吧！这条影评应该有明显的正面或负面情感，但是模型将分类错误。\n",
    "\n",
    "> **提示**：你可能需要利用词袋架构最大的薄弱之处！"
   ]
  },
  {
   "cell_type": "code",
   "execution_count": 24,
   "metadata": {},
   "outputs": [
    {
     "name": "stdout",
     "output_type": "stream",
     "text": [
      "--- My review ---\n",
      "I thought it would be just like all the other boring sequels that are coming out everyday. But had I not gone, I would've missed out on a treat. Not only was it not boring, it kept me at the edge of my seat till the end.\n",
      "\n",
      "--- Preprocessed words ---\n",
      "['thought', 'would', 'like', 'bore', 'sequel', 'come', 'everyday', 'gone', 'would', 'miss', 'treat', 'bore', 'kept', 'edg', 'seat', 'till', 'end']\n",
      "\n",
      "True sentiment: pos, predicted sentiment: neg\n"
     ]
    }
   ],
   "source": [
    "# TODO: Write a sample review and set its true sentiment\n",
    "my_review = \"I thought it would be just like all the other boring sequels that are coming out everyday. But had I not gone, I would've missed out on a treat. Not only was it not boring, it kept me at the edge of my seat till the end.\"\n",
    "true_sentiment = 'pos'  # sentiment must be 'pos' or 'neg'\n",
    "\n",
    "# TODO: Apply the same preprocessing and vectorizing steps as you did for your training data\n",
    "my_words = review_to_words(my_review)\n",
    "vectorizer = CountVectorizer(vocabulary=vocabulary,\n",
    "                             preprocessor=lambda x: x, tokenizer=lambda x: x)  # already preprocessed\n",
    "my_bow_features = vectorizer.transform([my_words]).toarray()  # pass an array of 1 element\n",
    "\n",
    "# TODO: Then call your classifier to label it\n",
    "predicted_sentiment = clf2.predict(my_bow_features)[0]\n",
    "print(\"--- My review ---\")\n",
    "print(my_review)\n",
    "print(\"\\n--- Preprocessed words ---\")\n",
    "print(my_words)\n",
    "print(\"\\nTrue sentiment: {}, predicted sentiment: {}\".format(true_sentiment, predicted_sentiment))"
   ]
  },
  {
   "cell_type": "markdown",
   "metadata": {},
   "source": [
    "## 第 5 步：切换工具 - RNN\n",
    "\n",
    "我们刚刚了解了如何通过传统的机器学习方法解决情感分析任务：词袋 + 非线性分类器。我们现在将切换工具，并使用递归神经网络（具体而言是 LSTM）在 Keras 中执行情感分析。幸运的是，Keras 具有内置的 [IMDb 影评数据集](https://keras.io/datasets/#imdb-movie-reviews-sentiment-classification)供我们使用，并且词汇量一样。"
   ]
  },
  {
   "cell_type": "code",
   "execution_count": 25,
   "metadata": {},
   "outputs": [
    {
     "name": "stdout",
     "output_type": "stream",
     "text": [
      "Requirement already satisfied: numpy==1.16.1 in /home/brentweiliu/anaconda3/envs/my_notebook/lib/python3.6/site-packages (1.16.1)\n",
      "<module 'numpy.version' from '/home/brentweiliu/anaconda3/envs/my_notebook/lib/python3.6/site-packages/numpy/version.py'>\n"
     ]
    }
   ],
   "source": [
    "!pip install numpy==1.16.1\n",
    "import numpy as np\n",
    "print(np.version)"
   ]
  },
  {
   "cell_type": "code",
   "execution_count": 26,
   "metadata": {},
   "outputs": [
    {
     "name": "stdout",
     "output_type": "stream",
     "text": [
      "Loaded dataset with 25000 training samples, 25000 test samples\n"
     ]
    }
   ],
   "source": [
    "from keras.datasets import imdb  # import the built-in imdb dataset in Keras\n",
    "\n",
    "# Set the vocabulary size\n",
    "vocabulary_size = 5000\n",
    "\n",
    "# Load in training and test data (note the difference in convention compared to scikit-learn)\n",
    "# old = np.load\n",
    "# np.load = lambda *a,**k: old(*a,**k,allow_pickle=True)\n",
    "# from keras.datasets import reuters\n",
    "# (X_train, y_train), (X_test, y_test) = reuters.load_data(num_words=5000)\n",
    "# np.load = old\n",
    "# del(old)\n",
    "\n",
    "\n",
    "(X_train, y_train), (X_test, y_test) = imdb.load_data(num_words=vocabulary_size)\n",
    "print(\"Loaded dataset with {} training samples, {} test samples\".format(len(X_train), len(X_test)))"
   ]
  },
  {
   "cell_type": "code",
   "execution_count": 27,
   "metadata": {},
   "outputs": [
    {
     "data": {
      "text/plain": [
       "['/job:localhost/replica:0/task:0/device:GPU:0']"
      ]
     },
     "execution_count": 27,
     "metadata": {},
     "output_type": "execute_result"
    }
   ],
   "source": [
    "from keras import backend as K\n",
    "K.tensorflow_backend._get_available_gpus()\n"
   ]
  },
  {
   "cell_type": "code",
   "execution_count": null,
   "metadata": {},
   "outputs": [],
   "source": []
  },
  {
   "cell_type": "markdown",
   "metadata": {},
   "source": [
    "Using TensorFlow backend.\n",
    "\n",
    "\n",
    "Loaded dataset with 25000 training samples, 25000 test samples\n",
    "\n"
   ]
  },
  {
   "cell_type": "code",
   "execution_count": 28,
   "metadata": {},
   "outputs": [
    {
     "name": "stdout",
     "output_type": "stream",
     "text": [
      "--- Review ---\n",
      "[1, 4, 2, 716, 4, 65, 7, 4, 689, 4367, 2, 2343, 4804, 2, 2, 2, 2, 2315, 2, 2, 2, 2, 4, 2, 628, 2, 37, 9, 150, 4, 2, 4069, 11, 2909, 4, 2, 847, 313, 6, 176, 2, 9, 2, 138, 9, 4434, 19, 4, 96, 183, 26, 4, 192, 15, 27, 2, 799, 2, 2, 588, 84, 11, 4, 3231, 152, 339, 2, 42, 4869, 2, 2, 345, 4804, 2, 142, 43, 218, 208, 54, 29, 853, 659, 46, 4, 882, 183, 80, 115, 30, 4, 172, 174, 10, 10, 1001, 398, 1001, 1055, 526, 34, 3717, 2, 2, 2, 17, 4, 2, 1094, 871, 64, 85, 22, 2030, 1109, 38, 230, 9, 4, 4324, 2, 251, 2, 1034, 195, 301, 14, 16, 31, 7, 4, 2, 8, 783, 2, 33, 4, 2945, 103, 465, 2, 42, 845, 45, 446, 11, 1895, 19, 184, 76, 32, 4, 2, 207, 110, 13, 197, 4, 2, 16, 601, 964, 2152, 595, 13, 258, 4, 1730, 66, 338, 55, 2, 4, 550, 728, 65, 1196, 8, 1839, 61, 1546, 42, 2, 61, 602, 120, 45, 2, 6, 320, 786, 99, 196, 2, 786, 2, 4, 225, 4, 373, 1009, 33, 4, 130, 63, 69, 72, 1104, 46, 1292, 225, 14, 66, 194, 2, 1703, 56, 8, 803, 1004, 6, 2, 155, 11, 4, 2, 3231, 45, 853, 2029, 8, 30, 6, 117, 430, 19, 6, 2, 9, 15, 66, 424, 8, 2337, 178, 9, 15, 66, 424, 8, 1465, 178, 9, 15, 66, 142, 15, 9, 424, 8, 28, 178, 662, 44, 12, 17, 4, 130, 898, 1686, 9, 6, 2, 267, 185, 430, 4, 118, 2, 277, 15, 4, 1188, 100, 216, 56, 19, 4, 357, 114, 2, 367, 45, 115, 93, 788, 121, 4, 2, 79, 32, 68, 278, 39, 8, 818, 162, 4165, 237, 600, 7, 98, 306, 8, 157, 549, 628, 11, 6, 2, 13, 824, 15, 4104, 76, 42, 138, 36, 774, 77, 1059, 159, 150, 4, 229, 497, 8, 1493, 11, 175, 251, 453, 19, 2, 189, 12, 43, 127, 6, 394, 292, 7, 2, 4, 107, 8, 4, 2826, 15, 1082, 1251, 9, 906, 42, 1134, 6, 66, 78, 22, 15, 13, 244, 2519, 8, 135, 233, 52, 44, 10, 10, 466, 112, 398, 526, 34, 4, 1572, 4413, 2, 1094, 225, 57, 599, 133, 225, 6, 227, 7, 541, 4323, 6, 171, 139, 7, 539, 2, 56, 11, 6, 3231, 21, 164, 25, 426, 81, 33, 344, 624, 19, 6, 4617, 7, 2, 2, 6, 2, 4, 22, 9, 1082, 629, 237, 45, 188, 6, 55, 655, 707, 2, 956, 225, 1456, 841, 42, 1310, 225, 6, 2493, 1467, 2, 2828, 21, 4, 2, 9, 364, 23, 4, 2228, 2407, 225, 24, 76, 133, 18, 4, 189, 2293, 10, 10, 814, 11, 2, 11, 2642, 14, 47, 15, 682, 364, 352, 168, 44, 12, 45, 24, 913, 93, 21, 247, 2441, 4, 116, 34, 35, 1859, 8, 72, 177, 9, 164, 8, 901, 344, 44, 13, 191, 135, 13, 126, 421, 233, 18, 259, 10, 10, 4, 2, 2, 4, 2, 3074, 7, 112, 199, 753, 357, 39, 63, 12, 115, 2, 763, 8, 15, 35, 3282, 1523, 65, 57, 599, 6, 1916, 277, 1730, 37, 25, 92, 202, 6, 2, 44, 25, 28, 6, 22, 15, 122, 24, 4171, 72, 33, 32]\n",
      "--- Label ---\n",
      "0\n"
     ]
    }
   ],
   "source": [
    "# Inspect a sample review and its label\n",
    "print(\"--- Review ---\")\n",
    "print(X_train[7])\n",
    "print(\"--- Label ---\")\n",
    "print(y_train[7])"
   ]
  },
  {
   "cell_type": "markdown",
   "metadata": {},
   "source": [
    "注意标签是整数（0 表示负面，1 表示正面），影评本身存储为整数序列。它们是预先分配给每个单词的单词 ID。要将它们映射回原始单词，可以使用 `imdb.get_word_index()` 返回的字典。"
   ]
  },
  {
   "cell_type": "code",
   "execution_count": 29,
   "metadata": {},
   "outputs": [
    {
     "name": "stdout",
     "output_type": "stream",
     "text": [
      "--- Review (with words) ---\n",
      "['the', 'of', 'and', 'local', 'of', 'their', 'br', 'of', 'attention', 'widow', 'and', 'captures', 'parties', 'and', 'and', 'and', 'and', 'excitement', 'and', 'and', 'and', 'and', 'of', 'and', 'english', 'and', 'like', 'it', 'years', 'of', 'and', 'unintentional', 'this', 'hitchcock', 'of', 'and', 'learn', 'everyone', 'is', 'quite', 'and', 'it', 'and', 'such', 'it', 'bonus', 'film', 'of', 'too', 'seems', 'he', 'of', 'enough', 'for', 'be', 'and', 'editing', 'and', 'and', 'please', 'great', 'this', 'of', 'shoots', 'thing', '3', 'and', \"it's\", 'mentioning', 'and', 'and', 'given', 'parties', 'and', 'back', 'out', 'interesting', 'times', 'no', 'all', 'average', 'talking', 'some', 'of', 'nor', 'seems', 'into', 'best', 'at', 'of', 'every', 'cast', 'i', 'i', 'inside', 'keep', 'inside', 'large', 'viewer', 'who', 'obscure', 'and', 'and', 'and', 'movie', 'of', 'and', 'entirely', \"you've\", 'see', 'because', 'you', 'deals', 'successful', 'her', 'anything', 'it', 'of', 'dedicated', 'and', 'hard', 'and', 'further', \"that's\", 'takes', 'as', 'with', 'by', 'br', 'of', 'and', 'in', 'minute', 'and', 'they', 'of', 'westerns', 'watch', 'seemed', 'and', \"it's\", 'lee', 'if', 'oh', 'this', 'japan', 'film', 'around', 'get', 'an', 'of', 'and', 'always', 'life', 'was', 'between', 'of', 'and', 'with', 'group', 'rate', 'code', \"film's\", 'was', 'although', 'of', 'arts', 'had', 'death', 'time', 'and', 'of', 'anyway', 'romantic', 'their', 'won', 'in', 'kevin', 'only', 'flying', \"it's\", 'and', 'only', 'cut', 'show', 'if', 'and', 'is', 'star', 'stay', 'movies', 'both', 'and', 'stay', 'and', 'of', 'music', 'of', 'tell', 'missing', 'they', 'of', 'here', 'really', 'me', 'we', 'value', 'some', 'silent', 'music', 'as', 'had', 'thought', 'and', 'realized', 'she', 'in', 'sorry', 'reasons', 'is', 'and', '10', 'this', 'of', 'and', 'shoots', 'if', 'average', 'remembered', 'in', 'at', 'is', 'over', 'worse', 'film', 'is', 'and', 'it', 'for', 'had', 'absolutely', 'in', 'naive', 'want', 'it', 'for', 'had', 'absolutely', 'in', 'j', 'want', 'it', 'for', 'had', 'back', 'for', 'it', 'absolutely', 'in', 'one', 'want', 'shots', 'has', 'that', 'movie', 'of', 'here', 'write', 'whatsoever', 'it', 'is', 'and', 'set', 'got', 'worse', 'of', 'where', 'and', 'once', 'for', 'of', 'accent', 'after', 'saw', 'she', 'film', 'of', 'rest', 'little', 'and', 'camera', 'if', 'best', 'way', 'elements', 'know', 'of', 'and', 'also', 'an', 'were', 'sense', 'or', 'in', 'realistic', 'actually', 'satan', \"he's\", 'score', 'br', 'any', 'himself', 'in', 'another', 'type', 'english', 'this', 'is', 'and', 'was', 'tom', 'for', 'dating', 'get', \"it's\", 'such', 'from', 'fantastic', 'will', 'pace', 'new', 'years', 'of', 'guy', 'game', 'in', 'murders', 'this', 'us', 'hard', 'lives', 'film', 'and', 'fact', 'that', 'out', 'end', 'is', 'getting', 'together', 'br', 'and', 'of', 'seen', 'in', 'of', 'jail', 'for', 'sees', 'utterly', 'it', 'meet', \"it's\", 'depth', 'is', 'had', 'do', 'you', 'for', 'was', 'rather', 'convince', 'in', 'why', 'last', 'very', 'has', 'i', 'i', 'throughout', 'never', 'keep', 'viewer', 'who', 'of', 'becoming', 'switch', 'and', 'entirely', 'music', 'even', 'interest', 'scene', 'music', 'is', 'far', 'br', 'voice', 'riveting', 'is', 'again', 'something', 'br', 'decent', 'and', 'she', 'this', 'is', 'shoots', 'not', 'director', 'have', 'against', 'people', 'they', 'line', 'cinematography', 'film', 'is', 'couples', 'br', 'and', 'and', 'is', 'and', 'of', 'you', 'it', 'sees', 'hero', \"he's\", 'if', \"can't\", 'is', 'time', 'husband', 'silly', 'and', 'result', 'music', 'image', 'sequences', \"it's\", 'chase', 'music', 'is', 'veteran', 'include', 'and', 'freeman', 'not', 'of', 'and', 'it', 'along', 'are', 'of', 'hearing', 'cutting', 'music', 'his', 'get', 'scene', 'but', 'of', 'fact', 'correct', 'i', 'i', 'means', 'this', 'and', 'this', 'blockbuster', 'as', 'there', 'for', 'disappointed', 'along', 'wrong', 'few', 'has', 'that', 'if', 'his', 'weird', 'way', 'not', 'girl', 'display', 'of', 'love', 'who', 'so', 'friendship', 'in', 'we', 'down', 'it', 'director', 'in', 'situation', 'line', 'has', 'was', 'big', 'why', 'was', 'your', 'supposed', 'last', 'but', 'especially', 'i', 'i', 'of', 'and', 'and', 'of', 'and', 'internet', 'br', 'never', 'give', 'theme', 'rest', 'or', 'really', 'that', 'best', 'and', 'release', 'in', 'for', 'so', 'multi', 'random', 'their', 'even', 'interest', 'is', 'judge', 'once', 'arts', 'like', 'have', 'then', 'own', 'is', 'and', 'has', 'have', 'one', 'is', 'you', 'for', 'off', 'his', 'dutch', 'we', 'they', 'an']\n",
      "--- Label ---\n",
      "0\n"
     ]
    }
   ],
   "source": [
    "# Map word IDs back to words\n",
    "word2id = imdb.get_word_index()\n",
    "id2word = {i: word for word, i in word2id.items()}\n",
    "print(\"--- Review (with words) ---\")\n",
    "print([id2word.get(i, \" \") for i in X_train[7]])\n",
    "print(\"--- Label ---\")\n",
    "print(y_train[7])"
   ]
  },
  {
   "cell_type": "markdown",
   "metadata": {},
   "source": [
    "词袋方法直接将每个单词的数量汇总到一个文档中，而此表示法本质上保留了整个单词序列（没有标点、停用词等）。这对 RNN 的正常运转来说很关键。但是也意味着特征可能长度不一了！\n",
    "\n",
    "#### 问题：长度不等的影评\n",
    "\n",
    "训练集中最长的影评有多长（用单词数量计），最短的呢？\n",
    "\n",
    "#### 答案：\n",
    "\n",
    "...\n",
    "\n",
    "\n",
    "### TODO：填充序列\n",
    "\n",
    "为了将此数据馈送到 RNN 中，所有输入文档必须具有相同的长度。我们将最大影评长度限定为 `max_words`，截断更长的影评并用空值 (0) 填充更短的影评。你可以在 Keras 中使用 [`pad_sequences()`](https://keras.io/preprocessing/sequence/#pad_sequences) 函数轻松实现这一点。暂时，我们将 `max_words` 设为 500。"
   ]
  },
  {
   "cell_type": "code",
   "execution_count": 31,
   "metadata": {},
   "outputs": [],
   "source": [
    "from keras.preprocessing import sequence\n",
    "\n",
    "# Set the maximum number of words per document (for both training and testing)\n",
    "max_words = 500\n",
    "\n",
    "# TODO: Pad sequences in X_train and X_test\n",
    "X_train = sequence.pad_sequences(X_train, maxlen=max_words)\n",
    "X_test = sequence.pad_sequences(X_test, maxlen=max_words)"
   ]
  },
  {
   "cell_type": "markdown",
   "metadata": {},
   "source": [
    "### TODO：设计情感分析 RNN 模型\n",
    "\n",
    "请在下面的代码单元格中构建你的模型架构。我们从 Keras 中导入了一些你可能需要的层级，但是你也可以选择使用任何其他层级/转换。\n",
    "\n",
    "注意，输入是单词序列（严格来说，是整数单词 ID），最大长度是 `max_words`，输出是二元情感标签（0 或 1）。"
   ]
  },
  {
   "cell_type": "code",
   "execution_count": 32,
   "metadata": {},
   "outputs": [
    {
     "name": "stdout",
     "output_type": "stream",
     "text": [
      "_________________________________________________________________\n",
      "Layer (type)                 Output Shape              Param #   \n",
      "=================================================================\n",
      "embedding_1 (Embedding)      (None, 500, 32)           160000    \n",
      "_________________________________________________________________\n",
      "lstm_1 (LSTM)                (None, 100)               53200     \n",
      "_________________________________________________________________\n",
      "dense_1 (Dense)              (None, 1)                 101       \n",
      "=================================================================\n",
      "Total params: 213,301\n",
      "Trainable params: 213,301\n",
      "Non-trainable params: 0\n",
      "_________________________________________________________________\n",
      "None\n"
     ]
    }
   ],
   "source": [
    "from keras.models import Sequential\n",
    "from keras.layers import Embedding, LSTM, Dense, Dropout\n",
    "\n",
    "# TODO: Design your model\n",
    "embedding_size = 32\n",
    "model = Sequential()\n",
    "model.add(Embedding(vocabulary_size, embedding_size, input_length=max_words))\n",
    "model.add(LSTM(100))\n",
    "model.add(Dense(1, activation='sigmoid'))\n",
    "\n",
    "print(model.summary())"
   ]
  },
  {
   "cell_type": "markdown",
   "metadata": {},
   "source": [
    "#### 问题：架构和参数\n",
    "\n",
    "请简要描述下你的神经网络架构。它有多少模型参数需要训练？\n",
    "\n",
    "#### 答案：\n",
    "\n",
    "...\n",
    "\n",
    "### TODO：训练并评估模型\n",
    "\n",
    "现在你已经准备好训练模型了。在 Keras 环境中，你首先需要_编译_模型，方法是指定训练期间要使用的损失函数和优化器，以及要衡量的任何评估指标。请指定相应的参数，至少包括指标 `'accuracy'`。"
   ]
  },
  {
   "cell_type": "code",
   "execution_count": 34,
   "metadata": {},
   "outputs": [],
   "source": [
    "# TODO: Compile your model, specifying a loss function, optimizer, and metrics\n",
    "model.compile(loss='binary_crossentropy', optimizer='adam', metrics=['accuracy'])"
   ]
  },
  {
   "cell_type": "markdown",
   "metadata": {},
   "source": [
    "编译后，可以开始训练流程了。你需要指定两个重要的训练参数：**批次大小**和**训练周期数**，它们和模型架构一起决定了总的训练时间。\n",
    "\n",
    "训练可能需要一段时间，喝杯咖啡，或者去徒步一会吧！如果可行的话，考虑使用 GPU，因为在 CPU 上训练一次可能需要好几个小时。\n",
    "\n",
    "> **提示**：你可以从训练集中拿出一小部分数据，在训练中用作验证集。这样有助于监控训练流程并发现潜在的过拟合问题。你可以使用 `validation_data` 参数将验证集提供给 `model.fit()`，或者直接指定 `validation_split`，让 Keras 为此拿出一部分训练数据（通常是 5-10%）。在每个周期结束时评估验证指标一次。"
   ]
  },
  {
   "cell_type": "code",
   "execution_count": 35,
   "metadata": {},
   "outputs": [
    {
     "name": "stdout",
     "output_type": "stream",
     "text": [
      "Train on 24936 samples, validate on 64 samples\n",
      "Epoch 1/3\n",
      "24936/24936 [==============================] - 234s 9ms/step - loss: 0.4370 - acc: 0.7920 - val_loss: 0.2810 - val_acc: 0.9219\n",
      "Epoch 2/3\n",
      "24936/24936 [==============================] - 230s 9ms/step - loss: 0.3066 - acc: 0.8787 - val_loss: 0.2284 - val_acc: 0.9375\n",
      "Epoch 3/3\n",
      "24936/24936 [==============================] - 234s 9ms/step - loss: 0.2576 - acc: 0.8980 - val_loss: 0.3002 - val_acc: 0.8594\n"
     ]
    },
    {
     "data": {
      "text/plain": [
       "<keras.callbacks.History at 0x7f97da599710>"
      ]
     },
     "execution_count": 35,
     "metadata": {},
     "output_type": "execute_result"
    }
   ],
   "source": [
    "# TODO: Specify training parameters: batch size and number of epochs\n",
    "batch_size = 64\n",
    "num_epochs = 3\n",
    "\n",
    "# TODO(optional): Reserve/specify some training data for validation (not to be used for training)\n",
    "X_valid, y_valid = X_train[:batch_size], y_train[:batch_size]  # first batch_size samples\n",
    "X_train2, y_train2 = X_train[batch_size:], y_train[batch_size:]  # rest for training\n",
    "\n",
    "# TODO: Train your model\n",
    "model.fit(X_train2, y_train2,\n",
    "          validation_data=(X_valid, y_valid),\n",
    "          batch_size=batch_size, epochs=num_epochs)"
   ]
  },
  {
   "cell_type": "code",
   "execution_count": 36,
   "metadata": {},
   "outputs": [],
   "source": [
    "# Save your model, so that you can quickly load it in future (and perhaps resume training)\n",
    "import os\n",
    "model_file = \"rnn_model.h5\"  # HDF5 file\n",
    "cache_dir = './'\n",
    "model.save(os.path.join(cache_dir, model_file))\n",
    "\n",
    "# Later you can load it using keras.models.load_model()\n",
    "#from keras.models import load_model\n",
    "#model = load_model(os.path.join(cache_dir, model_file))"
   ]
  },
  {
   "cell_type": "markdown",
   "metadata": {},
   "source": [
    "训练模型后，看看它在未见过的测试数据上的表现如何。"
   ]
  },
  {
   "cell_type": "code",
   "execution_count": 37,
   "metadata": {},
   "outputs": [
    {
     "name": "stdout",
     "output_type": "stream",
     "text": [
      "Test accuracy: 0.83688\n"
     ]
    }
   ],
   "source": [
    "# Evaluate your model on the test set\n",
    "scores = model.evaluate(X_test, y_test, verbose=0)  # returns loss and other metrics specified in model.compile()\n",
    "print(\"Test accuracy:\", scores[1])  # scores[1] should correspond to accuracy if you passed in metrics=['accuracy']"
   ]
  },
  {
   "cell_type": "code",
   "execution_count": null,
   "metadata": {},
   "outputs": [],
   "source": [
    "#Test accuracy: 0.8732\n"
   ]
  },
  {
   "cell_type": "markdown",
   "metadata": {},
   "source": [
    "### TODO：对抗测试\n",
    "\n",
    "写一条简短的影评来迷惑你的机器学习模型吧！这条影评应该有明显的正面或负面情感，但是模型将分类错误。\n",
    "\n",
    "> **提示**：你可能需要利用词袋架构最大的薄弱之处！\n",
    "\n",
    "...\n",
    "\n",
    "## 延伸\n",
    "\n",
    "你可以通过多种方式继续完善此 notebook。每种方式都有一些挑战性，但是会带来非常有意义的经验。\n",
    "\n",
    "- 首先是通过尝试不同的架构、层级和参数，提高模型的准确率。在没有花费过长训练时间的情况下，准确率能达到多少？如何防止过拟合？\n",
    "\n",
    "- 然后，你可能需要将模型部署为移动应用或网络服务。如果要进行此类部署，你需要执行哪些操作？如何接受新的影评、将其转换为适合模型的格式，并进行实际预测？（注意，你在训练过程中使用的环境可能不可用了。）\n",
    "\n",
    "- 对于此 notebook，我们做出了一个简化：将任务限制为二元分类任务。数据集实际上包含更精细的评分，由每个影评的文件名表示（格式为 `<[id]_[rating].txt>`，其中 `[id]` 是唯一标识符，`[rating]` 的范围是 1-10；注意中性评分 > 4 或 < 7 已被排除）。如何修改 notebook，以对评分执行递归算法？在什么情形下，递归比分类更有用，相反情况呢？\n",
    "\n",
    "无论你朝着哪个方向发展，都确保与其他学员分享你的结果和学习成果，将结果分享到博客、论坛上，并参与在线竞争项目。这也是吸引潜在雇主的极佳方式！"
   ]
  }
 ],
 "metadata": {
  "kernelspec": {
   "display_name": "Python 3",
   "language": "python",
   "name": "python3"
  },
  "language_info": {
   "codemirror_mode": {
    "name": "ipython",
    "version": 3
   },
   "file_extension": ".py",
   "mimetype": "text/x-python",
   "name": "python",
   "nbconvert_exporter": "python",
   "pygments_lexer": "ipython3",
   "version": "3.6.7"
  }
 },
 "nbformat": 4,
 "nbformat_minor": 2
}
