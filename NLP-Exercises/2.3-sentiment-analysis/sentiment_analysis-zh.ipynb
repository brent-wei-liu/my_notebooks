{
 "cells": [
  {
   "cell_type": "markdown",
   "metadata": {},
   "source": [
    "# 情感分析\n",
    "\n",
    "_人工智能纳米学位课程 | 自然语言处理_\n",
    "\n",
    "---\n",
    "\n",
    "随着 Twitter、Facebook 和 Reddit 等在线社交媒体的兴起，以及亚马逊和 Yelp 等网站上的客户评论的飞速增多，我们现在能够获得比以往任何时候都要庞大的文本数据集！我们可以分析这些数据集，了解大部分人群对特定产品和事件等的感受。这种分析称为_情感分析_。在此 notebook 中，你将从头开始构建一个端到端情感分类系统。\n",
    "\n",
    "## 说明\n",
    "\n",
    "我们已经为你提供了一些模板代码，你需要实现额外的功能，才能成功完成此 notebook。除了要求的地方之外，你不需要修改所提供代码的其他部分。标题中以 **TODO** 开头的部分表明你需要完成或实现部分代码。我们会在每个部分提供说明，并在以 `# TODO: …` 注释的代码块中提供实现细节。请务必仔细阅读说明！\n",
    "\n",
    "除了实现代码之外，还需要回答与任务和代码实现相关的问题。以**问题：**开头的部分表示你需要回答问题。请仔细阅读每个问题，并在**答案：**标题下方通过编辑标记单元格，写出答案。\n",
    "\n",
    "> **注意**：你可以使用 **Shift+Enter** 键盘快捷键执行代码和标记单元格。此外，通常可以通过点击单元格（或双击标记单元格）或在突出显示时按下 **Enter** 键编辑单元格。\n",
    "\n",
    "## 第 1 步：探索数据！\n",
    "\n",
    "我们要使用的数据集在自然语言处理研究人员人群当中很受欢迎，通常称为 [IMDb 数据集](http://ai.stanford.edu/~amaas/data/sentiment/)。它由网站 [imdb.com](http://www.imdb.com/) 上的影评组成，每条影评都被标记为 **pos**itive（如果影评人喜欢这部电影），否则被标为 **neg**ative'。\n",
    "\n",
    "> Maas, Andrew L. 等。[学习情感分析单词向量](http://ai.stanford.edu/~amaas/data/sentiment/)。发布于_第 49 届计算语言学协会年度大会：人类语言技术公报_。计算语言学协会，2011 年。\n",
    "\n",
    "我们已经为你提供该数据集。你可以通过执行以下 Python 单元格加载该数据集。"
   ]
  },
  {
   "cell_type": "code",
   "execution_count": 3,
   "metadata": {},
   "outputs": [
    {
     "name": "stdout",
     "output_type": "stream",
     "text": [
      "IMDb reviews: train = 12500 pos / 12500 neg, test = 12500 pos / 12500 neg\n"
     ]
    }
   ],
   "source": [
    "import os\n",
    "import glob\n",
    "\n",
    "def read_imdb_data(data_dir='aclImdb'):\n",
    "    \"\"\"Read IMDb movie reviews from given directory.\n",
    "    \n",
    "    Directory structure expected:\n",
    "    - data/\n",
    "        - train/\n",
    "            - pos/\n",
    "            - neg/\n",
    "        - test/\n",
    "            - pos/\n",
    "            - neg/\n",
    "    \n",
    "    \"\"\"\n",
    "\n",
    "    # Data, labels to be returned in nested dicts matching the dir. structure\n",
    "    data = {}\n",
    "    labels = {}\n",
    "\n",
    "    # Assume 2 sub-directories: train, test\n",
    "    for data_type in ['train', 'test']:\n",
    "        data[data_type] = {}\n",
    "        labels[data_type] = {}\n",
    "\n",
    "        # Assume 2 sub-directories for sentiment (label): pos, neg\n",
    "        for sentiment in ['pos', 'neg']:\n",
    "            data[data_type][sentiment] = []\n",
    "            labels[data_type][sentiment] = []\n",
    "            \n",
    "            # Fetch list of files for this sentiment\n",
    "            path = os.path.join(data_dir, data_type, sentiment, '*.txt')\n",
    "            files = glob.glob(path)\n",
    "            \n",
    "            # Read reviews data and assign labels\n",
    "            for f in files:\n",
    "                with open(f) as review:\n",
    "                    data[data_type][sentiment].append(review.read())\n",
    "                    labels[data_type][sentiment].append(sentiment)\n",
    "            \n",
    "            assert len(data[data_type][sentiment]) == len(labels[data_type][sentiment]), \\\n",
    "                    \"{}/{} data size does not match labels size\".format(data_type, sentiment)\n",
    "    \n",
    "    # Return data, labels as nested dicts\n",
    "    return data, labels\n",
    "\n",
    "\n",
    "data, labels = read_imdb_data()\n",
    "print(\"IMDb reviews: train = {} pos / {} neg, test = {} pos / {} neg\".format(\n",
    "        len(data['train']['pos']), len(data['train']['neg']),\n",
    "        len(data['test']['pos']), len(data['test']['neg'])))\n",
    "        "
   ]
  },
  {
   "cell_type": "markdown",
   "metadata": {},
   "source": [
    "加载数据后，我们快速查看下其中一条正面影评："
   ]
  },
  {
   "cell_type": "code",
   "execution_count": 4,
   "metadata": {},
   "outputs": [
    {
     "name": "stdout",
     "output_type": "stream",
     "text": [
      "Lars Von Trier is never backward in trying out new techniques. Some of them are very original while others are best forgotten.<br /><br />He depicts postwar Germany as a nightmarish train journey. With so many cities lying in ruins, Leo Kessler a young American of German descent feels obliged to help in their restoration. It is not a simple task as he quickly finds out.<br /><br />His uncle finds him a job as a night conductor on the Zentropa Railway Line. His job is to attend to the needs of the passengers. When the shoes are polished a chalk mark is made on the soles. A terrible argument ensues when a passenger's shoes are not chalked despite the fact they have been polished. There are many allusions to the German fanaticism of adherence to such stupid details.<br /><br />The railway journey is like an allegory representing man's procession through life with all its trials and tribulations. In one sequence Leo dashes through the back carriages to discover them filled with half-starved bodies appearing to have just escaped from Auschwitz . These images, horrible as they are, are fleeting as in a dream, each with its own terrible impact yet unconnected.<br /><br />At a station called Urmitz Leo jumps from the train with a parceled bomb. In view of many by-standers he connects the bomb to the underside of a carriage. He returns to his cabin and makes a connection to a time clock. Later he jumps from the train (at high speed) and lies in the cool grass on a river bank. Looking at the stars above he decides that his job is to build and not destroy. Subsequently as he sees the train approaching a giant bridge he runs at breakneck speed to board the train and stop the clock. If you care to analyse the situation it is a completely impossible task. Quite ridiculous in fact. It could only happen in a dream.<br /><br />It's strange how one remembers little details such as a row of cups hanging on hooks and rattling away with the swaying of the train.<br /><br />Despite the fact that this film is widely acclaimed, I prefer Lars Von Trier's later films (Breaking the Waves and The Idiots). The bomb scene described above really put me off. Perhaps I'm a realist.\n",
      "pos\n"
     ]
    }
   ],
   "source": [
    "print(data['train']['pos'][2])\n",
    "print(labels['train']['pos'][2])"
   ]
  },
  {
   "cell_type": "markdown",
   "metadata": {},
   "source": [
    "再看一条负面影评："
   ]
  },
  {
   "cell_type": "code",
   "execution_count": 5,
   "metadata": {},
   "outputs": [
    {
     "name": "stdout",
     "output_type": "stream",
     "text": [
      "If only to avoid making this type of film in the future. This film is interesting as an experiment but tells no cogent story.<br /><br />One might feel virtuous for sitting thru it because it touches on so many IMPORTANT issues but it does so without any discernable motive. The viewer comes away with no new perspectives (unless one comes up with one while one's mind wanders, as it will invariably do during this pointless film).<br /><br />One might better spend one's time staring out a window at a tree growing.<br /><br />\n"
     ]
    }
   ],
   "source": [
    "print(data['train']['neg'][2])"
   ]
  },
  {
   "cell_type": "markdown",
   "metadata": {},
   "source": [
    "我们还可以对影评进行 wordcloud 可视化。"
   ]
  },
  {
   "cell_type": "code",
   "execution_count": 6,
   "metadata": {},
   "outputs": [
    {
     "name": "stdout",
     "output_type": "stream",
     "text": [
      "Looking in indexes: https://edge.dist.yahoo.com:4443/artifactory/api/pypi/pypi/simple, https://edge.dist.yahoo.com:4443/pypimirror/simple\n",
      "Collecting wordcloud\n",
      "\u001b[?25l  Downloading https://edge.dist.yahoo.com:4443/pypimirror/packages/be/fe/4e718808c7bfb641e8964c2e40a6ae2a51c74ea493a6701b89ba417bc769/wordcloud-1.5.0-cp37-cp37m-manylinux1_x86_64.whl (361kB)\n",
      "\u001b[K    100% |████████████████████████████████| 368kB 15.6MB/s ta 0:00:01\n",
      "\u001b[?25hRequirement already satisfied: pillow in /home/brentweiliu/anaconda3/lib/python3.7/site-packages (from wordcloud) (5.4.1)\n",
      "Requirement already satisfied: numpy>=1.6.1 in /home/brentweiliu/anaconda3/lib/python3.7/site-packages (from wordcloud) (1.16.2)\n",
      "Installing collected packages: wordcloud\n",
      "Successfully installed wordcloud-1.5.0\n"
     ]
    }
   ],
   "source": [
    "# Installing wordcloud\n",
    "!pip install wordcloud"
   ]
  },
  {
   "cell_type": "code",
   "execution_count": 7,
   "metadata": {},
   "outputs": [
    {
     "data": {
      "image/png": "[encoded data removed]",
      "text/plain": [
       "<Figure size 432x288 with 1 Axes>"
      ]
     },
     "metadata": {
      "needs_background": "light"
     },
     "output_type": "display_data"
    }
   ],
   "source": [
    "import matplotlib.pyplot as plt\n",
    "%matplotlib inline\n",
    "\n",
    "from wordcloud import WordCloud, STOPWORDS\n",
    "\n",
    "sentiment = 'pos'\n",
    "\n",
    "# Combine all reviews for the desired sentiment\n",
    "combined_text = \" \".join([review for review in data['train'][sentiment]])\n",
    "\n",
    "# Initialize wordcloud object\n",
    "wc = WordCloud(background_color='white', max_words=50,\n",
    "        # update stopwords to include common words like film and movie\n",
    "        stopwords = STOPWORDS.update(['br','film','movie']))\n",
    "\n",
    "# Generate and plot wordcloud\n",
    "plt.imshow(wc.generate(combined_text))\n",
    "plt.axis('off')\n",
    "plt.show()"
   ]
  },
  {
   "cell_type": "markdown",
   "metadata": {},
   "source": [
    "尝试将情感改为 `'neg'`，看看能否看出这两个 wordcloud 之间的明显区别。\n",
    "\n",
    "### TODO：形成训练集和测试集\n",
    "\n",
    "你已经查看了原始数据，现在请将正面和负面文档结合到一起，获得一个统一的训练集和一个统一的测试集。"
   ]
  },
  {
   "cell_type": "code",
   "execution_count": 8,
   "metadata": {},
   "outputs": [
    {
     "name": "stdout",
     "output_type": "stream",
     "text": [
      "['Zentropa has much in common with The Third Man, another noir-like film set among the rubble of postwar Europe. Like TTM, there is much inventive camera work. There is an innocent American who gets emotionally involved with a woman he doesn\\'t really understand, and whose naivety is all the more striking in contrast with the natives.<br /><br />But I\\'d have to say that The Third Man has a more well-crafted storyline. Zentropa is a bit disjointed in this respect. Perhaps this is intentional: it is presented as a dream/nightmare, and making it too coherent would spoil the effect. <br /><br />This movie is unrelentingly grim--\"noir\" in more than one sense; one never sees the sun shine. Grim, but intriguing, and frightening.', \"Zentropa is the most original movie I've seen in years. If you like unique thrillers that are influenced by film noir, then this is just the right cure for all of those Hollywood summer blockbusters clogging the theaters these days. Von Trier's follow-ups like Breaking the Waves have gotten more acclaim, but this is really his best work. It is flashy without being distracting and offers the perfect combination of suspense and dark humor. It's too bad he decided handheld cameras were the wave of the future. It's hard to say who talked him away from the style he exhibits here, but it's everyone's loss that he went into his heavily theoretical dogma direction instead.\"]\n"
     ]
    }
   ],
   "source": [
    "print(data['train']['pos'][:2])"
   ]
  },
  {
   "cell_type": "code",
   "execution_count": 9,
   "metadata": {},
   "outputs": [
    {
     "name": "stdout",
     "output_type": "stream",
     "text": [
      "IMDb reviews (combined): train = 25000, test = 25000\n"
     ]
    }
   ],
   "source": [
    "from sklearn.utils import shuffle\n",
    "\n",
    "def prepare_imdb_data(data):\n",
    "    \"\"\"Prepare training and test sets from IMDb movie reviews.\"\"\"\n",
    "    \n",
    "    # TODO: Combine positive and negative reviews and labels\n",
    "    data_train = data['train']['pos'] + data['train']['neg']\n",
    "    labels_train = labels['train']['pos'] + labels['train']['neg']\n",
    "    data_test = data['test']['pos'] + data['test']['neg']\n",
    "    labels_test = labels['test']['pos'] + labels['test']['neg']\n",
    "    # TODO: Shuffle reviews and corresponding labels within training and test sets\n",
    "    data_train, labels_train = shuffle(data_train, labels_train)\n",
    "    data_test, labels_test = shuffle(data_test, labels_test)\n",
    "    # Return a unified training data, test data, training labels, test labets\n",
    "    return data_train, data_test, labels_train, labels_test\n",
    "\n",
    "\n",
    "data_train, data_test, labels_train, labels_test = prepare_imdb_data(data)\n",
    "print(\"IMDb reviews (combined): train = {}, test = {}\".format(len(data_train), len(data_test)))"
   ]
  },
  {
   "cell_type": "markdown",
   "metadata": {},
   "source": [
    "## 第 2 步：预处理\n",
    "\n",
    "你可能已经在示例影评中注意到了，原始数据包含 HTML。因此需要删除 HTML 标记。我们还需要删除非字母字符、通过将大写字母转换为小写来标准化大写字母、标记化、删除停用词并词干提取每个文档中的剩余单词。\n",
    "\n",
    "### TODO：将每条影评转换为单词\n",
    "\n",
    "下个任务是完成执行所有这些步骤的函数 `review_to_words()`。为了方便起见，在下面的 Python 单元格中，我们提供了完成这些预处理步骤可能需要的所有库。确保导入所有这些库（如果不能导入，请从终端通过 pip 安装，并重新运行/导入。）"
   ]
  },
  {
   "cell_type": "code",
   "execution_count": 10,
   "metadata": {},
   "outputs": [
    {
     "name": "stderr",
     "output_type": "stream",
     "text": [
      "[nltk_data] Downloading package stopwords to\n",
      "[nltk_data]     /home/brentweiliu/nltk_data...\n",
      "[nltk_data]   Unzipping corpora/stopwords.zip.\n"
     ]
    }
   ],
   "source": [
    "# BeautifulSoup to easily remove HTML tags\n",
    "from bs4 import BeautifulSoup \n",
    "\n",
    "# RegEx for removing non-letter characters\n",
    "import re\n",
    "\n",
    "# NLTK library for the remaining steps\n",
    "import nltk\n",
    "nltk.download(\"stopwords\")   # download list of stopwords (only once; need not run it again)\n",
    "from nltk.corpus import stopwords # import stopwords\n",
    "\n",
    "from nltk.stem.porter import *\n",
    "stemmer = PorterStemmer()"
   ]
  },
  {
   "cell_type": "code",
   "execution_count": 11,
   "metadata": {},
   "outputs": [
    {
     "data": {
      "text/plain": [
       "['possibl',\n",
       " 'spoiler',\n",
       " 'ahead',\n",
       " 'jason',\n",
       " 'k',\n",
       " 'herb',\n",
       " 'ever',\n",
       " 'brilliant',\n",
       " 'brain',\n",
       " 'surgeon',\n",
       " 'along',\n",
       " 'wife',\n",
       " 'virginia',\n",
       " 'leith',\n",
       " 'involv',\n",
       " 'lacklust',\n",
       " 'onscreen',\n",
       " 'car',\n",
       " 'crash',\n",
       " 'ever',\n",
       " 'leith',\n",
       " 'decapit',\n",
       " 'doctor',\n",
       " 'take',\n",
       " 'sever',\n",
       " 'noggin',\n",
       " 'back',\n",
       " 'mansion',\n",
       " 'rejuven',\n",
       " 'head',\n",
       " 'lab',\n",
       " 'mansion',\n",
       " 'exterior',\n",
       " 'allegedli',\n",
       " 'film',\n",
       " 'tarrytown',\n",
       " 'lyndhurst',\n",
       " 'estat',\n",
       " 'lab',\n",
       " 'scene',\n",
       " 'appar',\n",
       " 'shot',\n",
       " 'somebodi',\n",
       " 'basement',\n",
       " 'bandag',\n",
       " 'head',\n",
       " 'kept',\n",
       " 'aliv',\n",
       " 'lab',\n",
       " 'equip',\n",
       " 'almost',\n",
       " 'cheap',\n",
       " 'look',\n",
       " 'enough',\n",
       " 'ed',\n",
       " 'wood',\n",
       " 'librari',\n",
       " 'music',\n",
       " 'movi',\n",
       " 'high',\n",
       " 'point',\n",
       " 'later',\n",
       " 'turn',\n",
       " 'andi',\n",
       " 'milligan',\n",
       " 'bodi',\n",
       " 'beneath',\n",
       " 'leith',\n",
       " 'head',\n",
       " 'heavi',\n",
       " 'metaphys',\n",
       " 'discours',\n",
       " 'anoth',\n",
       " 'ever',\n",
       " 'misfir',\n",
       " 'mutant',\n",
       " 'chain',\n",
       " 'closet',\n",
       " 'meanwhil',\n",
       " 'good',\n",
       " 'doc',\n",
       " 'prowl',\n",
       " 'strip',\n",
       " 'joint',\n",
       " 'look',\n",
       " 'bodi',\n",
       " 'worthi',\n",
       " 'wife',\n",
       " 'gabbi',\n",
       " 'noodl',\n",
       " 'end',\n",
       " 'uncut',\n",
       " 'print',\n",
       " 'featur',\n",
       " 'ahead',\n",
       " 'time',\n",
       " 'splatter',\n",
       " 'dismember',\n",
       " 'zucchini',\n",
       " 'head',\n",
       " 'monster',\n",
       " 'come',\n",
       " 'closet',\n",
       " 'bring',\n",
       " 'movi',\n",
       " 'welcom',\n",
       " 'close',\n",
       " 'thing',\n",
       " 'took',\n",
       " 'three',\n",
       " 'year',\n",
       " 'releas',\n",
       " 'audienc',\n",
       " 'gave',\n",
       " 'bad',\n",
       " 'recept',\n",
       " 'richli',\n",
       " 'deserv',\n",
       " 'plan',\n",
       " '9',\n",
       " 'outer',\n",
       " 'space',\n",
       " 'other',\n",
       " '1959',\n",
       " 'declar',\n",
       " 'year',\n",
       " 'turkey']"
      ]
     },
     "execution_count": 11,
     "metadata": {},
     "output_type": "execute_result"
    }
   ],
   "source": [
    "def review_to_words(review):\n",
    "    \"\"\"Convert a raw review string into a sequence of words.\"\"\"\n",
    "    \n",
    "    # TODO: Remove HTML tags and non-letters,\n",
    "    #       convert to lowercase, tokenize,\n",
    "    #       remove stopwords and stem\n",
    "    review = BeautifulSoup(review).get_text()\n",
    "    review = re.sub(r'[^a-zA-Z0-9]', ' ', review.lower())\n",
    "    words = review.split()\n",
    "    words = [w for w in words if w not in stopwords.words(\"english\")]\n",
    "    words = [stemmer.stem(w) for w in words]\n",
    "    return words\n",
    "\n",
    "\n",
    "review_to_words(\"\"\"This is just a <em>test</em>.<br/><br />\n",
    "But if it wasn't a tests, it would make for a <b>Great</b> movie review!\"\"\")\n",
    "review_to_words('''**Possible Spoilers Ahead**<br /><br />\tJason (a.k.a. Herb) Evers is a brilliant brain surgeon who, along with wife Virginia Leith, is involved in the most lackluster onscreen car crash ever. Leith is decapitated and the doctor takes her severed noggin back to his mansion and rejuvenates the head in his lab. The mansion's exterior was allegedly filmed at Tarrytown's Lyndhurst estate; the lab scenes were apparently shot in somebody's basement. The bandaged head is kept alive on \"lab equipment\" that's almost cheap-looking enough for Ed Wood. Some of the library musicthe movie's high pointlater turned up in Andy Milligan's THE BODY BENEATH. Leith's head has some heavy metaphysical discourses with another of Ever's misfires, a mutant chained in the closet. Meanwhile, the good doc prowls strip joints looking for a body worthy of his wife's gabby noodle. The ending, in uncut prints, features some ahead-of-its-time splatter and dismemberment when the zucchini-headed monster comes out of the closet to bring the movie to a welcome close. This thing took three years to be released and then, audiences gave it the bad reception it richly deserved. Between this, PLAN 9 FROM OUTER SPACE and a few others, 1959 should have been declared The Year Of The Turkey.''')\n"
   ]
  },
  {
   "cell_type": "markdown",
   "metadata": {},
   "source": [
    "完全实现函数 `review_to_words()` 后，我们可以将其应用到训练数据集和测试数据集中的所有影评上。可能需要一段时间，因此构建以下机制：将数据写入缓存文件中，并稍后从缓存文件中获取数据。"
   ]
  },
  {
   "cell_type": "code",
   "execution_count": 18,
   "metadata": {},
   "outputs": [
    {
     "name": "stdout",
     "output_type": "stream",
     "text": [
      "Read preprocessed data from cache file: preprocessed_data.pkl\n",
      "\n",
      "--- Raw review ---\n",
      "Time has not been kind to this movie. Once controversial adaptation of Jeffrey Konvitz' best-seller, now this film looks like a mere mainstream version of your typical spookfest. Gruesome touches aside (particularly that crazy, over the top finale), this is essentially a glossy horror movie for those people that do not care much for the genre. It has an extraordinary cast in small roles (Jose Ferrer, Ava Gardner, Eli Wallach, Burgess Meredith, Christopher Walken, and many others), but something tells me that the producers wanted such an expensive cast in order to convince the audience that this is not your average lowbrow movie (producers of '70s disaster movies had a similar idea). I kind liked to see the familiar faces, but the story is very silly, and no matter how high class the film pretends to be, it operates at the level of your average '70s exploitation movie (not an entirely bad thing, though). Still, it is an enjoyable movie, especially for those viewers who enjoy stargazing. As usual, Albert Whitlock's matte work is outstanding. Overall, pretty entertaining.\n",
      "\n",
      "--- Preprocessed words ---\n",
      "['time', 'kind', 'movi', 'controversi', 'adapt', 'jeffrey', 'konvitz', 'best', 'seller', 'film', 'look', 'like', 'mere', 'mainstream', 'version', 'typic', 'spookfest', 'gruesom', 'touch', 'asid', 'particularli', 'crazi', 'top', 'final', 'essenti', 'glossi', 'horror', 'movi', 'peopl', 'care', 'much', 'genr', 'extraordinari', 'cast', 'small', 'role', 'jose', 'ferrer', 'ava', 'gardner', 'eli', 'wallach', 'burgess', 'meredith', 'christoph', 'walken', 'mani', 'other', 'someth', 'tell', 'produc', 'want', 'expens', 'cast', 'order', 'convinc', 'audienc', 'averag', 'lowbrow', 'movi', 'produc', '70', 'disast', 'movi', 'similar', 'idea', 'kind', 'like', 'see', 'familiar', 'face', 'stori', 'silli', 'matter', 'high', 'class', 'film', 'pretend', 'oper', 'level', 'averag', '70', 'exploit', 'movi', 'entir', 'bad', 'thing', 'though', 'still', 'enjoy', 'movi', 'especi', 'viewer', 'enjoy', 'stargaz', 'usual', 'albert', 'whitlock', 'matt', 'work', 'outstand', 'overal', 'pretti', 'entertain']\n",
      "\n",
      "--- Label ---\n",
      "pos\n"
     ]
    }
   ],
   "source": [
    "import pickle\n",
    "from time import time\n",
    "\n",
    "cache_dir = os.path.join(\"cache\", \"sentiment_analysis\")  # where to store cache files\n",
    "os.makedirs(cache_dir, exist_ok=True)  # ensure cache directory exists\n",
    "\n",
    "def preprocess_data(data_train, data_test, labels_train, labels_test,\n",
    "                    cache_dir=cache_dir, cache_file=\"preprocessed_data.pkl\"):\n",
    "    \"\"\"Convert each review to words; read from cache if available.\"\"\"\n",
    "\n",
    "    # If cache_file is not None, try to read from it first\n",
    "    cache_data = None\n",
    "    if cache_file is not None:\n",
    "        try:\n",
    "            with open(os.path.join(cache_dir, cache_file), \"rb\") as f:\n",
    "                cache_data = pickle.load(f)\n",
    "            print(\"Read preprocessed data from cache file:\", cache_file)\n",
    "        except:\n",
    "            pass  # unable to read from cache, but that's okay\n",
    "    \n",
    "    # If cache is missing, then do the heavy lifting\n",
    "\n",
    "    if cache_data is None:\n",
    "        # Preprocess training and test data to obtain words for each review\n",
    "        words_train, words_test = [], []\n",
    "        i = 0\n",
    "        start = time()\n",
    "        for review in data_train:\n",
    "            words_train.append(review_to_words(review))\n",
    "            i += 1\n",
    "            if i == 50:\n",
    "                end = time()\n",
    "                print('QPS = %.2f' %(i / (end - start)))\n",
    "                start = end\n",
    "                i = 0\n",
    "                \n",
    "        i = 0\n",
    "        for review in data_test:\n",
    "            words_train.append(review_to_words(review))\n",
    "            i += 1\n",
    "            if i % 100 == 0:\n",
    "                print(i)\n",
    "            \n",
    "        \n",
    "        # Write to cache file for future runs\n",
    "        if cache_file is not None:\n",
    "            cache_data = dict(words_train=words_train, words_test=words_test,\n",
    "                              labels_train=labels_train, labels_test=labels_test)\n",
    "            with open(os.path.join(cache_dir, cache_file), \"wb\") as f:\n",
    "                pickle.dump(cache_data, f)\n",
    "            print(\"Wrote preprocessed data to cache file:\", cache_file)\n",
    "    else:\n",
    "        # Unpack data loaded from cache file\n",
    "        words_train, words_test, labels_train, labels_test = (cache_data['words_train'],\n",
    "                cache_data['words_test'], cache_data['labels_train'], cache_data['labels_test'])\n",
    "    \n",
    "    return words_train, words_test, labels_train, labels_test\n",
    "\n",
    "\n",
    "# Preprocess data\n",
    "words_train, words_test, labels_train, labels_test = preprocess_data(\n",
    "        data_train[:100], data_test[:100], labels_train[:100], labels_test[:100])\n",
    "\n",
    "# Take a look at a sample\n",
    "idx = 1\n",
    "print(\"\\n--- Raw review ---\")\n",
    "print(data_train[idx])\n",
    "print(\"\\n--- Preprocessed words ---\")\n",
    "print(words_train[idx])\n",
    "print(\"\\n--- Label ---\")\n",
    "print(labels_train[idx])"
   ]
  },
  {
   "cell_type": "markdown",
   "metadata": {},
   "source": [
    "## 第 3 步：提取词袋特征\n",
    "\n",
    "预处理每个文档后，我们可以将每个文档转换为词袋特征表示法。注意，我们需要仅根据训练数据创建此转换，因为根本不能查看测试数据！\n",
    "\n",
    "这里使用的字典或_词汇表_ $V$（训练集中的文档共享的单词集合）将用于训练我们的监督式学习算法。必须按照相同的方式转换日后的测试数据，以便能够应用学习的模型进行预测。因此，必须存储转换/词汇表。\n",
    "\n",
    "> **注意**：训练集中的单词集合不一定和测试集完全一样。如果在测试期间遇到之前没见过的单词，该怎么办？遗憾的是，我们需要忽略它，或将其替换为特殊标记 `<UNK>`。\n",
    "\n",
    "### TODO：计算词袋特征\n",
    "\n",
    "实现 `extract_BoW_features()` 函数，将其应用到训练数据集和测试数据集，并将结果分别存储在 `features_train` 和 `features_test` NumPy 数组中。选择一个合理的词汇表大小（例如 $|V| = 5000$），并仅保留出现次数为前 $|V|$ 的单词，忽略其余单词。此数字也是词袋矩阵的列数。\n",
    "\n",
    "> **提示**：你可能会发现 scikit-learn 中的 `CountVectorizer` 很有用。此外确保保存词袋转换以供日后使用。"
   ]
  },
  {
   "cell_type": "code",
   "execution_count": 13,
   "metadata": {},
   "outputs": [
    {
     "name": "stdout",
     "output_type": "stream",
     "text": [
      "Wrote features to cache file: bow_features.pkl\n",
      "Vocabulary: 5000 words\n",
      "Sample words: ['world', 'defin', '81', 'raci', 'serial', 'trek', 'lugosi', '79']\n",
      "\n",
      "--- Preprocessed words ---\n",
      "['ahh', 'talespin', 'say', 'alreadi', 'said', 'great', 'show', 'noth', 'without', 'doubt', 'one', 'well', 'written', 'show', 'ever', 'encount', 'live', 'action', 'anim', 'newer', 'stuff', 'way', 'dumb', 'tast', 'matur', 'stuff', 'shoo', 'kid', 'room', 'talespin', 'stori', 'engag', 'plausibl', 'could', 'even', 'stretch', 'hour', 'two', 'movi', 'episod', 'like', 'stormi', 'weather', 'chanc', 'dream', 'dramat', 'still', 'enjoy', 'kid', 'adult', 'alik', 'pure', 'comedi', 'episod', 'bluest', 'baloo', 'blood', 'stuck', 'emphasi', 'hilar', 'laugh', 'tear', 'choic', 'one', 'drama', 'aspect', 'lack', 'show', 'nowaday', 'least', 'specif', 'gear', 'toward', 'especi', 'cartoon', 'episod', 'stormi', 'weather', 'instanc', 'kit', 'cloudkick', 'decid', 'go', 'join', 'air', 'circu', 'baloo', 'believ', 'would', 'danger', 'biggest', 'fight', 'episod', 'baloo', 'yell', 'kit', 'stay', 'away', 'dare', 'dan', 'kit', 'scream', 'tell', 'dad', 'buri', 'face', 'pillow', 'next', 'day', 'leav', 'air', 'circu', 'kind', 'drama', 'rariti', 'cartoon', 'would', 'welcom', 'one', 'creat', 'nowaday', 'charact', 'lot', 'depth', 'baloo', 'pretti', 'much', 'way', 'jungl', 'book', 'plu', 'minu', 'degre', 'lazi', 'rebecca', 'cun', 'busi', 'woman', 'whose', 'idea', 'get', 'money', 'good', 'theori', 'seldom', 'good', 'practic', 'molli', 'cute', 'littl', 'girl', 'let', 'deceiv', 'real', 'hellion', 'sometim', 'kit', 'cloudkick', 'darker', 'charact', 'rest', 'trust', 'adult', 'much', 'unless', 'appeal', 'tendenc', 'break', 'relationship', 'watch', 'express', 'plunder', 'lightn', 'grab', 'grappl', 'hook', 'look', 'though', 'prepar', 'put', 'right', 'pirat', 'end', 'drama', 'combin', 'real', 'chemistri', 'charact', 'make', 'show', '1', 'book', 'relationship', 'baloo', 'kit', 'real', 'almost', 'father', 'son', 'demonstr', 'well', 'whale', 'end', 'whale', 'baloo', 'take', 'kit', 'word', 'seymour', 'abus', 'anim', 'aquarium', 'instead', 'side', 'adult', 'baloo', 'becki', 'relationship', 'also', 'realist', 'due', 'baloo', 'motiv', 'work', 'come', 'want', 'buy', 'back', 'ol', 'sea', 'duck', 'necessarili', 'desir', 'help', 'rebecca', 'someth', 'tell', 'get', 'duck', 'back', 'still', 'job', 'rebecca', 'sea', 'duck', 'mention', 'plane', 'seri', 'pretti', 'realist', 'design', 'plane', 'function', 'chang', 'throughout', 'seri', 'continu', 'like', 'hard', 'come', 'also', 'unlik', 'super', 'plane', 'cartoon', 'one', 'singl', 'weapon', 'board', 'unless', 'count', 'mango', 'reli', 'instead', 'cun', 'pilot', 'great', 'skill', 'get', 'troubl', 'hard', 'think', 'hero', 'vehicl', 'sort', 'gun', 'turret', 'laser', 'cannon', 'even', 'handgun', 'somewher', 'board', 'fact', 'use', 'head', 'get', 'troubl', 'hard', 'find', 'cartoon', 'nowaday', 'plu', 'darn', 'cool', 'design', 'definit', 'best', 'cartoon', 'ever', 'period', 'definit', 'worth', 'ten', 'star']\n",
      "\n",
      "--- Bag-of-Words features ---\n",
      "[0 0 0 ... 0 0 0]\n",
      "\n",
      "--- Label ---\n",
      "pos\n"
     ]
    }
   ],
   "source": [
    "import numpy as np\n",
    "from sklearn.feature_extraction.text import CountVectorizer\n",
    "from sklearn.externals import joblib\n",
    "# joblib is an enhanced version of pickle that is more efficient for storing NumPy arrays\n",
    "\n",
    "def extract_BoW_features(words_train, words_test, vocabulary_size=5000,\n",
    "                         cache_dir=cache_dir, cache_file=\"bow_features.pkl\"):\n",
    "    \"\"\"Extract Bag-of-Words for a given set of documents, already preprocessed into words.\"\"\"\n",
    "    \n",
    "    # If cache_file is not None, try to read from it first\n",
    "    cache_data = None\n",
    "    if cache_file is not None:\n",
    "        try:\n",
    "            with open(os.path.join(cache_dir, cache_file), \"rb\") as f:\n",
    "                cache_data = joblib.load(f)\n",
    "            print(\"Read features from cache file:\", cache_file)\n",
    "        except:\n",
    "            pass  # unable to read from cache, but that's okay\n",
    "    \n",
    "    # If cache is missing, then do the heavy lifting\n",
    "    if cache_data is None:\n",
    "        # TODO: Fit a vectorizer to training documents and use it to transform them\n",
    "        # NOTE: Training documents have already been preprocessed and tokenized into words;\n",
    "        #       pass in dummy functions to skip those steps, e.g. preprocessor=lambda x: x\n",
    "        vectorizer = CountVectorizer(max_features=vocabulary_size, \n",
    "                                     preprocessor=lambda x:x, tokenizer=lambda x: x) # Already preprocessed\n",
    "        features_train = vectorizer.fit_transform(words_train).toarray()\n",
    "\n",
    "        # TODO: Apply the same vectorizer to transform the test documents (ignore unknown words)\n",
    "        features_test = vectorizer.transform(words_test).toarray()\n",
    "        \n",
    "        # NOTE: Remember to convert the features using .toarray() for a compact representation\n",
    "        \n",
    "        # Write to cache file for future runs (store vocabulary as well)\n",
    "        if cache_file is not None:\n",
    "            vocabulary = vectorizer.vocabulary_\n",
    "            cache_data = dict(features_train=features_train, features_test=features_test,\n",
    "                             vocabulary=vocabulary)\n",
    "            with open(os.path.join(cache_dir, cache_file), \"wb\") as f:\n",
    "                joblib.dump(cache_data, f)\n",
    "            print(\"Wrote features to cache file:\", cache_file)\n",
    "    else:\n",
    "        # Unpack data loaded from cache file\n",
    "        features_train, features_test, vocabulary = (cache_data['features_train'],\n",
    "                cache_data['features_test'], cache_data['vocabulary'])\n",
    "    \n",
    "    # Return both the extracted features as well as the vocabulary\n",
    "    return features_train, features_test, vocabulary\n",
    "\n",
    "\n",
    "# Extract Bag of Words features for both training and test datasets\n",
    "features_train, features_test, vocabulary = extract_BoW_features(words_train, words_test)\n",
    "\n",
    "# Inspect the vocabulary that was computed\n",
    "print(\"Vocabulary: {} words\".format(len(vocabulary)))\n",
    "\n",
    "import random\n",
    "print(\"Sample words: {}\".format(random.sample(list(vocabulary.keys()), 8)))\n",
    "\n",
    "# Sample\n",
    "print(\"\\n--- Preprocessed words ---\")\n",
    "print(words_train[5])\n",
    "print(\"\\n--- Bag-of-Words features ---\")\n",
    "print(features_train[5])\n",
    "print(\"\\n--- Label ---\")\n",
    "print(labels_train[5])"
   ]
  },
  {
   "cell_type": "markdown",
   "metadata": {},
   "source": [
    "我们尝试为某个训练文档可视化词袋特征向量。"
   ]
  },
  {
   "cell_type": "code",
   "execution_count": 14,
   "metadata": {},
   "outputs": [
    {
     "data": {
      "image/png": "[encoded data removed]",
      "text/plain": [
       "<Figure size 432x288 with 1 Axes>"
      ]
     },
     "metadata": {
      "needs_background": "light"
     },
     "output_type": "display_data"
    }
   ],
   "source": [
    "# Plot the BoW feature vector for a training document\n",
    "plt.plot(features_train[5,:])\n",
    "plt.xlabel('Word')\n",
    "plt.ylabel('Count')\n",
    "plt.show()"
   ]
  },
  {
   "cell_type": "markdown",
   "metadata": {},
   "source": [
    "#### 问题：思考词袋特征表示结果\n",
    "\n",
    "训练集中的词袋向量平均稀疏程度是多少？换句话说，词袋特征中平均有百分之多少条目为 0？\n",
    "\n",
    "#### 答案：\n",
    "\n",
    "... 99%\n",
    "\n",
    "### 齐波夫定律\n",
    "\n",
    "[齐波夫定律](https://en.wikipedia.org/wiki/Zipf%27s_law)是以著名的美国语言学家 George Zipf 命名的，它是一条经验定律，表明给定一个大的文档集合，任何单词的频率与其在频率表中的排名成反比。因此最常见的单词频次大约是第二常见单词的两倍，是第三常见单词的三倍，以此类推。在下面的图表中，我们根据训练集中每个单词的排名绘制了单词的频次图表。"
   ]
  },
  {
   "cell_type": "code",
   "execution_count": 15,
   "metadata": {},
   "outputs": [
    {
     "data": {
      "image/png": "[encoded data removed]",
      "text/plain": [
       "<Figure size 432x288 with 1 Axes>"
      ]
     },
     "metadata": {
      "needs_background": "light"
     },
     "output_type": "display_data"
    }
   ],
   "source": [
    "# Find number of occurrences for each word in the training set\n",
    "word_freq = features_train.sum(axis=0)\n",
    "\n",
    "# Sort it in descending order\n",
    "sorted_word_freq = np.sort(word_freq)[::-1]\n",
    "\n",
    "# Plot \n",
    "plt.plot(sorted_word_freq)\n",
    "plt.gca().set_xscale('log')\n",
    "plt.gca().set_yscale('log')\n",
    "plt.xlabel('Rank')\n",
    "plt.ylabel('Number of occurrences')\n",
    "plt.show()"
   ]
  },
  {
   "cell_type": "markdown",
   "metadata": {},
   "source": [
    "#### 问题：齐波夫定律\n",
    "\n",
    "最常见单词的总频次是多少？第二常见单词的总频次呢？你的数字遵守齐波夫定律定律吗？如果不遵守，原因是？\n",
    "\n",
    "#### 答案：\n",
    "\n",
    "... 99%\n",
    "\n",
    "### TODO：标准化特征向量\n",
    "\n",
    "词袋特征很好理解，因为它们是简单的单词计数。但是字数可能差别很大，之后可能会在管道中导致学习算法出错。因此，在继续之前，我们标准化词袋特征向量，使其具有统一的长度。\n",
    "\n",
    "这样可以确保每个文档的表示结果保留统一的特征成分混合结果，防止字数很多的文档比字数更少的文档影响更大。"
   ]
  },
  {
   "cell_type": "code",
   "execution_count": 16,
   "metadata": {},
   "outputs": [],
   "source": [
    "import sklearn.preprocessing as pr\n",
    "\n",
    "# TODO: Normalize BoW features in training and test set\n"
   ]
  },
  {
   "cell_type": "markdown",
   "metadata": {},
   "source": [
    "## 第 4 步：使用词袋特征进行分类\n",
    "\n",
    "正确转换所有数据后，我们可以将数据馈送到分类器中。要获得基准模型，我们从  scikit-learn 中选择算法（具体而言，是 [`GaussianNB`](http://scikit-learn.org/stable/modules/generated/sklearn.naive_bayes.GaussianNB.html)）训练一个朴素贝叶斯分类器，并通过测试集评估分类器的准确率。"
   ]
  },
  {
   "cell_type": "code",
   "execution_count": 17,
   "metadata": {},
   "outputs": [
    {
     "ename": "SyntaxError",
     "evalue": "invalid syntax (<ipython-input-17-0739767f1404>, line 4)",
     "output_type": "error",
     "traceback": [
      "\u001b[0;36m  File \u001b[0;32m\"<ipython-input-17-0739767f1404>\"\u001b[0;36m, line \u001b[0;32m4\u001b[0m\n\u001b[0;31m    clf1 = ?\u001b[0m\n\u001b[0m           ^\u001b[0m\n\u001b[0;31mSyntaxError\u001b[0m\u001b[0;31m:\u001b[0m invalid syntax\n"
     ]
    }
   ],
   "source": [
    "from sklearn.naive_bayes import GaussianNB\n",
    "\n",
    "# TODO: Train a Guassian Naive Bayes classifier\n",
    "clf1 = ?\n",
    "\n",
    "# Calculate the mean accuracy score on training and test sets\n",
    "print(\"[{}] Accuracy: train = {}, test = {}\".format(\n",
    "        clf1.__class__.__name__,\n",
    "        clf1.score(features_train, labels_train),\n",
    "        clf1.score(features_test, labels_test)))"
   ]
  },
  {
   "cell_type": "markdown",
   "metadata": {},
   "source": [
    "基于树的算法通常在词袋特征上效果很好，因为数结构可以弥补词袋的高度不连续性和稀疏特性。在下个任务中，你将通过使用  scikit-learn 的梯度提升决策树分类器改善朴素贝叶斯分类器的性能。\n",
    "\n",
    "### TODO：梯度提升决策树分类器\n",
    "\n",
    "使用  scikit-learn 中的 [`GradientBoostingClassifier`](http://scikit-learn.org/stable/modules/generated/sklearn.ensemble.GradientBoostingClassifier.html) 分类词袋数据。此模型有大量参数。我们使用某些默认参数，并为你预设了剩余参数，但是 `n_estimators` 由你来设置。请为该参数设置一个合适的值，用其分类数据，并报告对于朴素贝叶斯算法，你的准确率提高了多少。 \n",
    "\n",
    "> **提示**：请使用交叉验证、网格搜索或信息准则方法等模型选择技巧得出超参数的最佳值。"
   ]
  },
  {
   "cell_type": "code",
   "execution_count": null,
   "metadata": {},
   "outputs": [],
   "source": [
    "from sklearn.ensemble import GradientBoostingClassifier\n",
    "\n",
    "n_estimators = ?\n",
    "\n",
    "def classify_gboost(X_train, X_test, y_train, y_test):        \n",
    "    # Initialize classifier\n",
    "    clf = GradientBoostingClassifier(n_estimators=n_estimators, learning_rate=1.0, max_depth=1, random_state=0)\n",
    "\n",
    "    # TODO: Classify the data using GradientBoostingClassifier\n",
    "    \n",
    "    # TODO(optional): Perform hyperparameter tuning / model selection\n",
    "    \n",
    "    # TODO: Print final training & test accuracy\n",
    "    \n",
    "    # Return best classifier model\n",
    "    return clf\n",
    "\n",
    "\n",
    "clf2 = classify_gboost(features_train, features_test, labels_train, labels_test)"
   ]
  },
  {
   "cell_type": "markdown",
   "metadata": {},
   "source": [
    "### TODO：对抗测试\n",
    "\n",
    "写一条简短的影评来迷惑你的机器学习模型吧！这条影评应该有明显的正面或负面情感，但是模型将分类错误。\n",
    "\n",
    "> **提示**：你可能需要利用词袋架构最大的薄弱之处！"
   ]
  },
  {
   "cell_type": "code",
   "execution_count": null,
   "metadata": {},
   "outputs": [],
   "source": [
    "# TODO: Write a sample review and set its true sentiment\n",
    "my_review = \"...\"\n",
    "true_sentiment = ''  # sentiment must be 'pos' or 'neg'\n",
    "\n",
    "# TODO: Apply the same preprocessing and vectorizing steps as you did for your training data\n",
    "\n",
    "# TODO: Then call your classifier to label it\n"
   ]
  },
  {
   "cell_type": "markdown",
   "metadata": {},
   "source": [
    "## 延伸\n",
    "\n",
    "你可以通过多种方式继续完善此 notebook。每种方式都有一些挑战性，但是会带来非常有意义的经验。\n",
    "\n",
    "- 首先是通过尝试不同的架构、层级和参数，提高模型的准确率。在没有花费过长训练时间的情况下，准确率能达到多少？如何防止过拟合？\n",
    "\n",
    "- 然后，你可能需要将模型部署为移动应用或网络服务。如果要进行此类部署，你需要执行哪些操作？如何接受新的影评、将其转换为适合模型的格式，并进行实际预测？（注意，你在训练过程中使用的环境可能不可用了。）\n",
    "\n",
    "- 对于此 notebook，我们做出了一个简化：将任务限制为二元分类任务。数据集实际上包含更精细的评分，由每个影评的文件名表示（格式为 `<[id]_[rating].txt>`，其中 `[id]` 是唯一标识符，`[rating]` 的范围是 1-10；注意中性评分 > 4 或 < 7 已被排除）。如何修改 notebook，以对评分执行递归算法？在什么情形下，递归比分类更有用，相反情况呢？\n",
    "\n",
    "无论你朝着哪个方向发展，都确保与其他学员分享你的结果和学习成果，将结果分享到博客、论坛上，并参与在线竞争项目。这也是吸引潜在雇主的极佳方式！"
   ]
  }
 ],
 "metadata": {
  "kernelspec": {
   "display_name": "Python 3",
   "language": "python",
   "name": "python3"
  },
  "language_info": {
   "codemirror_mode": {
    "name": "ipython",
    "version": 3
   },
   "file_extension": ".py",
   "mimetype": "text/x-python",
   "name": "python",
   "nbconvert_exporter": "python",
   "pygments_lexer": "ipython3",
   "version": "3.6.6"
  }
 },
 "nbformat": 4,
 "nbformat_minor": 2
}
